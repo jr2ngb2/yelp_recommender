{
  "nbformat": 4,
  "nbformat_minor": 0,
  "metadata": {
    "colab": {
      "name": "yelp1.ipynb",
      "version": "0.3.2",
      "provenance": [],
      "collapsed_sections": [],
      "toc_visible": true,
      "include_colab_link": true
    },
    "kernelspec": {
      "name": "python3",
      "display_name": "Python 3"
    },
    "accelerator": "GPU"
  },
  "cells": [
    {
      "cell_type": "markdown",
      "metadata": {
        "id": "view-in-github",
        "colab_type": "text"
      },
      "source": [
        "<a href=\"https://colab.research.google.com/github/jr2ngb2/yelp_recommender/blob/master/yelp1.ipynb\" target=\"_parent\"><img src=\"https://colab.research.google.com/assets/colab-badge.svg\" alt=\"Open In Colab\"/></a>"
      ]
    },
    {
      "metadata": {
        "id": "kvD4HBMi0ohY",
        "colab_type": "text"
      },
      "cell_type": "markdown",
      "source": [
        "# Install Java, Spark, and Findspark\n",
        "This installs Apache Spark 2.3.1, Java 8, and [Findspark](https://github.com/minrk/findspark), a library that makes it easy for Python to find Spark."
      ]
    },
    {
      "metadata": {
        "id": "H1AZVhDl-0c1",
        "colab_type": "code",
        "colab": {}
      },
      "cell_type": "code",
      "source": [
        ""
      ],
      "execution_count": 0,
      "outputs": []
    },
    {
      "metadata": {
        "id": "fUhBhrGmyAvs",
        "colab_type": "code",
        "colab": {}
      },
      "cell_type": "code",
      "source": [
        "!apt-get install openjdk-8-jdk-headless -qq > /dev/null\n",
        "!wget -q http://www-us.apache.org/dist/spark/spark-2.3.1/spark-2.3.1-bin-hadoop2.7.tgz\n",
        "!tar xf spark-2.3.1-bin-hadoop2.7.tgz\n",
        "!pip install -q findspark"
      ],
      "execution_count": 0,
      "outputs": []
    },
    {
      "metadata": {
        "id": "b4Kjvk_h1AHl",
        "colab_type": "text"
      },
      "cell_type": "markdown",
      "source": [
        "# Set Environment Variables\n",
        "Set the locations where Spark and Java are installed."
      ]
    },
    {
      "metadata": {
        "id": "8Xnb_ePUyQIL",
        "colab_type": "code",
        "colab": {}
      },
      "cell_type": "code",
      "source": [
        "import os\n",
        "os.environ[\"JAVA_HOME\"] = \"/usr/lib/jvm/java-8-openjdk-amd64\"\n",
        "os.environ[\"SPARK_HOME\"] = \"/content/spark-2.3.1-bin-hadoop2.7\""
      ],
      "execution_count": 0,
      "outputs": []
    },
    {
      "metadata": {
        "id": "NwU28K5f1H3P",
        "colab_type": "text"
      },
      "cell_type": "markdown",
      "source": [
        "# Start a SparkSession\n",
        "This will start a local Spark session."
      ]
    },
    {
      "metadata": {
        "id": "zgReRGl0y23D",
        "colab_type": "code",
        "colab": {}
      },
      "cell_type": "code",
      "source": [
        "import findspark\n",
        "findspark.init()\n",
        "from pyspark.sql import SparkSession\n",
        "\n",
        "spark = SparkSession.builder.master(\"local[*]\").getOrCreate()\n",
        "spark.stop()"
      ],
      "execution_count": 0,
      "outputs": []
    },
    {
      "metadata": {
        "id": "T3ULPx4Y1LiR",
        "colab_type": "text"
      },
      "cell_type": "markdown",
      "source": [
        ""
      ]
    },
    {
      "metadata": {
        "id": "XJp8ZI-VzYEz",
        "colab_type": "code",
        "colab": {}
      },
      "cell_type": "code",
      "source": [
        "df = spark.createDataFrame([{\"hello\": \"world\"} for x in range(1000)])\n",
        "df.show(3)"
      ],
      "execution_count": 0,
      "outputs": []
    },
    {
      "metadata": {
        "id": "RuF64lz7uDIp",
        "colab_type": "code",
        "outputId": "a43e3731-8ac0-4b77-d45f-f45c2ae0c7a2",
        "colab": {
          "base_uri": "https://localhost:8080/",
          "height": 241
        }
      },
      "cell_type": "code",
      "source": [
        "!pip install pyspark"
      ],
      "execution_count": 0,
      "outputs": [
        {
          "output_type": "stream",
          "text": [
            "Collecting pyspark\n",
            "\u001b[?25l  Downloading https://files.pythonhosted.org/packages/5e/cb/d8ff49ba885e2c88b8cf2967edd84235ffa9ac301bffef657dfa5605a112/pyspark-2.3.2.tar.gz (211.9MB)\n",
            "\u001b[K    100% |████████████████████████████████| 211.9MB 147kB/s \n",
            "\u001b[?25hCollecting py4j==0.10.7 (from pyspark)\n",
            "\u001b[?25l  Downloading https://files.pythonhosted.org/packages/e3/53/c737818eb9a7dc32a7cd4f1396e787bd94200c3997c72c1dbe028587bd76/py4j-0.10.7-py2.py3-none-any.whl (197kB)\n",
            "\u001b[K    100% |████████████████████████████████| 204kB 29.3MB/s \n",
            "\u001b[?25hBuilding wheels for collected packages: pyspark\n",
            "  Running setup.py bdist_wheel for pyspark ... \u001b[?25l-\b \b\\\b \b|\b \b/\b \b-\b \b\\\b \b|\b \b/\b \b-\b \b\\\b \b|\b \b/\b \b-\b \b\\\b \b|\b \b/\b \b-\b \b\\\b \b|\b \b/\b \b-\b \b\\\b \b|\b \b/\b \b-\b \b\\\b \b|\b \b/\b \b-\b \b\\\b \b|\b \b/\b \b-\b \b\\\b \b|\b \b/\b \b-\b \b\\\b \b|\b \b/\b \b-\b \b\\\b \b|\b \b/\b \b-\b \b\\\b \b|\b \b/\b \b-\b \b\\\b \b|\b \b/\b \b-\b \b\\\b \b|\b \b/\b \b-\b \b\\\b \b|\b \b/\b \bdone\n",
            "\u001b[?25h  Stored in directory: /root/.cache/pip/wheels/be/7d/34/cd3cfbc75d8b6b6ae0658e5425348560b86d187fe3e53832cc\n",
            "Successfully built pyspark\n",
            "Installing collected packages: py4j, pyspark\n",
            "Successfully installed py4j-0.10.7 pyspark-2.3.2\n"
          ],
          "name": "stdout"
        }
      ]
    },
    {
      "metadata": {
        "id": "uapGGlunXrTU",
        "colab_type": "code",
        "outputId": "111e88d7-7e89-47af-9d2f-dcbe9684c667",
        "colab": {
          "base_uri": "https://localhost:8080/",
          "height": 34
        }
      },
      "cell_type": "code",
      "source": [
        "cd /content"
      ],
      "execution_count": 0,
      "outputs": [
        {
          "output_type": "stream",
          "text": [
            "/content\n"
          ],
          "name": "stdout"
        }
      ]
    },
    {
      "metadata": {
        "id": "cQGJFgx2vl-W",
        "colab_type": "code",
        "colab": {}
      },
      "cell_type": "code",
      "source": [
        "from pyspark.sql import SparkSession\n",
        "spark = SparkSession.builder.appName('kq').getOrCreate()\n",
        "from pyspark.ml.recommendation import ALS\n",
        "from pyspark.ml.evaluation import RegressionEvaluator\n",
        "spark.stop()\n"
      ],
      "execution_count": 0,
      "outputs": []
    },
    {
      "metadata": {
        "id": "YguGIzhmwHm0",
        "colab_type": "code",
        "colab": {}
      },
      "cell_type": "code",
      "source": [
        ""
      ],
      "execution_count": 0,
      "outputs": []
    },
    {
      "metadata": {
        "id": "kwBzJN7ywccb",
        "colab_type": "code",
        "outputId": "28b47c3c-48a9-401c-a02c-6180b1ae827f",
        "colab": {
          "base_uri": "https://localhost:8080/",
          "height": 34
        }
      },
      "cell_type": "code",
      "source": [
        "df.columns"
      ],
      "execution_count": 0,
      "outputs": [
        {
          "output_type": "execute_result",
          "data": {
            "text/plain": [
              "['_c0', '_c1', '_c2', '_c3']"
            ]
          },
          "metadata": {
            "tags": []
          },
          "execution_count": 85
        }
      ]
    },
    {
      "metadata": {
        "id": "em13iwJ14d5O",
        "colab_type": "code",
        "colab": {}
      },
      "cell_type": "code",
      "source": [
        "predictions.describe().show()"
      ],
      "execution_count": 0,
      "outputs": []
    },
    {
      "metadata": {
        "id": "3daXvZEvCG1n",
        "colab_type": "code",
        "colab": {}
      },
      "cell_type": "code",
      "source": [
        "predictions = predictions.na.drop()"
      ],
      "execution_count": 0,
      "outputs": []
    },
    {
      "metadata": {
        "id": "nCkCSjGe-Xfg",
        "colab_type": "code",
        "colab": {}
      },
      "cell_type": "code",
      "source": [
        ""
      ],
      "execution_count": 0,
      "outputs": []
    },
    {
      "metadata": {
        "id": "_hgJeOSP3fY1",
        "colab_type": "code",
        "colab": {}
      },
      "cell_type": "code",
      "source": [
        "df.count()"
      ],
      "execution_count": 0,
      "outputs": []
    },
    {
      "metadata": {
        "id": "FdUSpktc2Q6x",
        "colab_type": "code",
        "colab": {}
      },
      "cell_type": "code",
      "source": [
        "df.describe().show()"
      ],
      "execution_count": 0,
      "outputs": []
    },
    {
      "metadata": {
        "id": "Q5KWUtzA1uP8",
        "colab_type": "code",
        "colab": {}
      },
      "cell_type": "code",
      "source": [
        "df = df.na.fill(0)"
      ],
      "execution_count": 0,
      "outputs": []
    },
    {
      "metadata": {
        "id": "8d6VURwsygii",
        "colab_type": "code",
        "colab": {}
      },
      "cell_type": "code",
      "source": [
        ""
      ],
      "execution_count": 0,
      "outputs": []
    },
    {
      "metadata": {
        "id": "aO_8yKm6vO-5",
        "colab_type": "code",
        "colab": {}
      },
      "cell_type": "code",
      "source": [
        "!unzip ml-20m.zip"
      ],
      "execution_count": 0,
      "outputs": []
    },
    {
      "metadata": {
        "id": "mEIBs3nRKQLi",
        "colab_type": "code",
        "outputId": "d1bed89b-5239-4dcf-8abd-0e3baa4eb778",
        "colab": {
          "base_uri": "https://localhost:8080/",
          "height": 224
        }
      },
      "cell_type": "code",
      "source": [
        "!pip install kaggle"
      ],
      "execution_count": 0,
      "outputs": [
        {
          "output_type": "stream",
          "text": [
            "Requirement already satisfied: kaggle in /usr/local/lib/python3.6/dist-packages (1.5.0)\n",
            "Requirement already satisfied: tqdm in /usr/local/lib/python3.6/dist-packages (from kaggle) (4.28.1)\n",
            "Requirement already satisfied: python-dateutil in /usr/local/lib/python3.6/dist-packages (from kaggle) (2.5.3)\n",
            "Requirement already satisfied: python-slugify in /usr/local/lib/python3.6/dist-packages (from kaggle) (1.2.6)\n",
            "Requirement already satisfied: requests in /usr/local/lib/python3.6/dist-packages (from kaggle) (2.18.4)\n",
            "Requirement already satisfied: urllib3<1.23.0,>=1.15 in /usr/local/lib/python3.6/dist-packages (from kaggle) (1.22)\n",
            "Requirement already satisfied: six>=1.10 in /usr/local/lib/python3.6/dist-packages (from kaggle) (1.11.0)\n",
            "Requirement already satisfied: certifi in /usr/local/lib/python3.6/dist-packages (from kaggle) (2018.10.15)\n",
            "Requirement already satisfied: Unidecode>=0.04.16 in /usr/local/lib/python3.6/dist-packages (from python-slugify->kaggle) (1.0.22)\n",
            "Requirement already satisfied: idna<2.7,>=2.5 in /usr/local/lib/python3.6/dist-packages (from requests->kaggle) (2.6)\n",
            "Requirement already satisfied: chardet<3.1.0,>=3.0.2 in /usr/local/lib/python3.6/dist-packages (from requests->kaggle) (3.0.4)\n"
          ],
          "name": "stdout"
        }
      ]
    },
    {
      "metadata": {
        "id": "YKQm1hhgKSac",
        "colab_type": "code",
        "colab": {}
      },
      "cell_type": "code",
      "source": [
        "!export KAGGLE_USERNAME=jr2ngb\n",
        "!export KAGGLE_KEY=0b5280840c04e925c5fedda37f3078eb"
      ],
      "execution_count": 0,
      "outputs": []
    },
    {
      "metadata": {
        "id": "blWQMAh_LtUw",
        "colab_type": "code",
        "outputId": "8eca8b06-574c-400a-ad8f-a6ab0112eec2",
        "colab": {
          "base_uri": "https://localhost:8080/",
          "height": 34
        }
      },
      "cell_type": "code",
      "source": [
        "cd spark-2.3.1-bin-hadoop2.7"
      ],
      "execution_count": 0,
      "outputs": [
        {
          "output_type": "stream",
          "text": [
            "/content/spark-2.3.1-bin-hadoop2.7\n"
          ],
          "name": "stdout"
        }
      ]
    },
    {
      "metadata": {
        "id": "7dIPP9KpLNJl",
        "colab_type": "code",
        "outputId": "cc382a66-eb1a-48a9-c1f3-f129850e3c1b",
        "colab": {
          "base_uri": "https://localhost:8080/",
          "height": 34
        }
      },
      "cell_type": "code",
      "source": [
        "cd .."
      ],
      "execution_count": 0,
      "outputs": [
        {
          "output_type": "stream",
          "text": [
            "/content\n"
          ],
          "name": "stdout"
        }
      ]
    },
    {
      "metadata": {
        "id": "okrtGvyKL6yl",
        "colab_type": "code",
        "colab": {}
      },
      "cell_type": "code",
      "source": [
        "mkdir .kaggle"
      ],
      "execution_count": 0,
      "outputs": []
    },
    {
      "metadata": {
        "id": "Qkf_FDTi5-cF",
        "colab_type": "code",
        "colab": {}
      },
      "cell_type": "code",
      "source": [
        "!mkdir ~/.kaggle"
      ],
      "execution_count": 0,
      "outputs": []
    },
    {
      "metadata": {
        "id": "FNa7XacdN_Xu",
        "colab_type": "code",
        "colab": {}
      },
      "cell_type": "code",
      "source": [
        "!cp /content/kaggle.json ~/.kaggle/"
      ],
      "execution_count": 0,
      "outputs": []
    },
    {
      "metadata": {
        "id": "UcTvypu36X_1",
        "colab_type": "code",
        "outputId": "7aa1705c-8468-4c6c-a2b1-3edc642d4050",
        "colab": {
          "base_uri": "https://localhost:8080/",
          "height": 34
        }
      },
      "cell_type": "code",
      "source": [
        "cd /content"
      ],
      "execution_count": 0,
      "outputs": [
        {
          "output_type": "stream",
          "text": [
            "/content\n"
          ],
          "name": "stdout"
        }
      ]
    },
    {
      "metadata": {
        "id": "g63zTySe693W",
        "colab_type": "code",
        "outputId": "740b95a3-bd82-41cb-f4c4-bfd5e62bc895",
        "colab": {
          "base_uri": "https://localhost:8080/",
          "height": 105
        }
      },
      "cell_type": "code",
      "source": [
        "!kaggle datasets download -d yelp-dataset/yelp-dataset"
      ],
      "execution_count": 0,
      "outputs": [
        {
          "output_type": "stream",
          "text": [
            "Warning: Your Kaggle API key is readable by otherusers on this system! To fix this, you can run'chmod 600 /root/.kaggle/kaggle.json'\n",
            "Downloading yelp-dataset.zip to /content\n",
            "100% 2.93G/2.93G [01:15<00:00, 42.6MB/s]\n",
            "100% 2.93G/2.93G [01:15<00:00, 41.6MB/s]\n"
          ],
          "name": "stdout"
        }
      ]
    },
    {
      "metadata": {
        "id": "96LIaJUg854y",
        "colab_type": "code",
        "outputId": "d749bae5-c680-42ab-b585-4d27b6ff7ca2",
        "colab": {
          "base_uri": "https://localhost:8080/",
          "height": 136
        }
      },
      "cell_type": "code",
      "source": [
        "!unzip yelp-dataset"
      ],
      "execution_count": 0,
      "outputs": [
        {
          "output_type": "stream",
          "text": [
            "Archive:  yelp-dataset.zip\n",
            "  inflating: yelp_academic_dataset_user.json  \n",
            "  inflating: yelp_academic_dataset_checkin.json  \n",
            "  inflating: Dataset_Challenge_Dataset_Agreement.pdf  \n",
            "  inflating: yelp_academic_dataset_tip.json  \n",
            "  inflating: yelp_academic_dataset_review.json  \n",
            "  inflating: yelp_academic_dataset_business.json  \n"
          ],
          "name": "stdout"
        }
      ]
    },
    {
      "metadata": {
        "id": "kphkrTZp9Aiy",
        "colab_type": "code",
        "colab": {}
      },
      "cell_type": "code",
      "source": [
        ""
      ],
      "execution_count": 0,
      "outputs": []
    },
    {
      "metadata": {
        "id": "jFUFDwkG8vUj",
        "colab_type": "code",
        "outputId": "3511b908-4881-40d8-a884-92272a8d504c",
        "colab": {
          "base_uri": "https://localhost:8080/",
          "height": 34
        }
      },
      "cell_type": "code",
      "source": [
        "cd /content/"
      ],
      "execution_count": 0,
      "outputs": [
        {
          "output_type": "stream",
          "text": [
            "/content\n"
          ],
          "name": "stdout"
        }
      ]
    },
    {
      "metadata": {
        "id": "YOpaegdZ7Hcf",
        "colab_type": "code",
        "colab": {}
      },
      "cell_type": "code",
      "source": [
        "!ls"
      ],
      "execution_count": 0,
      "outputs": []
    },
    {
      "metadata": {
        "id": "lHH6tnSs7sRQ",
        "colab_type": "code",
        "colab": {}
      },
      "cell_type": "code",
      "source": [
        "sc.stop()"
      ],
      "execution_count": 0,
      "outputs": []
    },
    {
      "metadata": {
        "id": "5j02m57tPTlg",
        "colab_type": "code",
        "colab": {}
      },
      "cell_type": "code",
      "source": [
        "import json"
      ],
      "execution_count": 0,
      "outputs": []
    },
    {
      "metadata": {
        "id": "LXOGxZVR9wKi",
        "colab_type": "code",
        "colab": {}
      },
      "cell_type": "code",
      "source": [
        "from pyspark import SparkContext,SparkConf\n",
        "conf =  SparkConf().setAppName(\"recom1\")\n",
        "sc = SparkContext(conf=conf)\n"
      ],
      "execution_count": 0,
      "outputs": []
    },
    {
      "metadata": {
        "id": "a7D3pJXfBR4X",
        "colab_type": "code",
        "colab": {}
      },
      "cell_type": "code",
      "source": [
        "review_file = \"/content/yelp_academic_dataset_review.json\"\n",
        "review_raw_rdd = sc.textFile(review_file)\n",
        "data = review_raw_rdd.map(lambda line : json.loads(line))\n",
        "review_ids = data.map(lambda line : (line['user_id'],line['business_id'],line['stars'])).cache()"
      ],
      "execution_count": 0,
      "outputs": []
    },
    {
      "metadata": {
        "id": "lGc5V6VU0mBP",
        "colab_type": "code",
        "outputId": "09e0ca2c-e1fa-4f52-b786-8a93b8ba5f79",
        "colab": {
          "base_uri": "https://localhost:8080/",
          "height": 6157
        }
      },
      "cell_type": "code",
      "source": [
        "data.take(40)"
      ],
      "execution_count": 0,
      "outputs": [
        {
          "output_type": "execute_result",
          "data": {
            "text/plain": [
              "[{'business_id': 'iCQpiavjjPzJ5_3gPD5Ebg',\n",
              "  'cool': 0,\n",
              "  'date': '2011-02-25',\n",
              "  'funny': 0,\n",
              "  'review_id': 'x7mDIiDB3jEiPGPHOmDzyw',\n",
              "  'stars': 2,\n",
              "  'text': \"The pizza was okay. Not the best I've had. I prefer Biaggio's on Flamingo / Fort Apache. The chef there can make a MUCH better NY style pizza. The pizzeria @ Cosmo was over priced for the quality and lack of personality in the food. Biaggio's is a much better pick if youre going for italian - family owned, home made recipes, people that actually CARE if you like their food. You dont get that at a pizzeria in a casino. I dont care what you say...\",\n",
              "  'useful': 0,\n",
              "  'user_id': 'msQe1u7Z_XuqjGoqhB0J5g'},\n",
              " {'business_id': 'pomGBqfbxcqPv14c3XH-ZQ',\n",
              "  'cool': 0,\n",
              "  'date': '2012-11-13',\n",
              "  'funny': 0,\n",
              "  'review_id': 'dDl8zu1vWPdKGihJrwQbpw',\n",
              "  'stars': 5,\n",
              "  'text': 'I love this place! My fiance And I go here atleast once a week. The portions are huge! Food is amazing. I love their carne asada. They have great lunch specials... Leticia is super nice and cares about what you think of her restaurant. You have to try their cheese enchiladas too the sauce is different And amazing!!!',\n",
              "  'useful': 0,\n",
              "  'user_id': 'msQe1u7Z_XuqjGoqhB0J5g'},\n",
              " {'business_id': 'jtQARsP6P-LbkyjbO1qNGg',\n",
              "  'cool': 1,\n",
              "  'date': '2014-10-23',\n",
              "  'funny': 1,\n",
              "  'review_id': 'LZp4UX5zK3e-c5ZGSeo3kA',\n",
              "  'stars': 1,\n",
              "  'text': 'Terrible. Dry corn bread. Rib tips were all fat and mushy and had no flavor. If you want bbq in this neighborhood go to john mulls roadkill grill. Trust me.',\n",
              "  'useful': 3,\n",
              "  'user_id': 'msQe1u7Z_XuqjGoqhB0J5g'},\n",
              " {'business_id': 'elqbBhBfElMNSrjFqW3now',\n",
              "  'cool': 0,\n",
              "  'date': '2011-02-25',\n",
              "  'funny': 0,\n",
              "  'review_id': 'Er4NBWCmCD4nM8_p1GRdow',\n",
              "  'stars': 2,\n",
              "  'text': 'Back in 2005-2007 this place was my FAVORITE thai place EVER. I\\'d go here ALLLLL the time. I never had any complaints. Once they started to get more known and got busy, their service started to suck and their portion sizes got cut in half. I have a huge problem with paying MORE for way less food. The last time I went there I had the Pork Pad se Ew and it tasted good, but I finished my plate and was still hungry. I used to know the manager here and she would greet me with a \"Hello Melissa, nice to see you again, diet coke & pad thai or pad se ew?\" Now a days, I know she still knows me but she disregards my presence. Also, I had asked her what was up with the new portion sizes and she had no answer for me. Great food but not worth the money. I havent been back in over a year because I refuse to pay $10-15 for dinner and still be hungry after. Sorry PinKaow, you are not what you used to be!!',\n",
              "  'useful': 2,\n",
              "  'user_id': 'msQe1u7Z_XuqjGoqhB0J5g'},\n",
              " {'business_id': 'Ums3gaP2qM3W1XcA5r6SsQ',\n",
              "  'cool': 0,\n",
              "  'date': '2014-09-05',\n",
              "  'funny': 0,\n",
              "  'review_id': 'jsDu6QEJHbwP2Blom1PLCA',\n",
              "  'stars': 5,\n",
              "  'text': 'Delicious healthy food. The steak is amazing. Fish and pork are awesome too. Service is above and beyond. Not a bad thing to say about this place. Worth every penny!',\n",
              "  'useful': 0,\n",
              "  'user_id': 'msQe1u7Z_XuqjGoqhB0J5g'},\n",
              " {'business_id': 'vgfcTvK81oD4r50NMjU2Ag',\n",
              "  'cool': 0,\n",
              "  'date': '2011-02-25',\n",
              "  'funny': 0,\n",
              "  'review_id': 'pfavA0hr3nyqO61oupj-lA',\n",
              "  'stars': 1,\n",
              "  'text': 'This place sucks. The customer service is horrible. They dont serve food unless you order a pizza from a neighboring restaurant. Who does that? They dont control their crowd. Many times I\\'ve gone I\\'ve seen fights. The bartenders suck - I\\'ve almost got in a fight with one because she was a complete bitch. Refused to serve me a drink because she was \"busy\" celebrating her friends birthday BEHIND THE BAR. This place is ridiculous. I will NEVER go there again.. EVER.',\n",
              "  'useful': 2,\n",
              "  'user_id': 'msQe1u7Z_XuqjGoqhB0J5g'},\n",
              " {'business_id': 'AxeQEz3-s9_1TyIo-G7UQw',\n",
              "  'cool': 0,\n",
              "  'date': '2011-10-10',\n",
              "  'funny': 0,\n",
              "  'review_id': 'brokEno2n7s4vrwmmUdr9w',\n",
              "  'stars': 5,\n",
              "  'text': \"If you like Thai food, you have to try the original thai bbq. Their pad se ew is to DIE for. Their thai egg rolls are delicious. Basil beef will not let you down (its not on the menu anymore, you have to ask for it!) \\n\\nYes, the building is not as fancy as some other places. Yes, i've batted a fly off my plate more than once. Yes, I do NOT go to the bathroom their because I dont even WANT to know what it looks like... \\n\\nBUT.. the thai food is the best in town. The service rocks. And you can get a $25 gift cert. on Restaurant.com for $2. Can you beat that? I think NOT.\\n\\nThis is the only place my husband and I go for anniversarys, date nights, birthdays.. anything!! I recommend it to everyone I know. If you KNOW good thai food, go here.\",\n",
              "  'useful': 1,\n",
              "  'user_id': 'msQe1u7Z_XuqjGoqhB0J5g'},\n",
              " {'business_id': 'zdE82PiD6wquvjYLyhOJNA',\n",
              "  'cool': 0,\n",
              "  'date': '2012-04-18',\n",
              "  'funny': 1,\n",
              "  'review_id': 'kUZWBVZvhWuC8TWUg5AYyA',\n",
              "  'stars': 5,\n",
              "  'text': 'AMAZING!!!\\n\\n I was referred here by a friend and at first thought \"Korean and Mexican?? WEIRD... i dont know\"... but my husband and I were in the area and thought why not, lets try it... after my friend had nothing but great things to say about this place. We tried the chimichanga and it was ABSOLUTELY AMAZING.... We actually did 1/2 chicken 1/2 beef (have you EVER been to a place that will make a burrito half and half? i havent!) The meat has fantastic flavor. I\\'m not a beef girl but i\\'d order a whole plate of their beef - its that good. The chimichanga was HUGE enough for both of us to share it (and my husband also had a beef taco which also was delicious) and we were FULL and it was $11 total with drinks. YOu cant beat that.\\n\\nTHe service was great. The server was so nice and attentive- you could tell she was the owner. \\n\\nThe only thing I\\'d change is their chips they serve. They were burnt, too thick and kind of bland but their salsa is great. And lets face it, i\\'m fat so I we ate two baskets anyway so they cant be that bad. lol\\n\\nAll in all, food was delicious, A LOT of food for cheap, great prices, great service great flavor. Hell even my burps taste delicious. Bahaha!',\n",
              "  'useful': 0,\n",
              "  'user_id': 'msQe1u7Z_XuqjGoqhB0J5g'},\n",
              " {'business_id': 'EAwh1OmG6t6p3nRaZOW_AA',\n",
              "  'cool': 0,\n",
              "  'date': '2011-02-25',\n",
              "  'funny': 0,\n",
              "  'review_id': 'wcqt0III88LEcm19IxFFyA',\n",
              "  'stars': 4,\n",
              "  'text': 'Ribs = amazing\\n2 hour wait time= not so amazing, but understandable. \\n\\nThis place would get 5 stars if they expanded their BBQ restaurant. Their ribs are AMAZING. You get SO much food for the price and it tastes sooo good. Plus, the two hour wait isnt always a bad thing because it gives you an excuse to drink and gamble while you wait!',\n",
              "  'useful': 0,\n",
              "  'user_id': 'msQe1u7Z_XuqjGoqhB0J5g'},\n",
              " {'business_id': 'atVh8viqTj-sqDJ35tAYVg',\n",
              "  'cool': 1,\n",
              "  'date': '2012-11-09',\n",
              "  'funny': 2,\n",
              "  'review_id': 'LWUtqzNthMM3vpWZIFBlPw',\n",
              "  'stars': 2,\n",
              "  'text': \"Food is pretty good, not gonna lie. BUT you have to make sacrifices if you choose to eat there. It literally takes an hour to an hour and a half to deliver food. Seriously. EVERY SINGLE TIME. Doesnt matter if we order at 8am, 10am or 1pm. Never fails, they take F-O-R-E-V-E-R. If you dont get what you ordered or you are upset by them delivering your breakfast around LUNCH time, be ready to have the owner talk down to you and be a total bitch to you for i dont know, just wanting what you pay for?! \\n\\nIts over priced. But its decently tasteful food. Takes forever. Owners a witch. And i'm pretty sure that they continuing forget to pack my extra ranch just to piss me off. \\n\\nEnd Rant. \\n\\nPS- I've never gone in there to eat because i frankly, i'd rather tip the nice delivery driver then the ignorant imbeciles that work in the dining area. \\n\\nPPS- My hot chocolate today was cold. They should call it Cold Chocolate. Or start caring if their hot chocolate is hot. One of the two would be great!\",\n",
              "  'useful': 1,\n",
              "  'user_id': 'msQe1u7Z_XuqjGoqhB0J5g'},\n",
              " {'business_id': 'yFumR3CWzpfvTH2FCthvVw',\n",
              "  'cool': 0,\n",
              "  'date': '2016-06-15',\n",
              "  'funny': 0,\n",
              "  'review_id': 'STiFMww2z31siPY7BWNC2g',\n",
              "  'stars': 5,\n",
              "  'text': 'I have been an Emerald Club member for a number of years.  I have always been very satisfied with their vehicles and customer service.  This recent visit to Pittsburgh was no exception.',\n",
              "  'useful': 0,\n",
              "  'user_id': 'TlvV-xJhmh7LCwJYXkV-cg'},\n",
              " {'business_id': 'UBv8heCQR0RPnUQG0zkXIQ',\n",
              "  'cool': 0,\n",
              "  'date': '2016-09-23',\n",
              "  'funny': 0,\n",
              "  'review_id': 'HkYqGb0Gplmmk-xlHTRBoA',\n",
              "  'stars': 1,\n",
              "  'text': 'The score should be negative. Its HORRIBLE. The have like 6-7 items in their buffet. No naans or salad. The items were either bland or stale. My friend had a potato curry which was completely stale without salt. The biriyani was okayish but bland. Would never recommend to anyone.',\n",
              "  'useful': 0,\n",
              "  'user_id': 'NhOc64RsrTT1Dls50yYW8g'},\n",
              " {'business_id': 'hdgYnadxg0GANhWOJabr2g',\n",
              "  'cool': 0,\n",
              "  'date': '2014-08-23',\n",
              "  'funny': 0,\n",
              "  'review_id': 'RgqWdZA4xR023iP3T6jVfA',\n",
              "  'stars': 5,\n",
              "  'text': 'I went there twice and I am pretty happy with my haircut. The people are  really friendly. Would definitely go again.',\n",
              "  'useful': 0,\n",
              "  'user_id': 'NhOc64RsrTT1Dls50yYW8g'},\n",
              " {'business_id': 'yEOu75XjwczngvWWlr0M_A',\n",
              "  'cool': 0,\n",
              "  'date': '2016-02-17',\n",
              "  'funny': 0,\n",
              "  'review_id': '-STQDcMcBcWX0H_NrsfR2Q',\n",
              "  'stars': 4,\n",
              "  'text': 'Great for the price, only $25 for long hair! Was hesitant about dry cut but it turned out good!',\n",
              "  'useful': 1,\n",
              "  'user_id': 'LKcdcMrq2xDzIThSHiZmLg'},\n",
              " {'business_id': 'f5O7v_X_jCg2itqacRfxhg',\n",
              "  'cool': 0,\n",
              "  'date': '2017-10-12',\n",
              "  'funny': 0,\n",
              "  'review_id': 'kS4hrhEScwB9V5JATYjvVQ',\n",
              "  'stars': 5,\n",
              "  'text': \"Sansotei serves some top notch ramen. They take no reservations, so my company of five had to wait outside for about half an hour. I guess it's normal for Saturday night. Unlike my favorite ramen place in NYC you can only order what's on a menu. No deviations or improvisations whatsoever. Our waitress didn't speak much English, and even after writing everything down still managed to make a mistake or two. But, my spicy sesame ramen called Tan Tan was exceptional. I can tell you that. Just the right thickness of broth, and taste - omg.\",\n",
              "  'useful': 0,\n",
              "  'user_id': 'hxqo4NyJFfeOmuoVi--s1A'},\n",
              " {'business_id': 'XqNDr54eLDLRfZwo4l4dVA',\n",
              "  'cool': 0,\n",
              "  'date': '2015-09-22',\n",
              "  'funny': 0,\n",
              "  'review_id': '5um5SX-Lbgik5dwUGe2jFw',\n",
              "  'stars': 4,\n",
              "  'text': \"Of the several places to get bagels in Oakland, these bagels are the best. Really fresh and tasty and they taste homemade.\\n\\nHowever, I wasn't crazy about their bagel and egg sandwiches.\",\n",
              "  'useful': 0,\n",
              "  'user_id': 'eG6HneK9zLcuZpVuKcsCGQ'},\n",
              " {'business_id': '0bjFYstj8USMzEV4ZQldjA',\n",
              "  'cool': 0,\n",
              "  'date': '2017-01-19',\n",
              "  'funny': 0,\n",
              "  'review_id': 'VKGvSe0SmYcFc5PqjbxLDQ',\n",
              "  'stars': 5,\n",
              "  'text': 'Cool little place, nice atmosphere and staff. Great coffee too, go check em out!',\n",
              "  'useful': 0,\n",
              "  'user_id': 'eG6HneK9zLcuZpVuKcsCGQ'},\n",
              " {'business_id': 'q0n4I-zqiI47xispOqc1lA',\n",
              "  'cool': 0,\n",
              "  'date': '2016-09-19',\n",
              "  'funny': 0,\n",
              "  'review_id': 'M9gD64U797dfIpLA9OHYVA',\n",
              "  'stars': 5,\n",
              "  'text': 'Delicious, friendly staff, cool atmosphere, all around great experience! They have a pretty great selection of crepes and omelettes, among other things. I enjoyed the Cherry Omelette (cherry tomatoes, swiss cheese, potato slices, and bacon) which was pretty big and cooked perfectly! Nice side salad and bread as well. Coffee was great and our server was warm and polite. Would recommend!',\n",
              "  'useful': 0,\n",
              "  'user_id': 'eG6HneK9zLcuZpVuKcsCGQ'},\n",
              " {'business_id': 'alG1fb1kl2vmT8s34jbbHg',\n",
              "  'cool': 1,\n",
              "  'date': '2015-09-05',\n",
              "  'funny': 1,\n",
              "  'review_id': 'eShfPWENUmZ9sP7fstPt7Q',\n",
              "  'stars': 5,\n",
              "  'text': 'Great haircut, cool atmosphere, and really nice people! The price is fair and he is very thorough. Really listens to what you want. Also, I recommend calling ahead to see if it is busy. Worked for me!',\n",
              "  'useful': 1,\n",
              "  'user_id': 'eG6HneK9zLcuZpVuKcsCGQ'},\n",
              " {'business_id': 'gZGsReG0VeX4uKViHTB9EQ',\n",
              "  'cool': 0,\n",
              "  'date': '2017-08-16',\n",
              "  'funny': 0,\n",
              "  'review_id': '51RHs_V_fjuistnuKxNpEg',\n",
              "  'stars': 5,\n",
              "  'text': 'Finally! After trying many Mexican restaurants all thru Phoenix & Scottsdale we found an authentic Mexican restaurant that was AMAZING! Fresh tortilla chip & salsa ready and waiting at the table when we sat down. Food was incredible! I ordered the combo with a beef tamale with red sauce & chicken enchilada. Both were full of meat from beginning to end & had so much flavor! Highly recommend this place',\n",
              "  'useful': 0,\n",
              "  'user_id': '5ngpW5tf3ep680eG1HxHzA'},\n",
              " {'business_id': '-bd4BQcl1ekgo7avaFngIw',\n",
              "  'cool': 0,\n",
              "  'date': '2017-06-28',\n",
              "  'funny': 0,\n",
              "  'review_id': 'P7kiSTiwzqm0_LbA71EOPg',\n",
              "  'stars': 5,\n",
              "  'text': \"One of the best breakfast places I've been to! The menu had so many options, above & beyond your typical breakfast choices. Portions were HUGE and everything was delicious & so fresh! Will definitely be back & highly recommend!\",\n",
              "  'useful': 0,\n",
              "  'user_id': '5ngpW5tf3ep680eG1HxHzA'},\n",
              " {'business_id': 'u73j2VQ3TGWdMO-AG7MABw',\n",
              "  'cool': 0,\n",
              "  'date': '2017-07-06',\n",
              "  'funny': 0,\n",
              "  'review_id': '7EgEjUpcb8q-B5dPCMvkaQ',\n",
              "  'stars': 2,\n",
              "  'text': \"Food was alright, the service was HORRIBLE! Both of our orders came out incorrect after waiting extremely long because they don't write anything down when they take the orders. I asked for greens at the end she confirmed did you say grits? I said no greens please.. still ended up with grits. Boyfriends whole order came out wrong and when they brought him back the right order pretty sure they brought out my grits they took back 5 min before from my wrong order and gave them to him. Waitress came back and just set the plate down and walked off. No sorry about that, does it look right now, do you need anything else.. just straight nothing. Never came by our whole meal to check on us.\",\n",
              "  'useful': 1,\n",
              "  'user_id': '5ngpW5tf3ep680eG1HxHzA'},\n",
              " {'business_id': 'VyVIneSU7XAWgMBllI6LnQ',\n",
              "  'cool': 0,\n",
              "  'date': '2017-07-08',\n",
              "  'funny': 0,\n",
              "  'review_id': 'F1UHGw4-6OYyvFFb-E4LMg',\n",
              "  'stars': 5,\n",
              "  'text': 'DELICIOUS! forgot to take a before picture but as you can see it was amazing. We got 2 kinds of ribs, brisket & chicken and literally every single one fell straight off the bone! Sides were all good. Cornbread before & sugar donuts after. Will definitely be back.',\n",
              "  'useful': 0,\n",
              "  'user_id': '5ngpW5tf3ep680eG1HxHzA'},\n",
              " {'business_id': '3Mx4renubPRnjHUw1n2UkA',\n",
              "  'cool': 0,\n",
              "  'date': '2015-09-30',\n",
              "  'funny': 1,\n",
              "  'review_id': 'MTrzrLQT_LK2VLK9xantHw',\n",
              "  'stars': 1,\n",
              "  'text': 'If I could leave zero stars I would. This rude B at the door with the fake lashes and colored lens was super rude. We had entered the club earlier and upon leaving the guy at the door told us we could come back later for the show. But when we came back, one man let us through up to the door, but the B there said there was no re-entry. She then proceeded to tell us that we could talk to \"the guy by the exit\". Okay. Well FYI, if you\\'ve never been to a venue, you don\\'t know exactly where everything is. We walked away and looked around and weren\\'t sure where she was referring to so we went back and asked where the exit was. She rudely responded, \"I SAID. Go see the guy by the exit OVER THERE.\"  Felicia. \\n\\nBasically everyone was rude. Not coming back.',\n",
              "  'useful': 4,\n",
              "  'user_id': 'eAavwM32i2h7sNNer--kGw'},\n",
              " {'business_id': 'd4z4gjdhQYs-WOVClISf_A',\n",
              "  'cool': 0,\n",
              "  'date': '2017-06-14',\n",
              "  'funny': 0,\n",
              "  'review_id': 'VGU_oergctnFczEXDPHYQA',\n",
              "  'stars': 5,\n",
              "  'text': 'Removed several pine trees from our house in Henderson, NV.  Ground the stumps to below ground level.  Quote, execution and billing all very professional.  Loved ability to pay bill from email invoice.  Will use again.',\n",
              "  'useful': 0,\n",
              "  'user_id': 'nqzeKqdWBruvdgMd6aBHrg'},\n",
              " {'business_id': 'f-v1fvtnbdw_QQRsCnwH-g',\n",
              "  'cool': 0,\n",
              "  'date': '2017-11-18',\n",
              "  'funny': 0,\n",
              "  'review_id': 'alI_kRKyEHfdHibYGgtJbw',\n",
              "  'stars': 1,\n",
              "  'text': 'I have to write a review on the Fractured Prune. First off I love doughnuts second I used to work in a bakery. So I know a little about the almighty doughnut. I was there this past Thursday night at Westgate where I was having a nice dinner at Opah Life. I wanted a little desert so I went to this doughnut shop it seemed clean enough so I made my selections and took them home. Mistake should have eaten one there I would have ask for my money back. I took a bite out of each on to confirm what I thought they were the worst doughnuts I have ever had. Horrible not sure if the oils was rancid or not hot enough either way eat at your own risk.',\n",
              "  'useful': 0,\n",
              "  'user_id': 'Fc_nb6N6Sdurqb-rwsY1Bw'},\n",
              " {'business_id': 'yz66FIUPDKGhILDWzRLeKg',\n",
              "  'cool': 0,\n",
              "  'date': '2017-11-18',\n",
              "  'funny': 0,\n",
              "  'review_id': '85DRIjwPJOTb4q0qOlBstw',\n",
              "  'stars': 1,\n",
              "  'text': \"I wish i could tell you all about the food but there was problem. My friend and went there for dinner we were seated quickly unfortunately it was in middle of the empty dinning room so we asked to be moved to the side which we were. Upon sitting down we were told we could only have one of the very small table tops there were two together so the hostess told us the manager said we couldn't use two table tops in the empty restaurant. So we got up and left. With the manager chasing us blaming the hostess for the the ridiculous action. Needles to say we will never return.\",\n",
              "  'useful': 1,\n",
              "  'user_id': 'Fc_nb6N6Sdurqb-rwsY1Bw'},\n",
              " {'business_id': '6qDRqHWqf0EeHupSUEBfKg',\n",
              "  'cool': 0,\n",
              "  'date': '2015-12-10',\n",
              "  'funny': 0,\n",
              "  'review_id': 'GbiLIKmQPVCBtdNkTVdVSA',\n",
              "  'stars': 5,\n",
              "  'text': 'Wonderful! One of my favorite places. BBQ is expertly cooked and service is always prompt. The price is right.',\n",
              "  'useful': 0,\n",
              "  'user_id': 'G22ITfVETYHtIhnn5lLRrQ'},\n",
              " {'business_id': '7AlULGZI1pHt0imODsqdkg',\n",
              "  'cool': 0,\n",
              "  'date': '2012-02-12',\n",
              "  'funny': 0,\n",
              "  'review_id': 'UaHgsL0xS4UnJ_iKqeOk_w',\n",
              "  'stars': 5,\n",
              "  'text': 'The price is about the same as Quizinos. The sandwich was great! They have a live musician so it is kind of loud. It was a good experience.',\n",
              "  'useful': 0,\n",
              "  'user_id': 'FjH3TH8OvHGLNEbzdEYlNg'},\n",
              " {'business_id': 'th4pZ5LkoIIkb1Vmu_m2DA',\n",
              "  'cool': 0,\n",
              "  'date': '2012-02-12',\n",
              "  'funny': 0,\n",
              "  'review_id': 'c4zzAD1S6721Fh-acCBy-g',\n",
              "  'stars': 4,\n",
              "  'text': 'The food was ok. You get a lot of food for the price. There is bot a lot of seating.',\n",
              "  'useful': 0,\n",
              "  'user_id': 'FjH3TH8OvHGLNEbzdEYlNg'},\n",
              " {'business_id': 'nsSfCKW9KDB4COj9bzXApw',\n",
              "  'cool': 0,\n",
              "  'date': '2012-02-12',\n",
              "  'funny': 0,\n",
              "  'review_id': 'TTBwocu2mvqJFJrwmJN0Sw',\n",
              "  'stars': 5,\n",
              "  'text': 'The staff were friendly and helpful. The food was fabulous. Our whole experience was awesome!',\n",
              "  'useful': 1,\n",
              "  'user_id': 'FjH3TH8OvHGLNEbzdEYlNg'},\n",
              " {'business_id': 'cP8ErpZfRzdVR5Fvks-pnQ',\n",
              "  'cool': 0,\n",
              "  'date': '2012-02-12',\n",
              "  'funny': 0,\n",
              "  'review_id': '-CresnnXQSHrQ85Ogm-Pqw',\n",
              "  'stars': 5,\n",
              "  'text': 'The staff were very helpful. We painted pottery which took about 2 hours. It was a lot of fun and we received our pottery with in 3 days.',\n",
              "  'useful': 0,\n",
              "  'user_id': 'FjH3TH8OvHGLNEbzdEYlNg'},\n",
              " {'business_id': 'Edr6SafmQrZa6CcFuItoqg',\n",
              "  'cool': 0,\n",
              "  'date': '2014-06-03',\n",
              "  'funny': 0,\n",
              "  'review_id': 'U04YgYr4PiGUxB46J4xapg',\n",
              "  'stars': 2,\n",
              "  'text': 'Limited vegetarian options. Ordered Greek salad but it was sub-par and priced at a ridiculous (almost) thirteen dollars. Will be skipping this joint when traveling through this airport the next time.',\n",
              "  'useful': 0,\n",
              "  'user_id': 'B7Fh30KQT1xPSGt_pIhRRA'},\n",
              " {'business_id': 'piHAFVLQHEFv67HVyndrkA',\n",
              "  'cool': 0,\n",
              "  'date': '2012-11-21',\n",
              "  'funny': 0,\n",
              "  'review_id': '-4fp5CEEcTCB_ZsA9VZs2Q',\n",
              "  'stars': 5,\n",
              "  'text': 'After gown shopping in Los Angeles and Orange County for 3 months and not having the \"this is the one moment\" I made an appointment at Destiny\\'s Bride.  My mom, my sisters and I were having a girls weekend in Scottsdale and wanted to gown shop for fun.  Residing in southern CA, we weren\\'t planning on purchasing a dress out of state.  The boutique absolutely blew us away and the service was even better! Lisa, the owner, was amazing and it was by far the best customer service and experience out of all the high end shops I visited in CA. \\nLisa is extremely knowledgeable and was able to quickly pick out gowns for my body shape and taste.  She was honest with her opinion and took her time with me.  Photos of me in the gowns were allowed which I loved because this was not an option in Los Angeles.  \\nI found \"the one\" with Lisa and because we paid that day in full, she offered us a 10% discount!\\n\\nThe shop, selection and customer service were all A+ and I can\\'t wait to return the shop for my fitting and to see Lisa!',\n",
              "  'useful': 0,\n",
              "  'user_id': '6kEzTjPyrhAS_GLTbjnRyw'},\n",
              " {'business_id': 'LFxa9cAfKY_OlALN8sArgQ',\n",
              "  'cool': 2,\n",
              "  'date': '2016-11-18',\n",
              "  'funny': 0,\n",
              "  'review_id': 'HkSebQqJmaCpodIdb_S6lQ',\n",
              "  'stars': 3,\n",
              "  'text': \"I shop here mostly because i live in Brampton. Great customer service, well stocked and clean. \\nBut, beware of parking routes and stupid drivers. Gets hectic at busy times (weekends) so avoid. 'New' Canadian customers are rather rude and ignorant..so i go to Miss. or Vaughan locations when i can. You will notice the difference.\",\n",
              "  'useful': 1,\n",
              "  'user_id': 'zx_Op2OAOM_fRic9tU-jqA'},\n",
              " {'business_id': 'SpJYus_184M2TdT7t52rIA',\n",
              "  'cool': 0,\n",
              "  'date': '2016-11-18',\n",
              "  'funny': 0,\n",
              "  'review_id': 's9cpVj40VR_yl0lXbZQe6w',\n",
              "  'stars': 5,\n",
              "  'text': 'I trust my vehicles here. Comparable prices. Mike can always give me good advice. Work always done on time...clean. Never had to send back with any problems. My cars run great.',\n",
              "  'useful': 0,\n",
              "  'user_id': 'zx_Op2OAOM_fRic9tU-jqA'},\n",
              " {'business_id': '7vxm0G4g857HzRqqpeu6bw',\n",
              "  'cool': 0,\n",
              "  'date': '2016-11-18',\n",
              "  'funny': 0,\n",
              "  'review_id': 'O-I4Y329P9FND7skkMCdDg',\n",
              "  'stars': 5,\n",
              "  'text': 'I really like this store. Very clean, well stocked and organized- every dept! Good signage to find products. They have good deals on sale weeks. Bought a couple of appliances here at same or cheaper price than other stores. Good paint-valspar. Helpful staff. Keep up the good work.\\n This place makes Home depot look like a 3rd world country.',\n",
              "  'useful': 1,\n",
              "  'user_id': 'zx_Op2OAOM_fRic9tU-jqA'},\n",
              " {'business_id': 'RyTEGJz5tG7zC73BdXt-cQ',\n",
              "  'cool': 0,\n",
              "  'date': '2016-11-18',\n",
              "  'funny': 0,\n",
              "  'review_id': '6lRnO0n3QdkSGlJLUQb15w',\n",
              "  'stars': 5,\n",
              "  'text': 'Best veal sandwich ever ( i like rapini/ garlic top)...pasta, lasagna, chicken...all good. Good service, nice clean place, parking, good food= 5',\n",
              "  'useful': 0,\n",
              "  'user_id': 'zx_Op2OAOM_fRic9tU-jqA'},\n",
              " {'business_id': '7xA6iSP0Ndn08tpBFQtUKA',\n",
              "  'cool': 0,\n",
              "  'date': '2017-05-22',\n",
              "  'funny': 0,\n",
              "  'review_id': 'YDJDfKnx6VpMMo4EBxycGg',\n",
              "  'stars': 1,\n",
              "  'text': \"Non-existened service!  The waiter did not even great us and did not listen to me about ordering, so my male companion had to repeat it to him! Then many people different people tossed our food on the table while passing by without any word or an eye contact! Naan bread arrived much later from the soup! Its a shame that such a dreadful worse than a fast food corner restaurant occupies area in the heart of the Toronto's entertainment district! RUN AWAY,  DONT SPEND YOUR MONEY THERE!!\",\n",
              "  'useful': 0,\n",
              "  'user_id': 'FCtoTo9zSH1cSAkascfEHw'},\n",
              " {'business_id': 'Xg5qEQiB-7L6kGJ5F4K3bQ',\n",
              "  'cool': 0,\n",
              "  'date': '2015-12-08',\n",
              "  'funny': 0,\n",
              "  'review_id': 'QBZz9m3pL6r8Mvbdm2ZBYQ',\n",
              "  'stars': 5,\n",
              "  'text': \"I was in Phoenix on business last week. My PHX based co-workers are frequent visitors and knowing I like BBQ, they took me to here. One word describes the food - amazing. I've had BBQ from a lot of places all over the country and the food here ranked at the top of the list for me. I had the two meat plate - brisket and pulled pork. Both were awesome. If you are in PHX and like BBQ, you have to come here. The line may be long, but it's truly worth the wait.\",\n",
              "  'useful': 0,\n",
              "  'user_id': 'Me267nGzYOJAGNSbNR_e6A'}]"
            ]
          },
          "metadata": {
            "tags": []
          },
          "execution_count": 29
        }
      ]
    },
    {
      "metadata": {
        "id": "cUIP298Rdf2P",
        "colab_type": "code",
        "outputId": "868f055c-8c42-4729-91f6-5b83e884d607",
        "colab": {
          "base_uri": "https://localhost:8080/",
          "height": 34
        }
      },
      "cell_type": "code",
      "source": [
        "review_ids.take(1)"
      ],
      "execution_count": 0,
      "outputs": [
        {
          "output_type": "execute_result",
          "data": {
            "text/plain": [
              "[('msQe1u7Z_XuqjGoqhB0J5g', 'iCQpiavjjPzJ5_3gPD5Ebg', 2)]"
            ]
          },
          "metadata": {
            "tags": []
          },
          "execution_count": 30
        }
      ]
    },
    {
      "metadata": {
        "id": "LRtRcDAtC6cZ",
        "colab_type": "code",
        "colab": {}
      },
      "cell_type": "code",
      "source": [
        "user_file = \"/content/yelp_academic_dataset_user.json\"\n",
        "user_review_RDD = sc.textFile(user_file)\n",
        "data = user_review_RDD.map(lambda line : json.loads(line))\n",
        "user_ids = data.map(lambda line : (line['user_id'],(line['name'],line['friends']))).cache()"
      ],
      "execution_count": 0,
      "outputs": []
    },
    {
      "metadata": {
        "id": "yqNBbieS1f1N",
        "colab_type": "code",
        "outputId": "97edb498-9535-41e4-fd0a-ab502fa40c3d",
        "colab": {
          "base_uri": "https://localhost:8080/",
          "height": 14977
        }
      },
      "cell_type": "code",
      "source": [
        "data.take(40)"
      ],
      "execution_count": 0,
      "outputs": [
        {
          "output_type": "execute_result",
          "data": {
            "text/plain": [
              "[{'average_stars': 2.0,\n",
              "  'compliment_cool': 0,\n",
              "  'compliment_cute': 0,\n",
              "  'compliment_funny': 0,\n",
              "  'compliment_hot': 0,\n",
              "  'compliment_list': 0,\n",
              "  'compliment_more': 0,\n",
              "  'compliment_note': 0,\n",
              "  'compliment_photos': 0,\n",
              "  'compliment_plain': 0,\n",
              "  'compliment_profile': 0,\n",
              "  'compliment_writer': 0,\n",
              "  'cool': 0,\n",
              "  'elite': 'None',\n",
              "  'fans': 0,\n",
              "  'friends': 'None',\n",
              "  'funny': 0,\n",
              "  'name': 'Susan',\n",
              "  'review_count': 1,\n",
              "  'useful': 0,\n",
              "  'user_id': 'lzlZwIpuSWXEnNS91wxjHw',\n",
              "  'yelping_since': '2015-09-28'},\n",
              " {'average_stars': 5.0,\n",
              "  'compliment_cool': 0,\n",
              "  'compliment_cute': 0,\n",
              "  'compliment_funny': 0,\n",
              "  'compliment_hot': 0,\n",
              "  'compliment_list': 0,\n",
              "  'compliment_more': 0,\n",
              "  'compliment_note': 0,\n",
              "  'compliment_photos': 0,\n",
              "  'compliment_plain': 0,\n",
              "  'compliment_profile': 0,\n",
              "  'compliment_writer': 0,\n",
              "  'cool': 0,\n",
              "  'elite': 'None',\n",
              "  'fans': 0,\n",
              "  'friends': 'None',\n",
              "  'funny': 0,\n",
              "  'name': 'Daipayan',\n",
              "  'review_count': 2,\n",
              "  'useful': 0,\n",
              "  'user_id': 'XvLBr-9smbI0m_a7dXtB7w',\n",
              "  'yelping_since': '2015-09-05'},\n",
              " {'average_stars': 4.0,\n",
              "  'compliment_cool': 0,\n",
              "  'compliment_cute': 0,\n",
              "  'compliment_funny': 0,\n",
              "  'compliment_hot': 0,\n",
              "  'compliment_list': 0,\n",
              "  'compliment_more': 0,\n",
              "  'compliment_note': 0,\n",
              "  'compliment_photos': 0,\n",
              "  'compliment_plain': 0,\n",
              "  'compliment_profile': 0,\n",
              "  'compliment_writer': 0,\n",
              "  'cool': 0,\n",
              "  'elite': 'None',\n",
              "  'fans': 0,\n",
              "  'friends': 'None',\n",
              "  'funny': 0,\n",
              "  'name': 'Andy',\n",
              "  'review_count': 1,\n",
              "  'useful': 0,\n",
              "  'user_id': 'QPT4Ud4H5sJVr68yXhoWFw',\n",
              "  'yelping_since': '2016-07-21'},\n",
              " {'average_stars': 4.05,\n",
              "  'compliment_cool': 0,\n",
              "  'compliment_cute': 0,\n",
              "  'compliment_funny': 0,\n",
              "  'compliment_hot': 0,\n",
              "  'compliment_list': 0,\n",
              "  'compliment_more': 0,\n",
              "  'compliment_note': 0,\n",
              "  'compliment_photos': 0,\n",
              "  'compliment_plain': 0,\n",
              "  'compliment_profile': 0,\n",
              "  'compliment_writer': 0,\n",
              "  'cool': 0,\n",
              "  'elite': 'None',\n",
              "  'fans': 0,\n",
              "  'friends': 'None',\n",
              "  'funny': 0,\n",
              "  'name': 'Jonathan',\n",
              "  'review_count': 19,\n",
              "  'useful': 0,\n",
              "  'user_id': 'i5YitlHZpf0B3R0s_8NVuw',\n",
              "  'yelping_since': '2014-08-04'},\n",
              " {'average_stars': 3.0,\n",
              "  'compliment_cool': 0,\n",
              "  'compliment_cute': 0,\n",
              "  'compliment_funny': 0,\n",
              "  'compliment_hot': 0,\n",
              "  'compliment_list': 0,\n",
              "  'compliment_more': 0,\n",
              "  'compliment_note': 0,\n",
              "  'compliment_photos': 0,\n",
              "  'compliment_plain': 0,\n",
              "  'compliment_profile': 0,\n",
              "  'compliment_writer': 0,\n",
              "  'cool': 0,\n",
              "  'elite': 'None',\n",
              "  'fans': 0,\n",
              "  'friends': 'None',\n",
              "  'funny': 0,\n",
              "  'name': 'Shashank',\n",
              "  'review_count': 3,\n",
              "  'useful': 0,\n",
              "  'user_id': 's4FoIXE_LSGviTHBe8dmcg',\n",
              "  'yelping_since': '2017-06-18'},\n",
              " {'average_stars': 5.0,\n",
              "  'compliment_cool': 0,\n",
              "  'compliment_cute': 0,\n",
              "  'compliment_funny': 0,\n",
              "  'compliment_hot': 0,\n",
              "  'compliment_list': 0,\n",
              "  'compliment_more': 0,\n",
              "  'compliment_note': 0,\n",
              "  'compliment_photos': 0,\n",
              "  'compliment_plain': 0,\n",
              "  'compliment_profile': 0,\n",
              "  'compliment_writer': 0,\n",
              "  'cool': 0,\n",
              "  'elite': 'None',\n",
              "  'fans': 0,\n",
              "  'friends': 'None',\n",
              "  'funny': 0,\n",
              "  'name': 'Stacey X Joe',\n",
              "  'review_count': 3,\n",
              "  'useful': 0,\n",
              "  'user_id': 'ZcsZdHLiJGVvDHVjeTYYnQ',\n",
              "  'yelping_since': '2014-08-27'},\n",
              " {'average_stars': 5.0,\n",
              "  'compliment_cool': 0,\n",
              "  'compliment_cute': 0,\n",
              "  'compliment_funny': 0,\n",
              "  'compliment_hot': 0,\n",
              "  'compliment_list': 0,\n",
              "  'compliment_more': 0,\n",
              "  'compliment_note': 0,\n",
              "  'compliment_photos': 0,\n",
              "  'compliment_plain': 0,\n",
              "  'compliment_profile': 0,\n",
              "  'compliment_writer': 0,\n",
              "  'cool': 0,\n",
              "  'elite': 'None',\n",
              "  'fans': 0,\n",
              "  'friends': 'None',\n",
              "  'funny': 0,\n",
              "  'name': 'Lindsay',\n",
              "  'review_count': 2,\n",
              "  'useful': 0,\n",
              "  'user_id': 'h3p6aeVL7vrafSOM50SsCg',\n",
              "  'yelping_since': '2016-02-02'},\n",
              " {'average_stars': 5.0,\n",
              "  'compliment_cool': 0,\n",
              "  'compliment_cute': 0,\n",
              "  'compliment_funny': 0,\n",
              "  'compliment_hot': 0,\n",
              "  'compliment_list': 0,\n",
              "  'compliment_more': 0,\n",
              "  'compliment_note': 0,\n",
              "  'compliment_photos': 0,\n",
              "  'compliment_plain': 0,\n",
              "  'compliment_profile': 0,\n",
              "  'compliment_writer': 0,\n",
              "  'cool': 0,\n",
              "  'elite': 'None',\n",
              "  'fans': 0,\n",
              "  'friends': 'None',\n",
              "  'funny': 0,\n",
              "  'name': 'Joshua',\n",
              "  'review_count': 1,\n",
              "  'useful': 0,\n",
              "  'user_id': 'EbJMotYYkq-iq-v1u8wCYA',\n",
              "  'yelping_since': '2013-03-20'},\n",
              " {'average_stars': 2.77,\n",
              "  'compliment_cool': 0,\n",
              "  'compliment_cute': 0,\n",
              "  'compliment_funny': 0,\n",
              "  'compliment_hot': 0,\n",
              "  'compliment_list': 0,\n",
              "  'compliment_more': 0,\n",
              "  'compliment_note': 0,\n",
              "  'compliment_photos': 0,\n",
              "  'compliment_plain': 0,\n",
              "  'compliment_profile': 0,\n",
              "  'compliment_writer': 0,\n",
              "  'cool': 0,\n",
              "  'elite': 'None',\n",
              "  'fans': 1,\n",
              "  'friends': 'None',\n",
              "  'funny': 0,\n",
              "  'name': 'Mike',\n",
              "  'review_count': 11,\n",
              "  'useful': 8,\n",
              "  'user_id': 'nnB0AE1Cxp_0154xkhXelw',\n",
              "  'yelping_since': '2014-07-11'},\n",
              " {'average_stars': 4.0,\n",
              "  'compliment_cool': 0,\n",
              "  'compliment_cute': 0,\n",
              "  'compliment_funny': 0,\n",
              "  'compliment_hot': 0,\n",
              "  'compliment_list': 0,\n",
              "  'compliment_more': 0,\n",
              "  'compliment_note': 0,\n",
              "  'compliment_photos': 0,\n",
              "  'compliment_plain': 0,\n",
              "  'compliment_profile': 0,\n",
              "  'compliment_writer': 0,\n",
              "  'cool': 1,\n",
              "  'elite': 'None',\n",
              "  'fans': 0,\n",
              "  'friends': 'None',\n",
              "  'funny': 3,\n",
              "  'name': 'Mitch',\n",
              "  'review_count': 4,\n",
              "  'useful': 2,\n",
              "  'user_id': 'XoEnrhtJc2pcdlQ09d8Oug',\n",
              "  'yelping_since': '2013-04-07'},\n",
              " {'average_stars': 5.0,\n",
              "  'compliment_cool': 0,\n",
              "  'compliment_cute': 0,\n",
              "  'compliment_funny': 0,\n",
              "  'compliment_hot': 0,\n",
              "  'compliment_list': 0,\n",
              "  'compliment_more': 0,\n",
              "  'compliment_note': 0,\n",
              "  'compliment_photos': 0,\n",
              "  'compliment_plain': 0,\n",
              "  'compliment_profile': 0,\n",
              "  'compliment_writer': 0,\n",
              "  'cool': 0,\n",
              "  'elite': 'None',\n",
              "  'fans': 0,\n",
              "  'friends': 'None',\n",
              "  'funny': 0,\n",
              "  'name': 'Andrea',\n",
              "  'review_count': 1,\n",
              "  'useful': 0,\n",
              "  'user_id': 'QDQTMYp2NocktWN5fHwfIg',\n",
              "  'yelping_since': '2017-03-25'},\n",
              " {'average_stars': 4.2,\n",
              "  'compliment_cool': 0,\n",
              "  'compliment_cute': 0,\n",
              "  'compliment_funny': 0,\n",
              "  'compliment_hot': 0,\n",
              "  'compliment_list': 0,\n",
              "  'compliment_more': 0,\n",
              "  'compliment_note': 0,\n",
              "  'compliment_photos': 0,\n",
              "  'compliment_plain': 0,\n",
              "  'compliment_profile': 0,\n",
              "  'compliment_writer': 0,\n",
              "  'cool': 0,\n",
              "  'elite': 'None',\n",
              "  'fans': 0,\n",
              "  'friends': 'None',\n",
              "  'funny': 0,\n",
              "  'name': 'F',\n",
              "  'review_count': 10,\n",
              "  'useful': 0,\n",
              "  'user_id': 'Nq9WrJcCjQjHSoaUPZcPWg',\n",
              "  'yelping_since': '2015-10-04'},\n",
              " {'average_stars': 3.86,\n",
              "  'compliment_cool': 0,\n",
              "  'compliment_cute': 0,\n",
              "  'compliment_funny': 0,\n",
              "  'compliment_hot': 0,\n",
              "  'compliment_list': 0,\n",
              "  'compliment_more': 0,\n",
              "  'compliment_note': 0,\n",
              "  'compliment_photos': 0,\n",
              "  'compliment_plain': 0,\n",
              "  'compliment_profile': 0,\n",
              "  'compliment_writer': 0,\n",
              "  'cool': 0,\n",
              "  'elite': 'None',\n",
              "  'fans': 0,\n",
              "  'friends': 'None',\n",
              "  'funny': 0,\n",
              "  'name': 'Jessica',\n",
              "  'review_count': 6,\n",
              "  'useful': 0,\n",
              "  'user_id': 'SgYDjNCecPidsRB_su5-tw',\n",
              "  'yelping_since': '2011-01-25'},\n",
              " {'average_stars': 2.0,\n",
              "  'compliment_cool': 0,\n",
              "  'compliment_cute': 0,\n",
              "  'compliment_funny': 0,\n",
              "  'compliment_hot': 0,\n",
              "  'compliment_list': 0,\n",
              "  'compliment_more': 0,\n",
              "  'compliment_note': 0,\n",
              "  'compliment_photos': 0,\n",
              "  'compliment_plain': 0,\n",
              "  'compliment_profile': 0,\n",
              "  'compliment_writer': 0,\n",
              "  'cool': 0,\n",
              "  'elite': 'None',\n",
              "  'fans': 0,\n",
              "  'friends': 'None',\n",
              "  'funny': 0,\n",
              "  'name': 'Alex',\n",
              "  'review_count': 1,\n",
              "  'useful': 0,\n",
              "  'user_id': 'AUWHIxgZuL2h4svVLdUZaA',\n",
              "  'yelping_since': '2017-08-23'},\n",
              " {'average_stars': 2.0,\n",
              "  'compliment_cool': 0,\n",
              "  'compliment_cute': 0,\n",
              "  'compliment_funny': 0,\n",
              "  'compliment_hot': 0,\n",
              "  'compliment_list': 0,\n",
              "  'compliment_more': 0,\n",
              "  'compliment_note': 0,\n",
              "  'compliment_photos': 0,\n",
              "  'compliment_plain': 0,\n",
              "  'compliment_profile': 0,\n",
              "  'compliment_writer': 0,\n",
              "  'cool': 0,\n",
              "  'elite': 'None',\n",
              "  'fans': 0,\n",
              "  'friends': 'None',\n",
              "  'funny': 0,\n",
              "  'name': 'Kara',\n",
              "  'review_count': 1,\n",
              "  'useful': 0,\n",
              "  'user_id': 'jlCxOfVf_Ff4YgGov8Tm1g',\n",
              "  'yelping_since': '2017-11-21'},\n",
              " {'average_stars': 3.0,\n",
              "  'compliment_cool': 0,\n",
              "  'compliment_cute': 0,\n",
              "  'compliment_funny': 0,\n",
              "  'compliment_hot': 0,\n",
              "  'compliment_list': 0,\n",
              "  'compliment_more': 0,\n",
              "  'compliment_note': 0,\n",
              "  'compliment_photos': 0,\n",
              "  'compliment_plain': 0,\n",
              "  'compliment_profile': 0,\n",
              "  'compliment_writer': 0,\n",
              "  'cool': 0,\n",
              "  'elite': 'None',\n",
              "  'fans': 0,\n",
              "  'friends': 'None',\n",
              "  'funny': 0,\n",
              "  'name': 'Teresa',\n",
              "  'review_count': 2,\n",
              "  'useful': 1,\n",
              "  'user_id': '9u9a9JakFNHZksptLKPUrw',\n",
              "  'yelping_since': '2014-10-26'},\n",
              " {'average_stars': 1.0,\n",
              "  'compliment_cool': 0,\n",
              "  'compliment_cute': 0,\n",
              "  'compliment_funny': 0,\n",
              "  'compliment_hot': 0,\n",
              "  'compliment_list': 0,\n",
              "  'compliment_more': 0,\n",
              "  'compliment_note': 0,\n",
              "  'compliment_photos': 0,\n",
              "  'compliment_plain': 0,\n",
              "  'compliment_profile': 0,\n",
              "  'compliment_writer': 0,\n",
              "  'cool': 0,\n",
              "  'elite': 'None',\n",
              "  'fans': 0,\n",
              "  'friends': 'None',\n",
              "  'funny': 0,\n",
              "  'name': 'Danielle',\n",
              "  'review_count': 2,\n",
              "  'useful': 2,\n",
              "  'user_id': 'NfE1uHFWzzMyXkgBeEuR1A',\n",
              "  'yelping_since': '2015-07-19'},\n",
              " {'average_stars': 4.0,\n",
              "  'compliment_cool': 0,\n",
              "  'compliment_cute': 0,\n",
              "  'compliment_funny': 0,\n",
              "  'compliment_hot': 0,\n",
              "  'compliment_list': 0,\n",
              "  'compliment_more': 0,\n",
              "  'compliment_note': 0,\n",
              "  'compliment_photos': 0,\n",
              "  'compliment_plain': 0,\n",
              "  'compliment_profile': 0,\n",
              "  'compliment_writer': 0,\n",
              "  'cool': 0,\n",
              "  'elite': 'None',\n",
              "  'fans': 0,\n",
              "  'friends': 'None',\n",
              "  'funny': 0,\n",
              "  'name': 'Shawn',\n",
              "  'review_count': 4,\n",
              "  'useful': 0,\n",
              "  'user_id': 'RiBVI6UgLjfpA4EQ1SWDzA',\n",
              "  'yelping_since': '2014-06-15'},\n",
              " {'average_stars': 3.75,\n",
              "  'compliment_cool': 0,\n",
              "  'compliment_cute': 0,\n",
              "  'compliment_funny': 0,\n",
              "  'compliment_hot': 0,\n",
              "  'compliment_list': 0,\n",
              "  'compliment_more': 0,\n",
              "  'compliment_note': 0,\n",
              "  'compliment_photos': 0,\n",
              "  'compliment_plain': 0,\n",
              "  'compliment_profile': 0,\n",
              "  'compliment_writer': 0,\n",
              "  'cool': 11,\n",
              "  'elite': 'None',\n",
              "  'fans': 1,\n",
              "  'friends': 'None',\n",
              "  'funny': 1,\n",
              "  'name': 'Love America',\n",
              "  'review_count': 16,\n",
              "  'useful': 5,\n",
              "  'user_id': 'iK_Mfq3BLLxprw4Trgc4Bg',\n",
              "  'yelping_since': '2016-05-01'},\n",
              " {'average_stars': 3.0,\n",
              "  'compliment_cool': 0,\n",
              "  'compliment_cute': 0,\n",
              "  'compliment_funny': 0,\n",
              "  'compliment_hot': 0,\n",
              "  'compliment_list': 0,\n",
              "  'compliment_more': 0,\n",
              "  'compliment_note': 0,\n",
              "  'compliment_photos': 0,\n",
              "  'compliment_plain': 0,\n",
              "  'compliment_profile': 0,\n",
              "  'compliment_writer': 0,\n",
              "  'cool': 0,\n",
              "  'elite': 'None',\n",
              "  'fans': 0,\n",
              "  'friends': 'None',\n",
              "  'funny': 0,\n",
              "  'name': 'Matthew',\n",
              "  'review_count': 1,\n",
              "  'useful': 0,\n",
              "  'user_id': 'kPAyx-80ZIFKVy6uQ71I6Q',\n",
              "  'yelping_since': '2015-05-07'},\n",
              " {'average_stars': 4.0,\n",
              "  'compliment_cool': 0,\n",
              "  'compliment_cute': 0,\n",
              "  'compliment_funny': 0,\n",
              "  'compliment_hot': 0,\n",
              "  'compliment_list': 0,\n",
              "  'compliment_more': 0,\n",
              "  'compliment_note': 0,\n",
              "  'compliment_photos': 0,\n",
              "  'compliment_plain': 0,\n",
              "  'compliment_profile': 0,\n",
              "  'compliment_writer': 0,\n",
              "  'cool': 0,\n",
              "  'elite': 'None',\n",
              "  'fans': 0,\n",
              "  'friends': 'None',\n",
              "  'funny': 0,\n",
              "  'name': 'Kim',\n",
              "  'review_count': 2,\n",
              "  'useful': 0,\n",
              "  'user_id': 'UI_EvU0TUNeFJMNQIut--A',\n",
              "  'yelping_since': '2015-03-01'},\n",
              " {'average_stars': 1.0,\n",
              "  'compliment_cool': 0,\n",
              "  'compliment_cute': 0,\n",
              "  'compliment_funny': 0,\n",
              "  'compliment_hot': 0,\n",
              "  'compliment_list': 0,\n",
              "  'compliment_more': 0,\n",
              "  'compliment_note': 0,\n",
              "  'compliment_photos': 0,\n",
              "  'compliment_plain': 0,\n",
              "  'compliment_profile': 0,\n",
              "  'compliment_writer': 0,\n",
              "  'cool': 0,\n",
              "  'elite': 'None',\n",
              "  'fans': 0,\n",
              "  'friends': 'None',\n",
              "  'funny': 0,\n",
              "  'name': 'Ying',\n",
              "  'review_count': 1,\n",
              "  'useful': 0,\n",
              "  'user_id': 'bwPVGW1Mx0qmS_qNQ7xmYg',\n",
              "  'yelping_since': '2012-02-09'},\n",
              " {'average_stars': 3.0,\n",
              "  'compliment_cool': 0,\n",
              "  'compliment_cute': 0,\n",
              "  'compliment_funny': 0,\n",
              "  'compliment_hot': 0,\n",
              "  'compliment_list': 0,\n",
              "  'compliment_more': 0,\n",
              "  'compliment_note': 0,\n",
              "  'compliment_photos': 0,\n",
              "  'compliment_plain': 0,\n",
              "  'compliment_profile': 0,\n",
              "  'compliment_writer': 0,\n",
              "  'cool': 0,\n",
              "  'elite': 'None',\n",
              "  'fans': 0,\n",
              "  'friends': 'None',\n",
              "  'funny': 0,\n",
              "  'name': 'John',\n",
              "  'review_count': 3,\n",
              "  'useful': 0,\n",
              "  'user_id': 'vLekYe1hK12NJc8PyxRjIg',\n",
              "  'yelping_since': '2012-10-09'},\n",
              " {'average_stars': 4.5,\n",
              "  'compliment_cool': 0,\n",
              "  'compliment_cute': 0,\n",
              "  'compliment_funny': 0,\n",
              "  'compliment_hot': 0,\n",
              "  'compliment_list': 0,\n",
              "  'compliment_more': 0,\n",
              "  'compliment_note': 0,\n",
              "  'compliment_photos': 0,\n",
              "  'compliment_plain': 0,\n",
              "  'compliment_profile': 0,\n",
              "  'compliment_writer': 0,\n",
              "  'cool': 0,\n",
              "  'elite': 'None',\n",
              "  'fans': 0,\n",
              "  'friends': 'None',\n",
              "  'funny': 0,\n",
              "  'name': 'Kaye',\n",
              "  'review_count': 2,\n",
              "  'useful': 0,\n",
              "  'user_id': 'bVBLhbpER9SQW9q2X-22dQ',\n",
              "  'yelping_since': '2014-04-11'},\n",
              " {'average_stars': 4.2,\n",
              "  'compliment_cool': 0,\n",
              "  'compliment_cute': 0,\n",
              "  'compliment_funny': 0,\n",
              "  'compliment_hot': 0,\n",
              "  'compliment_list': 0,\n",
              "  'compliment_more': 0,\n",
              "  'compliment_note': 0,\n",
              "  'compliment_photos': 0,\n",
              "  'compliment_plain': 0,\n",
              "  'compliment_profile': 0,\n",
              "  'compliment_writer': 0,\n",
              "  'cool': 0,\n",
              "  'elite': 'None',\n",
              "  'fans': 0,\n",
              "  'friends': 'None',\n",
              "  'funny': 0,\n",
              "  'name': 'Matt',\n",
              "  'review_count': 5,\n",
              "  'useful': 0,\n",
              "  'user_id': 'ibLa3RJIF8Ht0FKSXrw0TA',\n",
              "  'yelping_since': '2013-07-02'},\n",
              " {'average_stars': 4.0,\n",
              "  'compliment_cool': 0,\n",
              "  'compliment_cute': 0,\n",
              "  'compliment_funny': 0,\n",
              "  'compliment_hot': 0,\n",
              "  'compliment_list': 0,\n",
              "  'compliment_more': 0,\n",
              "  'compliment_note': 0,\n",
              "  'compliment_photos': 0,\n",
              "  'compliment_plain': 0,\n",
              "  'compliment_profile': 0,\n",
              "  'compliment_writer': 0,\n",
              "  'cool': 0,\n",
              "  'elite': 'None',\n",
              "  'fans': 0,\n",
              "  'friends': 'None',\n",
              "  'funny': 0,\n",
              "  'name': 'Tim',\n",
              "  'review_count': 1,\n",
              "  'useful': 0,\n",
              "  'user_id': 'wpIu6p4DYRx--gHjMbqPlw',\n",
              "  'yelping_since': '2009-11-03'},\n",
              " {'average_stars': 5.0,\n",
              "  'compliment_cool': 0,\n",
              "  'compliment_cute': 0,\n",
              "  'compliment_funny': 0,\n",
              "  'compliment_hot': 0,\n",
              "  'compliment_list': 0,\n",
              "  'compliment_more': 0,\n",
              "  'compliment_note': 0,\n",
              "  'compliment_photos': 0,\n",
              "  'compliment_plain': 0,\n",
              "  'compliment_profile': 0,\n",
              "  'compliment_writer': 0,\n",
              "  'cool': 0,\n",
              "  'elite': 'None',\n",
              "  'fans': 0,\n",
              "  'friends': 'None',\n",
              "  'funny': 0,\n",
              "  'name': 'Sandra',\n",
              "  'review_count': 1,\n",
              "  'useful': 0,\n",
              "  'user_id': 'x-IMCiS9SBrnm8mD1WIeMg',\n",
              "  'yelping_since': '2015-04-05'},\n",
              " {'average_stars': 3.0,\n",
              "  'compliment_cool': 0,\n",
              "  'compliment_cute': 0,\n",
              "  'compliment_funny': 0,\n",
              "  'compliment_hot': 0,\n",
              "  'compliment_list': 0,\n",
              "  'compliment_more': 0,\n",
              "  'compliment_note': 0,\n",
              "  'compliment_photos': 0,\n",
              "  'compliment_plain': 0,\n",
              "  'compliment_profile': 0,\n",
              "  'compliment_writer': 0,\n",
              "  'cool': 0,\n",
              "  'elite': 'None',\n",
              "  'fans': 0,\n",
              "  'friends': 'None',\n",
              "  'funny': 0,\n",
              "  'name': 'Aisha',\n",
              "  'review_count': 2,\n",
              "  'useful': 0,\n",
              "  'user_id': 'TpE_T9jESeq-YtqWLyyACQ',\n",
              "  'yelping_since': '2009-05-08'},\n",
              " {'average_stars': 4.15,\n",
              "  'compliment_cool': 0,\n",
              "  'compliment_cute': 0,\n",
              "  'compliment_funny': 0,\n",
              "  'compliment_hot': 0,\n",
              "  'compliment_list': 0,\n",
              "  'compliment_more': 0,\n",
              "  'compliment_note': 0,\n",
              "  'compliment_photos': 0,\n",
              "  'compliment_plain': 0,\n",
              "  'compliment_profile': 0,\n",
              "  'compliment_writer': 0,\n",
              "  'cool': 0,\n",
              "  'elite': 'None',\n",
              "  'fans': 0,\n",
              "  'friends': 'None',\n",
              "  'funny': 0,\n",
              "  'name': 'Dana',\n",
              "  'review_count': 13,\n",
              "  'useful': 0,\n",
              "  'user_id': 'XZFlH0CO2Txp2OVynS0Zag',\n",
              "  'yelping_since': '2016-07-08'},\n",
              " {'average_stars': 5.0,\n",
              "  'compliment_cool': 0,\n",
              "  'compliment_cute': 0,\n",
              "  'compliment_funny': 0,\n",
              "  'compliment_hot': 0,\n",
              "  'compliment_list': 0,\n",
              "  'compliment_more': 0,\n",
              "  'compliment_note': 0,\n",
              "  'compliment_photos': 0,\n",
              "  'compliment_plain': 0,\n",
              "  'compliment_profile': 0,\n",
              "  'compliment_writer': 0,\n",
              "  'cool': 0,\n",
              "  'elite': 'None',\n",
              "  'fans': 0,\n",
              "  'friends': 'None',\n",
              "  'funny': 0,\n",
              "  'name': 'Teresa',\n",
              "  'review_count': 1,\n",
              "  'useful': 0,\n",
              "  'user_id': '5_549BpxlmfCvkQa9mybBA',\n",
              "  'yelping_since': '2016-03-01'},\n",
              " {'average_stars': 5.0,\n",
              "  'compliment_cool': 0,\n",
              "  'compliment_cute': 0,\n",
              "  'compliment_funny': 0,\n",
              "  'compliment_hot': 0,\n",
              "  'compliment_list': 0,\n",
              "  'compliment_more': 0,\n",
              "  'compliment_note': 0,\n",
              "  'compliment_photos': 0,\n",
              "  'compliment_plain': 0,\n",
              "  'compliment_profile': 0,\n",
              "  'compliment_writer': 1,\n",
              "  'cool': 1,\n",
              "  'elite': 'None',\n",
              "  'fans': 0,\n",
              "  'friends': 'None',\n",
              "  'funny': 1,\n",
              "  'name': 'Joe',\n",
              "  'review_count': 2,\n",
              "  'useful': 0,\n",
              "  'user_id': 'Dmso4_w1f4LSzAiyOLk0Gw',\n",
              "  'yelping_since': '2015-12-30'},\n",
              " {'average_stars': 4.29,\n",
              "  'compliment_cool': 0,\n",
              "  'compliment_cute': 0,\n",
              "  'compliment_funny': 0,\n",
              "  'compliment_hot': 0,\n",
              "  'compliment_list': 0,\n",
              "  'compliment_more': 0,\n",
              "  'compliment_note': 0,\n",
              "  'compliment_photos': 0,\n",
              "  'compliment_plain': 0,\n",
              "  'compliment_profile': 0,\n",
              "  'compliment_writer': 0,\n",
              "  'cool': 0,\n",
              "  'elite': 'None',\n",
              "  'fans': 0,\n",
              "  'friends': 'None',\n",
              "  'funny': 2,\n",
              "  'name': 'Gary',\n",
              "  'review_count': 13,\n",
              "  'useful': 2,\n",
              "  'user_id': '-10AAuTs4nHZwXKavpFPvw',\n",
              "  'yelping_since': '2011-05-01'},\n",
              " {'average_stars': 5.0,\n",
              "  'compliment_cool': 0,\n",
              "  'compliment_cute': 0,\n",
              "  'compliment_funny': 0,\n",
              "  'compliment_hot': 0,\n",
              "  'compliment_list': 0,\n",
              "  'compliment_more': 0,\n",
              "  'compliment_note': 0,\n",
              "  'compliment_photos': 0,\n",
              "  'compliment_plain': 0,\n",
              "  'compliment_profile': 0,\n",
              "  'compliment_writer': 0,\n",
              "  'cool': 0,\n",
              "  'elite': 'None',\n",
              "  'fans': 0,\n",
              "  'friends': 'None',\n",
              "  'funny': 2,\n",
              "  'name': 'Bob',\n",
              "  'review_count': 5,\n",
              "  'useful': 0,\n",
              "  'user_id': 'f_Elxx59fEfpQB4MFn93Dw',\n",
              "  'yelping_since': '2017-02-03'},\n",
              " {'average_stars': 5.0,\n",
              "  'compliment_cool': 0,\n",
              "  'compliment_cute': 0,\n",
              "  'compliment_funny': 0,\n",
              "  'compliment_hot': 0,\n",
              "  'compliment_list': 0,\n",
              "  'compliment_more': 0,\n",
              "  'compliment_note': 0,\n",
              "  'compliment_photos': 0,\n",
              "  'compliment_plain': 0,\n",
              "  'compliment_profile': 0,\n",
              "  'compliment_writer': 0,\n",
              "  'cool': 0,\n",
              "  'elite': 'None',\n",
              "  'fans': 0,\n",
              "  'friends': 'None',\n",
              "  'funny': 0,\n",
              "  'name': 'kerry',\n",
              "  'review_count': 1,\n",
              "  'useful': 0,\n",
              "  'user_id': 'BebqF5U9FdVShxZWPE-H-g',\n",
              "  'yelping_since': '2011-04-29'},\n",
              " {'average_stars': 1.0,\n",
              "  'compliment_cool': 0,\n",
              "  'compliment_cute': 0,\n",
              "  'compliment_funny': 0,\n",
              "  'compliment_hot': 0,\n",
              "  'compliment_list': 0,\n",
              "  'compliment_more': 0,\n",
              "  'compliment_note': 0,\n",
              "  'compliment_photos': 0,\n",
              "  'compliment_plain': 0,\n",
              "  'compliment_profile': 0,\n",
              "  'compliment_writer': 0,\n",
              "  'cool': 0,\n",
              "  'elite': 'None',\n",
              "  'fans': 0,\n",
              "  'friends': 'None',\n",
              "  'funny': 0,\n",
              "  'name': 'Sarah',\n",
              "  'review_count': 1,\n",
              "  'useful': 0,\n",
              "  'user_id': '07UJ5zgua9ooAus8pWhmOA',\n",
              "  'yelping_since': '2016-07-14'},\n",
              " {'average_stars': 5.0,\n",
              "  'compliment_cool': 0,\n",
              "  'compliment_cute': 0,\n",
              "  'compliment_funny': 0,\n",
              "  'compliment_hot': 0,\n",
              "  'compliment_list': 0,\n",
              "  'compliment_more': 0,\n",
              "  'compliment_note': 0,\n",
              "  'compliment_photos': 0,\n",
              "  'compliment_plain': 0,\n",
              "  'compliment_profile': 0,\n",
              "  'compliment_writer': 0,\n",
              "  'cool': 0,\n",
              "  'elite': 'None',\n",
              "  'fans': 0,\n",
              "  'friends': 'None',\n",
              "  'funny': 0,\n",
              "  'name': 'Rosemary',\n",
              "  'review_count': 1,\n",
              "  'useful': 0,\n",
              "  'user_id': 'GEs3QLyGOAg3dWdntWiyLw',\n",
              "  'yelping_since': '2016-10-20'},\n",
              " {'average_stars': 1.0,\n",
              "  'compliment_cool': 0,\n",
              "  'compliment_cute': 0,\n",
              "  'compliment_funny': 0,\n",
              "  'compliment_hot': 0,\n",
              "  'compliment_list': 0,\n",
              "  'compliment_more': 0,\n",
              "  'compliment_note': 0,\n",
              "  'compliment_photos': 0,\n",
              "  'compliment_plain': 0,\n",
              "  'compliment_profile': 0,\n",
              "  'compliment_writer': 0,\n",
              "  'cool': 0,\n",
              "  'elite': 'None',\n",
              "  'fans': 0,\n",
              "  'friends': 'None',\n",
              "  'funny': 0,\n",
              "  'name': 'Frank',\n",
              "  'review_count': 2,\n",
              "  'useful': 0,\n",
              "  'user_id': 'ClE-B2wYfJP-jFu5QO5Y3Q',\n",
              "  'yelping_since': '2017-06-21'},\n",
              " {'average_stars': 4.33,\n",
              "  'compliment_cool': 0,\n",
              "  'compliment_cute': 0,\n",
              "  'compliment_funny': 0,\n",
              "  'compliment_hot': 0,\n",
              "  'compliment_list': 0,\n",
              "  'compliment_more': 0,\n",
              "  'compliment_note': 0,\n",
              "  'compliment_photos': 0,\n",
              "  'compliment_plain': 0,\n",
              "  'compliment_profile': 0,\n",
              "  'compliment_writer': 0,\n",
              "  'cool': 0,\n",
              "  'elite': 'None',\n",
              "  'fans': 0,\n",
              "  'friends': 'None',\n",
              "  'funny': 0,\n",
              "  'name': 'Chris',\n",
              "  'review_count': 6,\n",
              "  'useful': 0,\n",
              "  'user_id': 'G0VWbFLylH2wsH_UsxY82g',\n",
              "  'yelping_since': '2011-07-16'},\n",
              " {'average_stars': 5.0,\n",
              "  'compliment_cool': 0,\n",
              "  'compliment_cute': 0,\n",
              "  'compliment_funny': 0,\n",
              "  'compliment_hot': 0,\n",
              "  'compliment_list': 0,\n",
              "  'compliment_more': 0,\n",
              "  'compliment_note': 0,\n",
              "  'compliment_photos': 0,\n",
              "  'compliment_plain': 0,\n",
              "  'compliment_profile': 0,\n",
              "  'compliment_writer': 0,\n",
              "  'cool': 3,\n",
              "  'elite': 'None',\n",
              "  'fans': 0,\n",
              "  'friends': 'None',\n",
              "  'funny': 0,\n",
              "  'name': 'Tiffany',\n",
              "  'review_count': 3,\n",
              "  'useful': 0,\n",
              "  'user_id': 'DcBtmk6yrU37JVPGPzIHnA',\n",
              "  'yelping_since': '2013-05-23'},\n",
              " {'average_stars': 5.0,\n",
              "  'compliment_cool': 0,\n",
              "  'compliment_cute': 0,\n",
              "  'compliment_funny': 0,\n",
              "  'compliment_hot': 0,\n",
              "  'compliment_list': 0,\n",
              "  'compliment_more': 0,\n",
              "  'compliment_note': 0,\n",
              "  'compliment_photos': 0,\n",
              "  'compliment_plain': 0,\n",
              "  'compliment_profile': 0,\n",
              "  'compliment_writer': 0,\n",
              "  'cool': 0,\n",
              "  'elite': 'None',\n",
              "  'fans': 0,\n",
              "  'friends': 'None',\n",
              "  'funny': 0,\n",
              "  'name': 'Jamie',\n",
              "  'review_count': 1,\n",
              "  'useful': 0,\n",
              "  'user_id': '34dHYkTKfB4xkl6FZbny3A',\n",
              "  'yelping_since': '2015-08-06'}]"
            ]
          },
          "metadata": {
            "tags": []
          },
          "execution_count": 32
        }
      ]
    },
    {
      "metadata": {
        "id": "yfxz5_tUdbNm",
        "colab_type": "code",
        "outputId": "d617cf93-ff0d-4007-b4ba-4ec49a706ea9",
        "colab": {
          "base_uri": "https://localhost:8080/",
          "height": 34
        }
      },
      "cell_type": "code",
      "source": [
        "user_ids.take(1)"
      ],
      "execution_count": 0,
      "outputs": [
        {
          "output_type": "execute_result",
          "data": {
            "text/plain": [
              "[('lzlZwIpuSWXEnNS91wxjHw', ('Susan', 'None'))]"
            ]
          },
          "metadata": {
            "tags": []
          },
          "execution_count": 58
        }
      ]
    },
    {
      "metadata": {
        "id": "ZZg_D38nEBwV",
        "colab_type": "code",
        "colab": {}
      },
      "cell_type": "code",
      "source": [
        "business_file = \"/content/yelp_academic_dataset_business.json\"\n",
        "business_review_RDD = sc.textFile(business_file)\n",
        "business_data = business_review_RDD.map(lambda line : json.loads(line))\n",
        "business_ids = business_data.map(lambda line :  (line['business_id'],(line['name'], line['address'],line['categories'],line['state'],line['city'], line['latitude'],line['longitude'],line['stars']))).cache()"
      ],
      "execution_count": 0,
      "outputs": []
    },
    {
      "metadata": {
        "id": "H6debEI81vMY",
        "colab_type": "code",
        "outputId": "d3e2e581-009d-4341-e22c-f9e4a864cef3",
        "colab": {
          "base_uri": "https://localhost:8080/",
          "height": 19230
        }
      },
      "cell_type": "code",
      "source": [
        "business_data.take(40)"
      ],
      "execution_count": 0,
      "outputs": [
        {
          "output_type": "execute_result",
          "data": {
            "text/plain": [
              "[{'address': '1314 44 Avenue NE',\n",
              "  'attributes': {'BikeParking': 'False',\n",
              "   'BusinessAcceptsCreditCards': 'True',\n",
              "   'BusinessParking': \"{'garage': False, 'street': True, 'validated': False, 'lot': False, 'valet': False}\",\n",
              "   'GoodForKids': 'True',\n",
              "   'HasTV': 'True',\n",
              "   'NoiseLevel': 'average',\n",
              "   'OutdoorSeating': 'False',\n",
              "   'RestaurantsAttire': 'casual',\n",
              "   'RestaurantsDelivery': 'False',\n",
              "   'RestaurantsGoodForGroups': 'True',\n",
              "   'RestaurantsPriceRange2': '2',\n",
              "   'RestaurantsReservations': 'True',\n",
              "   'RestaurantsTakeOut': 'True'},\n",
              "  'business_id': 'Apn5Q_b6Nz61Tq4XzPdf9A',\n",
              "  'categories': 'Tours, Breweries, Pizza, Restaurants, Food, Hotels & Travel',\n",
              "  'city': 'Calgary',\n",
              "  'hours': {'Friday': '11:0-21:0',\n",
              "   'Monday': '8:30-17:0',\n",
              "   'Saturday': '11:0-21:0',\n",
              "   'Thursday': '11:0-21:0',\n",
              "   'Tuesday': '11:0-21:0',\n",
              "   'Wednesday': '11:0-21:0'},\n",
              "  'is_open': 1,\n",
              "  'latitude': 51.0918130155,\n",
              "  'longitude': -114.031674872,\n",
              "  'name': 'Minhas Micro Brewery',\n",
              "  'neighborhood': '',\n",
              "  'postal_code': 'T2E 6L6',\n",
              "  'review_count': 24,\n",
              "  'stars': 4.0,\n",
              "  'state': 'AB'},\n",
              " {'address': '',\n",
              "  'attributes': {'Alcohol': 'none',\n",
              "   'BikeParking': 'False',\n",
              "   'BusinessAcceptsCreditCards': 'True',\n",
              "   'BusinessParking': \"{'garage': False, 'street': True, 'validated': False, 'lot': True, 'valet': False}\",\n",
              "   'Caters': 'True',\n",
              "   'DogsAllowed': 'True',\n",
              "   'DriveThru': 'False',\n",
              "   'GoodForKids': 'True',\n",
              "   'GoodForMeal': \"{'dessert': False, 'latenight': False, 'lunch': False, 'dinner': False, 'breakfast': False, 'brunch': False}\",\n",
              "   'HasTV': 'False',\n",
              "   'OutdoorSeating': 'True',\n",
              "   'RestaurantsAttire': 'casual',\n",
              "   'RestaurantsDelivery': 'False',\n",
              "   'RestaurantsGoodForGroups': 'True',\n",
              "   'RestaurantsPriceRange2': '2',\n",
              "   'RestaurantsReservations': 'False',\n",
              "   'RestaurantsTableService': 'False',\n",
              "   'RestaurantsTakeOut': 'True',\n",
              "   'WheelchairAccessible': 'True',\n",
              "   'WiFi': 'no'},\n",
              "  'business_id': 'AjEbIBw6ZFfln7ePHha9PA',\n",
              "  'categories': 'Chicken Wings, Burgers, Caterers, Street Vendors, Barbeque, Food Trucks, Food, Restaurants, Event Planning & Services',\n",
              "  'city': 'Henderson',\n",
              "  'hours': {'Friday': '17:0-23:0',\n",
              "   'Saturday': '17:0-23:0',\n",
              "   'Sunday': '17:0-23:0'},\n",
              "  'is_open': 0,\n",
              "  'latitude': 35.9607337,\n",
              "  'longitude': -114.939821,\n",
              "  'name': \"CK'S BBQ & Catering\",\n",
              "  'neighborhood': '',\n",
              "  'postal_code': '89002',\n",
              "  'review_count': 3,\n",
              "  'stars': 4.5,\n",
              "  'state': 'NV'},\n",
              " {'address': '1335 rue Beaubien E',\n",
              "  'attributes': {'Alcohol': 'beer_and_wine',\n",
              "   'Ambience': \"{'romantic': False, 'intimate': False, 'classy': False, 'hipster': False, 'touristy': False, 'trendy': False, 'upscale': False, 'casual': False}\",\n",
              "   'BikeParking': 'True',\n",
              "   'BusinessAcceptsCreditCards': 'False',\n",
              "   'BusinessParking': \"{'garage': False, 'street': False, 'validated': False, 'lot': False, 'valet': False}\",\n",
              "   'Caters': 'False',\n",
              "   'GoodForKids': 'True',\n",
              "   'GoodForMeal': \"{'dessert': False, 'latenight': False, 'lunch': False, 'dinner': False, 'breakfast': False, 'brunch': False}\",\n",
              "   'HasTV': 'True',\n",
              "   'NoiseLevel': 'average',\n",
              "   'OutdoorSeating': 'False',\n",
              "   'RestaurantsAttire': 'casual',\n",
              "   'RestaurantsDelivery': 'False',\n",
              "   'RestaurantsGoodForGroups': 'True',\n",
              "   'RestaurantsPriceRange2': '2',\n",
              "   'RestaurantsReservations': 'True',\n",
              "   'RestaurantsTableService': 'True',\n",
              "   'RestaurantsTakeOut': 'False',\n",
              "   'WiFi': 'free'},\n",
              "  'business_id': 'O8S5hYJ1SMc8fA4QBtVujA',\n",
              "  'categories': 'Breakfast & Brunch, Restaurants, French, Sandwiches, Cafes',\n",
              "  'city': 'Montréal',\n",
              "  'hours': {'Friday': '10:0-22:0',\n",
              "   'Monday': '10:0-22:0',\n",
              "   'Saturday': '10:0-22:0',\n",
              "   'Sunday': '10:0-22:0',\n",
              "   'Thursday': '10:0-22:0',\n",
              "   'Tuesday': '10:0-22:0',\n",
              "   'Wednesday': '10:0-22:0'},\n",
              "  'is_open': 0,\n",
              "  'latitude': 45.5405031,\n",
              "  'longitude': -73.5993003,\n",
              "  'name': 'La Bastringue',\n",
              "  'neighborhood': 'Rosemont-La Petite-Patrie',\n",
              "  'postal_code': 'H2G 1K7',\n",
              "  'review_count': 5,\n",
              "  'stars': 4.0,\n",
              "  'state': 'QC'},\n",
              " {'address': '211 W Monroe St',\n",
              "  'attributes': None,\n",
              "  'business_id': 'bFzdJJ3wp3PZssNEsyU23g',\n",
              "  'categories': 'Insurance, Financial Services',\n",
              "  'city': 'Phoenix',\n",
              "  'hours': None,\n",
              "  'is_open': 1,\n",
              "  'latitude': 33.4499993,\n",
              "  'longitude': -112.0769793,\n",
              "  'name': 'Geico Insurance',\n",
              "  'neighborhood': '',\n",
              "  'postal_code': '85003',\n",
              "  'review_count': 8,\n",
              "  'stars': 1.5,\n",
              "  'state': 'AZ'},\n",
              " {'address': '2005 Alyth Place SE',\n",
              "  'attributes': {'BusinessAcceptsCreditCards': 'True'},\n",
              "  'business_id': '8USyCYqpScwiNEb58Bt6CA',\n",
              "  'categories': 'Home & Garden, Nurseries & Gardening, Shopping, Local Services, Automotive, Electronics Repair',\n",
              "  'city': 'Calgary',\n",
              "  'hours': {'Friday': '8:0-17:0',\n",
              "   'Monday': '8:0-17:0',\n",
              "   'Thursday': '8:0-17:0',\n",
              "   'Tuesday': '8:0-17:0',\n",
              "   'Wednesday': '8:0-17:0'},\n",
              "  'is_open': 1,\n",
              "  'latitude': 51.0355914,\n",
              "  'longitude': -114.0273656,\n",
              "  'name': 'Action Engine',\n",
              "  'neighborhood': '',\n",
              "  'postal_code': 'T2H 0N5',\n",
              "  'review_count': 4,\n",
              "  'stars': 2.0,\n",
              "  'state': 'AB'},\n",
              " {'address': '20235 N Cave Creek Rd, Ste 1115',\n",
              "  'attributes': {'BikeParking': 'True',\n",
              "   'BusinessAcceptsCreditCards': 'True',\n",
              "   'BusinessParking': \"{'garage': False, 'street': False, 'validated': False, 'lot': True, 'valet': False}\",\n",
              "   'Caters': 'False',\n",
              "   'OutdoorSeating': 'True',\n",
              "   'RestaurantsPriceRange2': '1',\n",
              "   'RestaurantsTakeOut': 'True',\n",
              "   'WheelchairAccessible': 'True',\n",
              "   'WiFi': 'free'},\n",
              "  'business_id': '45bWSZtniwPRiqlivpS8Og',\n",
              "  'categories': 'Coffee & Tea, Food',\n",
              "  'city': 'Phoenix',\n",
              "  'hours': {'Friday': '5:30-21:0',\n",
              "   'Monday': '5:30-20:0',\n",
              "   'Saturday': '5:30-21:0',\n",
              "   'Sunday': '6:30-19:0',\n",
              "   'Thursday': '5:30-20:0',\n",
              "   'Tuesday': '5:30-20:0',\n",
              "   'Wednesday': '5:30-20:0'},\n",
              "  'is_open': 1,\n",
              "  'latitude': 33.6713751,\n",
              "  'longitude': -112.0300171,\n",
              "  'name': 'The Coffee Bean & Tea Leaf',\n",
              "  'neighborhood': '',\n",
              "  'postal_code': '85024',\n",
              "  'review_count': 63,\n",
              "  'stars': 4.0,\n",
              "  'state': 'AZ'},\n",
              " {'address': '631 Bloor St W',\n",
              "  'attributes': {'BusinessParking': \"{'garage': False, 'street': False, 'validated': False, 'lot': False, 'valet': False}\",\n",
              "   'RestaurantsPriceRange2': '1'},\n",
              "  'business_id': '9A2quhZLyWk0akUetBd8hQ',\n",
              "  'categories': 'Food, Bakeries',\n",
              "  'city': 'Toronto',\n",
              "  'hours': None,\n",
              "  'is_open': 0,\n",
              "  'latitude': 43.6643776,\n",
              "  'longitude': -79.4144238,\n",
              "  'name': 'Bnc Cake House',\n",
              "  'neighborhood': 'Koreatown',\n",
              "  'postal_code': 'M6G 1K8',\n",
              "  'review_count': 7,\n",
              "  'stars': 4.0,\n",
              "  'state': 'ON'},\n",
              " {'address': '3417 Derry Road E, Unit 103',\n",
              "  'attributes': {'Alcohol': 'none',\n",
              "   'BusinessAcceptsCreditCards': 'True',\n",
              "   'BusinessParking': \"{'garage': False, 'street': False, 'validated': False, 'lot': False, 'valet': False}\",\n",
              "   'GoodForKids': 'True',\n",
              "   'OutdoorSeating': 'False',\n",
              "   'RestaurantsAttire': 'casual',\n",
              "   'RestaurantsGoodForGroups': 'True',\n",
              "   'RestaurantsPriceRange2': '2',\n",
              "   'RestaurantsTableService': 'False',\n",
              "   'RestaurantsTakeOut': 'True'},\n",
              "  'business_id': '6OuOZAok8ikONMS_T3EzXg',\n",
              "  'categories': 'Restaurants, Thai',\n",
              "  'city': 'Mississauga',\n",
              "  'hours': None,\n",
              "  'is_open': 1,\n",
              "  'latitude': 43.7129464,\n",
              "  'longitude': -79.6327631,\n",
              "  'name': 'Thai One On',\n",
              "  'neighborhood': 'Ridgewood',\n",
              "  'postal_code': 'L4T 1A8',\n",
              "  'review_count': 7,\n",
              "  'stars': 2.0,\n",
              "  'state': 'ON'},\n",
              " {'address': '1440 N. Dysart Ave',\n",
              "  'attributes': {'Alcohol': 'none',\n",
              "   'Ambience': \"{'romantic': False, 'intimate': False, 'classy': False, 'hipster': False, 'divey': False, 'touristy': False, 'trendy': False, 'upscale': False, 'casual': True}\",\n",
              "   'BikeParking': 'True',\n",
              "   'BusinessAcceptsCreditCards': 'True',\n",
              "   'BusinessParking': \"{'garage': False, 'street': False, 'validated': False, 'lot': True, 'valet': False}\",\n",
              "   'Caters': 'False',\n",
              "   'GoodForKids': 'True',\n",
              "   'GoodForMeal': \"{'dessert': False, 'latenight': True, 'lunch': False, 'dinner': False, 'breakfast': False, 'brunch': False}\",\n",
              "   'HasTV': 'False',\n",
              "   'NoiseLevel': 'average',\n",
              "   'OutdoorSeating': 'False',\n",
              "   'RestaurantsAttire': 'casual',\n",
              "   'RestaurantsDelivery': 'False',\n",
              "   'RestaurantsGoodForGroups': 'True',\n",
              "   'RestaurantsPriceRange2': '1',\n",
              "   'RestaurantsReservations': 'False',\n",
              "   'RestaurantsTableService': 'False',\n",
              "   'RestaurantsTakeOut': 'True',\n",
              "   'WheelchairAccessible': 'True',\n",
              "   'WiFi': 'no'},\n",
              "  'business_id': '8-NRKkPY1UiFXW20WXKiXg',\n",
              "  'categories': 'Mexican, Restaurants',\n",
              "  'city': 'Avondale',\n",
              "  'hours': {'Friday': '0:0-0:0',\n",
              "   'Monday': '0:0-0:0',\n",
              "   'Saturday': '0:0-0:0',\n",
              "   'Sunday': '0:0-0:0',\n",
              "   'Thursday': '0:0-0:0',\n",
              "   'Tuesday': '0:0-0:0',\n",
              "   'Wednesday': '0:0-0:0'},\n",
              "  'is_open': 1,\n",
              "  'latitude': 33.4481059352,\n",
              "  'longitude': -112.341302074,\n",
              "  'name': \"Filiberto's Mexican Food\",\n",
              "  'neighborhood': '',\n",
              "  'postal_code': '85323',\n",
              "  'review_count': 40,\n",
              "  'stars': 2.5,\n",
              "  'state': 'AZ'},\n",
              " {'address': '209 Oakland Ave',\n",
              "  'attributes': {'BikeParking': 'True',\n",
              "   'BusinessAcceptsCreditCards': 'True',\n",
              "   'BusinessParking': \"{'garage': False, 'street': False, 'validated': False, 'lot': False, 'valet': False}\",\n",
              "   'RestaurantsPriceRange2': '2'},\n",
              "  'business_id': 'UTm5QZThPQlT35mkAcGOjg',\n",
              "  'categories': 'Flowers & Gifts, Gift Shops, Shopping',\n",
              "  'city': 'Pittsburgh',\n",
              "  'hours': {'Friday': '9:0-17:0',\n",
              "   'Monday': '9:0-18:0',\n",
              "   'Saturday': '10:0-17:0',\n",
              "   'Thursday': '9:0-18:0',\n",
              "   'Tuesday': '9:0-18:0',\n",
              "   'Wednesday': '9:0-18:0'},\n",
              "  'is_open': 1,\n",
              "  'latitude': 40.4414214,\n",
              "  'longitude': -79.9564571,\n",
              "  'name': \"Maggie & Stella's Gifts\",\n",
              "  'neighborhood': 'Oakland',\n",
              "  'postal_code': '15213',\n",
              "  'review_count': 3,\n",
              "  'stars': 3.5,\n",
              "  'state': 'PA'},\n",
              " {'address': '4568 Highway 7 E',\n",
              "  'attributes': {'GoodForKids': 'True',\n",
              "   'NoiseLevel': 'loud',\n",
              "   'RestaurantsAttire': 'casual',\n",
              "   'RestaurantsGoodForGroups': 'True',\n",
              "   'RestaurantsTakeOut': 'True'},\n",
              "  'business_id': 'KapTdGyGs7RK0c68Z6hhhg',\n",
              "  'categories': 'Restaurants, Japanese',\n",
              "  'city': 'Markham',\n",
              "  'hours': {'Friday': '11:30-23:0',\n",
              "   'Monday': '11:30-23:0',\n",
              "   'Saturday': '11:30-23:0',\n",
              "   'Sunday': '12:0-23:0',\n",
              "   'Thursday': '11:30-23:0',\n",
              "   'Tuesday': '11:30-23:0',\n",
              "   'Wednesday': '11:30-23:0'},\n",
              "  'is_open': 0,\n",
              "  'latitude': 43.862484,\n",
              "  'longitude': -79.3069597,\n",
              "  'name': 'Sushi 8',\n",
              "  'neighborhood': 'Unionville',\n",
              "  'postal_code': 'L3R 1M5',\n",
              "  'review_count': 12,\n",
              "  'stars': 1.5,\n",
              "  'state': 'ON'},\n",
              " {'address': '595 Markham Street',\n",
              "  'attributes': {'Alcohol': 'full_bar',\n",
              "   'Ambience': \"{'romantic': False, 'intimate': False, 'classy': False, 'hipster': False, 'touristy': False, 'trendy': False, 'upscale': False, 'casual': False}\",\n",
              "   'BikeParking': 'True',\n",
              "   'BusinessAcceptsCreditCards': 'True',\n",
              "   'BusinessParking': \"{'garage': False, 'street': True, 'validated': False, 'lot': False, 'valet': False}\",\n",
              "   'Caters': 'True',\n",
              "   'DogsAllowed': 'False',\n",
              "   'GoodForKids': 'False',\n",
              "   'GoodForMeal': \"{'dessert': False, 'latenight': False, 'lunch': False, 'dinner': True, 'breakfast': False, 'brunch': False}\",\n",
              "   'HasTV': 'False',\n",
              "   'NoiseLevel': 'average',\n",
              "   'OutdoorSeating': 'True',\n",
              "   'RestaurantsAttire': 'casual',\n",
              "   'RestaurantsDelivery': 'False',\n",
              "   'RestaurantsGoodForGroups': 'True',\n",
              "   'RestaurantsPriceRange2': '2',\n",
              "   'RestaurantsReservations': 'True',\n",
              "   'RestaurantsTableService': 'True',\n",
              "   'RestaurantsTakeOut': 'True',\n",
              "   'WheelchairAccessible': 'False',\n",
              "   'WiFi': 'no'},\n",
              "  'business_id': 'tZnSodhPwNr4bzrwJ1CSbw',\n",
              "  'categories': 'Cajun/Creole, Southern, Restaurants',\n",
              "  'city': 'Toronto',\n",
              "  'hours': {'Friday': '17:0-1:0',\n",
              "   'Saturday': '17:0-1:0',\n",
              "   'Sunday': '17:0-1:0',\n",
              "   'Thursday': '17:0-1:0',\n",
              "   'Tuesday': '17:0-1:0',\n",
              "   'Wednesday': '17:0-1:0'},\n",
              "  'is_open': 0,\n",
              "  'latitude': 43.6641249,\n",
              "  'longitude': -79.4118861,\n",
              "  'name': 'Southern Accent Restaurant',\n",
              "  'neighborhood': 'Palmerston',\n",
              "  'postal_code': 'M6G 2L7',\n",
              "  'review_count': 146,\n",
              "  'stars': 4.0,\n",
              "  'state': 'ON'},\n",
              " {'address': '2801 N 15th Ave',\n",
              "  'attributes': {'Alcohol': 'full_bar',\n",
              "   'Ambience': \"{'romantic': False, 'intimate': False, 'classy': False, 'hipster': False, 'divey': False, 'touristy': False, 'trendy': False, 'upscale': False, 'casual': True}\",\n",
              "   'BYOB': 'False',\n",
              "   'BYOBCorkage': 'yes_free',\n",
              "   'BestNights': \"{'monday': False, 'tuesday': True, 'friday': True, 'wednesday': False, 'thursday': False, 'sunday': False, 'saturday': True}\",\n",
              "   'BikeParking': 'True',\n",
              "   'BusinessAcceptsCreditCards': 'True',\n",
              "   'BusinessParking': \"{'garage': False, 'street': False, 'validated': False, 'lot': True, 'valet': False}\",\n",
              "   'Caters': 'False',\n",
              "   'CoatCheck': 'False',\n",
              "   'Corkage': 'False',\n",
              "   'DriveThru': 'False',\n",
              "   'GoodForDancing': 'False',\n",
              "   'GoodForKids': 'True',\n",
              "   'GoodForMeal': \"{'dessert': False, 'latenight': False, 'lunch': True, 'dinner': True, 'breakfast': False, 'brunch': False}\",\n",
              "   'HappyHour': 'True',\n",
              "   'HasTV': 'True',\n",
              "   'Music': \"{'dj': False, 'background_music': False, 'no_music': False, 'karaoke': False, 'live': False, 'video': False, 'jukebox': False}\",\n",
              "   'NoiseLevel': 'average',\n",
              "   'OutdoorSeating': 'True',\n",
              "   'RestaurantsAttire': 'casual',\n",
              "   'RestaurantsDelivery': 'False',\n",
              "   'RestaurantsGoodForGroups': 'True',\n",
              "   'RestaurantsPriceRange2': '1',\n",
              "   'RestaurantsReservations': 'False',\n",
              "   'RestaurantsTableService': 'False',\n",
              "   'RestaurantsTakeOut': 'True',\n",
              "   'Smoking': 'outdoor',\n",
              "   'WheelchairAccessible': 'True',\n",
              "   'WiFi': 'no'},\n",
              "  'business_id': '_c3ixq9jYKxhLUB0czi0ug',\n",
              "  'categories': 'Bars, Sports Bars, Dive Bars, Burgers, Nightlife, Sandwiches, Restaurants',\n",
              "  'city': 'Phoenix',\n",
              "  'hours': {'Friday': '11:0-23:0',\n",
              "   'Monday': '11:0-22:0',\n",
              "   'Saturday': '11:0-22:0',\n",
              "   'Sunday': '11:0-21:0',\n",
              "   'Thursday': '11:0-22:0',\n",
              "   'Tuesday': '11:0-22:0',\n",
              "   'Wednesday': '11:0-22:0'},\n",
              "  'is_open': 1,\n",
              "  'latitude': 33.4798071,\n",
              "  'longitude': -112.0911877,\n",
              "  'name': 'Original Hamburger Works',\n",
              "  'neighborhood': '',\n",
              "  'postal_code': '85007',\n",
              "  'review_count': 277,\n",
              "  'stars': 4.0,\n",
              "  'state': 'AZ'},\n",
              " {'address': '4216 Saint-Laurent Boul',\n",
              "  'attributes': {'Alcohol': 'full_bar',\n",
              "   'Ambience': \"{'romantic': False, 'intimate': False, 'classy': False, 'hipster': False, 'touristy': False, 'trendy': False, 'upscale': False, 'casual': False}\",\n",
              "   'BikeParking': 'True',\n",
              "   'BusinessAcceptsCreditCards': 'True',\n",
              "   'BusinessParking': \"{'garage': False, 'street': False, 'validated': False, 'lot': False, 'valet': False}\",\n",
              "   'GoodForKids': 'True',\n",
              "   'GoodForMeal': \"{'dessert': False, 'latenight': False, 'lunch': True, 'dinner': False, 'breakfast': False, 'brunch': False}\",\n",
              "   'HasTV': 'False',\n",
              "   'NoiseLevel': 'quiet',\n",
              "   'OutdoorSeating': 'False',\n",
              "   'RestaurantsAttire': 'casual',\n",
              "   'RestaurantsDelivery': 'True',\n",
              "   'RestaurantsGoodForGroups': 'True',\n",
              "   'RestaurantsPriceRange2': '2',\n",
              "   'RestaurantsReservations': 'True',\n",
              "   'RestaurantsTableService': 'True',\n",
              "   'RestaurantsTakeOut': 'True',\n",
              "   'WheelchairAccessible': 'True',\n",
              "   'WiFi': 'no'},\n",
              "  'business_id': 'bBUMib8l6Me1ZB1_Qkezkg',\n",
              "  'categories': 'Restaurants, Pakistani, Indian, Middle Eastern',\n",
              "  'city': 'Montréal',\n",
              "  'hours': None,\n",
              "  'is_open': 1,\n",
              "  'latitude': 45.5180358,\n",
              "  'longitude': -73.5821744,\n",
              "  'name': 'Mysore Indian Cuisine',\n",
              "  'neighborhood': 'Plateau-Mont-Royal',\n",
              "  'postal_code': 'H2W 1Z3',\n",
              "  'review_count': 19,\n",
              "  'stars': 3.5,\n",
              "  'state': 'QC'},\n",
              " {'address': '4404 14 Street NW',\n",
              "  'attributes': {'BusinessParking': \"{'garage': False, 'street': False, 'validated': False, 'lot': False, 'valet': False}\",\n",
              "   'ByAppointmentOnly': 'False'},\n",
              "  'business_id': 'o_zDURWzgt5yM5HW_xGJsg',\n",
              "  'categories': 'Beauty & Spas, Barbers',\n",
              "  'city': 'Calgary',\n",
              "  'hours': {'Friday': '9:30-18:0',\n",
              "   'Monday': '9:30-18:0',\n",
              "   'Saturday': '9:30-18:0',\n",
              "   'Thursday': '9:30-18:0',\n",
              "   'Tuesday': '9:30-18:0',\n",
              "   'Wednesday': '9:30-18:0'},\n",
              "  'is_open': 1,\n",
              "  'latitude': 51.0918572,\n",
              "  'longitude': -114.094625,\n",
              "  'name': 'North Haven Barber Shop',\n",
              "  'neighborhood': '',\n",
              "  'postal_code': 'T2K',\n",
              "  'review_count': 3,\n",
              "  'stars': 4.5,\n",
              "  'state': 'AB'},\n",
              " {'address': '1200 37 St SW',\n",
              "  'attributes': {'BusinessAcceptsCreditCards': 'True',\n",
              "   'BusinessParking': \"{'garage': False, 'street': False, 'validated': False, 'lot': False, 'valet': False}\",\n",
              "   'GoodForMeal': \"{'dessert': False, 'latenight': False, 'lunch': False, 'dinner': False, 'breakfast': False, 'brunch': False}\",\n",
              "   'RestaurantsPriceRange2': '2'},\n",
              "  'business_id': 'IbTDLI02Sq50C7B-EWK1sg',\n",
              "  'categories': 'Delis, Restaurants, Sandwiches',\n",
              "  'city': 'Calgary',\n",
              "  'hours': None,\n",
              "  'is_open': 1,\n",
              "  'latitude': 51.0424689,\n",
              "  'longitude': -114.1395743,\n",
              "  'name': 'Safeway Food & Drug',\n",
              "  'neighborhood': '',\n",
              "  'postal_code': 'T3C 1S2',\n",
              "  'review_count': 4,\n",
              "  'stars': 2.5,\n",
              "  'state': 'AB'},\n",
              " {'address': '438 Place Jacques Cartier',\n",
              "  'attributes': {'Alcohol': 'full_bar',\n",
              "   'BikeParking': 'True',\n",
              "   'BusinessAcceptsCreditCards': 'True',\n",
              "   'BusinessParking': \"{'garage': False, 'street': False, 'validated': False, 'lot': False, 'valet': False}\",\n",
              "   'Caters': 'False',\n",
              "   'DogsAllowed': 'False',\n",
              "   'GoodForKids': 'False',\n",
              "   'GoodForMeal': \"{'dessert': False, 'latenight': False, 'lunch': False, 'dinner': False, 'breakfast': False, 'brunch': False}\",\n",
              "   'HappyHour': 'True',\n",
              "   'HasTV': 'False',\n",
              "   'NoiseLevel': 'average',\n",
              "   'OutdoorSeating': 'True',\n",
              "   'RestaurantsAttire': 'dressy',\n",
              "   'RestaurantsDelivery': 'False',\n",
              "   'RestaurantsGoodForGroups': 'True',\n",
              "   'RestaurantsPriceRange2': '3',\n",
              "   'RestaurantsReservations': 'True',\n",
              "   'RestaurantsTakeOut': 'False',\n",
              "   'WheelchairAccessible': 'True',\n",
              "   'WiFi': 'free'},\n",
              "  'business_id': 'r89Re4FNgVWHgBfjCVZyVw',\n",
              "  'categories': 'Nightlife, Bars, American (Traditional), Tapas/Small Plates, Poutineries, Supper Clubs, Restaurants, Tapas Bars',\n",
              "  'city': 'Montréal',\n",
              "  'hours': {'Friday': '11:30-0:0',\n",
              "   'Monday': '11:30-23:0',\n",
              "   'Saturday': '11:30-0:0',\n",
              "   'Sunday': '11:30-23:0',\n",
              "   'Thursday': '11:30-3:0',\n",
              "   'Tuesday': '11:30-23:0',\n",
              "   'Wednesday': '11:30-23:0'},\n",
              "  'is_open': 0,\n",
              "  'latitude': 45.507699,\n",
              "  'longitude': -73.553407,\n",
              "  'name': 'Harlow',\n",
              "  'neighborhood': 'Ville-Marie',\n",
              "  'postal_code': 'H2Y 3B3',\n",
              "  'review_count': 12,\n",
              "  'stars': 3.5,\n",
              "  'state': 'QC'},\n",
              " {'address': '703 N Rancho Dr',\n",
              "  'attributes': {'BusinessAcceptsCreditCards': 'True',\n",
              "   'BusinessParking': \"{'garage': False, 'street': False, 'validated': False, 'lot': False, 'valet': False}\",\n",
              "   'RestaurantsPriceRange2': '2'},\n",
              "  'business_id': 'hTzcHtk4-0QJnFUbkKpd5Q',\n",
              "  'categories': 'Shopping, Fashion, Department Stores',\n",
              "  'city': 'Las Vegas',\n",
              "  'hours': None,\n",
              "  'is_open': 1,\n",
              "  'latitude': 36.1783477,\n",
              "  'longitude': -115.1769162,\n",
              "  'name': 'Citi Trends',\n",
              "  'neighborhood': '',\n",
              "  'postal_code': '89106',\n",
              "  'review_count': 4,\n",
              "  'stars': 4.0,\n",
              "  'state': 'NV'},\n",
              " {'address': '1549 N Rancho Dr',\n",
              "  'attributes': None,\n",
              "  'business_id': 'UwIpS9UKsPiKAv1fiEYhqg',\n",
              "  'categories': 'Financial Services, Check Cashing/Pay-day Loans, Title Loans',\n",
              "  'city': 'Las Vegas',\n",
              "  'hours': {'Friday': '10:0-19:0',\n",
              "   'Monday': '10:0-19:0',\n",
              "   'Saturday': '9:0-16:0',\n",
              "   'Sunday': '8:0-17:0',\n",
              "   'Thursday': '10:0-18:0',\n",
              "   'Tuesday': '10:0-18:0',\n",
              "   'Wednesday': '10:0-18:0'},\n",
              "  'is_open': 1,\n",
              "  'latitude': 36.1883858514,\n",
              "  'longitude': -115.186123699,\n",
              "  'name': 'Nevada Title And Payday Loans',\n",
              "  'neighborhood': '',\n",
              "  'postal_code': '89106',\n",
              "  'review_count': 4,\n",
              "  'stars': 1.0,\n",
              "  'state': 'NV'},\n",
              " {'address': '3940 Martin Luther King Blvd, Ste 101',\n",
              "  'attributes': {'BikeParking': 'True',\n",
              "   'BusinessAcceptsCreditCards': 'True',\n",
              "   'RestaurantsDelivery': 'False'},\n",
              "  'business_id': 'vJIuDBdu01vCA8y1fwR1OQ',\n",
              "  'categories': 'American (Traditional), Food, Bakeries, Restaurants',\n",
              "  'city': 'Las Vegas',\n",
              "  'hours': {'Friday': '11:0-18:0',\n",
              "   'Saturday': '11:0-17:0',\n",
              "   'Thursday': '11:0-18:0',\n",
              "   'Tuesday': '11:0-18:0',\n",
              "   'Wednesday': '11:0-18:0'},\n",
              "  'is_open': 0,\n",
              "  'latitude': 36.1922841,\n",
              "  'longitude': -115.1592718,\n",
              "  'name': 'CakesbyToi',\n",
              "  'neighborhood': '',\n",
              "  'postal_code': '89106',\n",
              "  'review_count': 3,\n",
              "  'stars': 1.5,\n",
              "  'state': 'NV'},\n",
              " {'address': '',\n",
              "  'attributes': {'BusinessAcceptsCreditCards': 'True'},\n",
              "  'business_id': 'YZCHr68c5aEVHz0bkq9K2g',\n",
              "  'categories': 'Home Services, Masonry/Concrete, Professional Services, Contractors',\n",
              "  'city': 'Las Vegas',\n",
              "  'hours': None,\n",
              "  'is_open': 1,\n",
              "  'latitude': 36.2608162,\n",
              "  'longitude': -115.1711298,\n",
              "  'name': 'Park Stone Pavers',\n",
              "  'neighborhood': '',\n",
              "  'postal_code': '89031',\n",
              "  'review_count': 20,\n",
              "  'stars': 5.0,\n",
              "  'state': 'NV'},\n",
              " {'address': '3040 Carnegie Ave',\n",
              "  'attributes': None,\n",
              "  'business_id': 'gJ5xSt6147gkcZ9Es0WxlA',\n",
              "  'categories': 'Fast Food, Burgers, Restaurants',\n",
              "  'city': 'Cleveland',\n",
              "  'hours': None,\n",
              "  'is_open': 1,\n",
              "  'latitude': 41.4999894,\n",
              "  'longitude': -81.6663746,\n",
              "  'name': \"Rally's Hamburgers\",\n",
              "  'neighborhood': 'Central',\n",
              "  'postal_code': '44115',\n",
              "  'review_count': 5,\n",
              "  'stars': 3.0,\n",
              "  'state': 'OH'},\n",
              " {'address': '4131 N 83rd Ave',\n",
              "  'attributes': {'Ambience': \"{'romantic': False, 'intimate': False, 'classy': False, 'hipster': False, 'divey': False, 'touristy': False, 'trendy': False, 'upscale': False, 'casual': False}\",\n",
              "   'BusinessAcceptsCreditCards': 'True',\n",
              "   'BusinessParking': \"{'garage': False, 'street': False, 'validated': False, 'lot': False, 'valet': False}\",\n",
              "   'CoatCheck': 'False',\n",
              "   'GoodForDancing': 'False',\n",
              "   'GoodForKids': 'False',\n",
              "   'GoodForMeal': \"{'dessert': False, 'latenight': False, 'lunch': False, 'dinner': False, 'breakfast': False, 'brunch': False}\",\n",
              "   'HasTV': 'True',\n",
              "   'Music': \"{'dj': False, 'background_music': False, 'no_music': False, 'karaoke': False, 'live': False, 'video': False, 'jukebox': True}\",\n",
              "   'NoiseLevel': 'average',\n",
              "   'OutdoorSeating': 'False',\n",
              "   'RestaurantsAttire': 'casual',\n",
              "   'RestaurantsPriceRange2': '1',\n",
              "   'RestaurantsTableService': 'True',\n",
              "   'RestaurantsTakeOut': 'True',\n",
              "   'WiFi': 'free'},\n",
              "  'business_id': '3ByGQOVgds2YEu6kzl-XEQ',\n",
              "  'categories': 'Nightlife, Bars, American (Traditional), Sports Bars, Restaurants',\n",
              "  'city': 'Phoenix',\n",
              "  'hours': None,\n",
              "  'is_open': 1,\n",
              "  'latitude': 33.4952976,\n",
              "  'longitude': -112.2360764,\n",
              "  'name': 'Rib Shop',\n",
              "  'neighborhood': '',\n",
              "  'postal_code': '85033',\n",
              "  'review_count': 3,\n",
              "  'stars': 2.5,\n",
              "  'state': 'AZ'},\n",
              " {'address': '746 Street Clair Avenue W',\n",
              "  'attributes': {'BikeParking': 'True',\n",
              "   'BusinessAcceptsCreditCards': 'True',\n",
              "   'BusinessParking': \"{'garage': False, 'street': False, 'validated': False, 'lot': False, 'valet': False}\",\n",
              "   'OutdoorSeating': 'False',\n",
              "   'RestaurantsDelivery': 'False',\n",
              "   'RestaurantsPriceRange2': '2',\n",
              "   'RestaurantsTakeOut': 'True',\n",
              "   'WiFi': 'no'},\n",
              "  'business_id': '5J3b7j3Fzo9ISjChmoUoUA',\n",
              "  'categories': 'Food, Bakeries, Coffee & Tea',\n",
              "  'city': 'Toronto',\n",
              "  'hours': {'Friday': '7:30-19:0',\n",
              "   'Monday': '7:30-19:0',\n",
              "   'Saturday': '8:0-18:0',\n",
              "   'Sunday': '9:0-18:0',\n",
              "   'Thursday': '7:30-19:0',\n",
              "   'Tuesday': '7:30-19:0',\n",
              "   'Wednesday': '7:30-19:0'},\n",
              "  'is_open': 1,\n",
              "  'latitude': 43.6813277,\n",
              "  'longitude': -79.4278838,\n",
              "  'name': \"Mabel's Bakery\",\n",
              "  'neighborhood': 'Wychwood',\n",
              "  'postal_code': 'M6C 1B5',\n",
              "  'review_count': 23,\n",
              "  'stars': 4.0,\n",
              "  'state': 'ON'},\n",
              " {'address': '7745 W Thomas Rd',\n",
              "  'attributes': {'BusinessAcceptsCreditCards': 'True',\n",
              "   'GoodForKids': 'True',\n",
              "   'GoodForMeal': \"{'dessert': False, 'latenight': False, 'lunch': False, 'dinner': False, 'breakfast': False, 'brunch': False}\",\n",
              "   'HasTV': 'True',\n",
              "   'OutdoorSeating': 'False',\n",
              "   'RestaurantsAttire': 'casual',\n",
              "   'RestaurantsDelivery': 'False',\n",
              "   'RestaurantsGoodForGroups': 'True',\n",
              "   'RestaurantsPriceRange2': '1',\n",
              "   'RestaurantsReservations': 'False',\n",
              "   'RestaurantsTakeOut': 'True',\n",
              "   'WiFi': 'no'},\n",
              "  'business_id': 'CeuTRtwsq6w5rztGOyNMPg',\n",
              "  'categories': 'Mexican, Restaurants',\n",
              "  'city': 'Phoenix',\n",
              "  'hours': None,\n",
              "  'is_open': 1,\n",
              "  'latitude': 33.4796712,\n",
              "  'longitude': -112.2251729,\n",
              "  'name': 'Salsitas',\n",
              "  'neighborhood': '',\n",
              "  'postal_code': '85033',\n",
              "  'review_count': 14,\n",
              "  'stars': 2.5,\n",
              "  'state': 'AZ'},\n",
              " {'address': '1204 Bear Ln',\n",
              "  'attributes': {'GoodForKids': 'True',\n",
              "   'RestaurantsGoodForGroups': 'True',\n",
              "   'RestaurantsPriceRange2': '1',\n",
              "   'RestaurantsTableService': 'True',\n",
              "   'RestaurantsTakeOut': 'True'},\n",
              "  'business_id': 'gsoSAb9t7Ar7Ww6O_3GuOg',\n",
              "  'categories': 'Mexican, Restaurants',\n",
              "  'city': 'Monticello',\n",
              "  'hours': {'Friday': '11:0-21:30',\n",
              "   'Saturday': '11:0-21:30',\n",
              "   'Sunday': '11:0-21:0',\n",
              "   'Thursday': '11:0-21:0',\n",
              "   'Tuesday': '11:0-21:0',\n",
              "   'Wednesday': '11:0-21:0'},\n",
              "  'is_open': 0,\n",
              "  'latitude': 40.0093278,\n",
              "  'longitude': -88.5763857,\n",
              "  'name': 'Los Toros Numero 2',\n",
              "  'neighborhood': '',\n",
              "  'postal_code': '61856',\n",
              "  'review_count': 6,\n",
              "  'stars': 3.5,\n",
              "  'state': 'IL'},\n",
              " {'address': '',\n",
              "  'attributes': {'BusinessAcceptsCreditCards': 'True',\n",
              "   'ByAppointmentOnly': 'True'},\n",
              "  'business_id': 'guRyrKMBDkcHExGzwxSfvg',\n",
              "  'categories': 'Home Services, Home Automation, Security Systems',\n",
              "  'city': 'Phoenix',\n",
              "  'hours': {'Friday': '0:0-0:0',\n",
              "   'Monday': '0:0-0:0',\n",
              "   'Saturday': '0:0-0:0',\n",
              "   'Sunday': '0:0-0:0',\n",
              "   'Thursday': '0:0-0:0',\n",
              "   'Tuesday': '0:0-0:0',\n",
              "   'Wednesday': '0:0-0:0'},\n",
              "  'is_open': 1,\n",
              "  'latitude': 33.4316647997,\n",
              "  'longitude': -112.102958984,\n",
              "  'name': 'ADT Security Services, Inc.',\n",
              "  'neighborhood': '',\n",
              "  'postal_code': '85001',\n",
              "  'review_count': 4,\n",
              "  'stars': 1.0,\n",
              "  'state': 'AZ'},\n",
              " {'address': '99 Yorkville Avenue',\n",
              "  'attributes': {'Ambience': \"{'romantic': False, 'intimate': False, 'classy': False, 'hipster': False, 'touristy': False, 'trendy': False, 'upscale': False, 'casual': False}\",\n",
              "   'BusinessAcceptsCreditCards': 'True',\n",
              "   'GoodForKids': 'True',\n",
              "   'GoodForMeal': \"{'dessert': False, 'latenight': False, 'lunch': False, 'dinner': False, 'breakfast': False, 'brunch': False}\",\n",
              "   'NoiseLevel': 'average',\n",
              "   'OutdoorSeating': 'True',\n",
              "   'RestaurantsAttire': 'casual',\n",
              "   'RestaurantsDelivery': 'False',\n",
              "   'RestaurantsGoodForGroups': 'True',\n",
              "   'RestaurantsPriceRange2': '2',\n",
              "   'RestaurantsReservations': 'False',\n",
              "   'RestaurantsTakeOut': 'True'},\n",
              "  'business_id': 'PMDlKLd0Mxj0ngCpuUmE5Q',\n",
              "  'categories': 'Restaurants, Food, Canadian (New), Coffee & Tea',\n",
              "  'city': 'Toronto',\n",
              "  'hours': None,\n",
              "  'is_open': 0,\n",
              "  'latitude': 43.6708846,\n",
              "  'longitude': -79.3923788,\n",
              "  'name': 'The Coffee Mill Restaurant',\n",
              "  'neighborhood': 'Yorkville',\n",
              "  'postal_code': 'M5R 3K5',\n",
              "  'review_count': 25,\n",
              "  'stars': 3.5,\n",
              "  'state': 'ON'},\n",
              " {'address': '1-905 Britannia Road West',\n",
              "  'attributes': None,\n",
              "  'business_id': '65DAbjsiws2_T600pNpWFQ',\n",
              "  'categories': 'Optometrists, Shopping, Eyewear & Opticians, Health & Medical',\n",
              "  'city': 'Mississauga',\n",
              "  'hours': {'Friday': '10:0-21:0',\n",
              "   'Monday': '10:0-21:0',\n",
              "   'Saturday': '10:0-18:0',\n",
              "   'Sunday': '11:0-17:0',\n",
              "   'Thursday': '10:0-21:0',\n",
              "   'Tuesday': '10:0-21:0',\n",
              "   'Wednesday': '10:0-21:0'},\n",
              "  'is_open': 1,\n",
              "  'latitude': 43.6092686,\n",
              "  'longitude': -79.6990349,\n",
              "  'name': 'Laurier Optical',\n",
              "  'neighborhood': 'East Credit',\n",
              "  'postal_code': 'L5V 2X8',\n",
              "  'review_count': 3,\n",
              "  'stars': 1.0,\n",
              "  'state': 'ON'},\n",
              " {'address': '9525 State Rt 14',\n",
              "  'attributes': {'BusinessAcceptsCreditCards': 'True',\n",
              "   'BusinessParking': \"{'garage': False, 'street': False, 'validated': False, 'lot': False, 'valet': False}\",\n",
              "   'GoodForKids': 'False',\n",
              "   'GoodForMeal': \"{'dessert': False, 'latenight': False, 'lunch': False, 'dinner': False, 'breakfast': False, 'brunch': False}\",\n",
              "   'OutdoorSeating': 'False',\n",
              "   'RestaurantsAttire': 'casual',\n",
              "   'RestaurantsDelivery': 'True',\n",
              "   'RestaurantsGoodForGroups': 'False',\n",
              "   'RestaurantsPriceRange2': '2',\n",
              "   'RestaurantsReservations': 'False',\n",
              "   'RestaurantsTableService': 'False',\n",
              "   'RestaurantsTakeOut': 'True'},\n",
              "  'business_id': '6YC6CsXRrmPv_iwfvc9onA',\n",
              "  'categories': 'Pizza, Restaurants',\n",
              "  'city': 'Streetsboro',\n",
              "  'hours': {'Friday': '11:0-23:0',\n",
              "   'Monday': '11:0-22:0',\n",
              "   'Saturday': '11:0-23:0',\n",
              "   'Sunday': '15:0-21:0',\n",
              "   'Thursday': '11:0-22:0',\n",
              "   'Tuesday': '11:0-22:0',\n",
              "   'Wednesday': '11:0-22:0'},\n",
              "  'is_open': 1,\n",
              "  'latitude': 41.2437831,\n",
              "  'longitude': -81.3566613,\n",
              "  'name': 'Teresas Pizzeria',\n",
              "  'neighborhood': '',\n",
              "  'postal_code': '44241',\n",
              "  'review_count': 11,\n",
              "  'stars': 3.0,\n",
              "  'state': 'OH'},\n",
              " {'address': '5508 County Rd N, Ste 3',\n",
              "  'attributes': {'Alcohol': 'full_bar',\n",
              "   'Ambience': \"{'romantic': False, 'intimate': False, 'classy': False, 'hipster': False, 'divey': True, 'touristy': False, 'trendy': False, 'upscale': False, 'casual': False}\",\n",
              "   'BikeParking': 'False',\n",
              "   'BusinessAcceptsCreditCards': 'False',\n",
              "   'BusinessParking': \"{'garage': False, 'street': False, 'validated': False, 'lot': True, 'valet': False}\",\n",
              "   'Caters': 'False',\n",
              "   'CoatCheck': 'False',\n",
              "   'GoodForDancing': 'False',\n",
              "   'GoodForKids': 'False',\n",
              "   'GoodForMeal': \"{'dessert': False, 'latenight': False, 'lunch': True, 'dinner': True, 'breakfast': False, 'brunch': False}\",\n",
              "   'HappyHour': 'True',\n",
              "   'HasTV': 'True',\n",
              "   'Music': \"{'dj': False, 'background_music': False, 'no_music': False, 'karaoke': False, 'live': False, 'video': False, 'jukebox': False}\",\n",
              "   'NoiseLevel': 'average',\n",
              "   'OutdoorSeating': 'True',\n",
              "   'RestaurantsAttire': 'casual',\n",
              "   'RestaurantsDelivery': 'False',\n",
              "   'RestaurantsGoodForGroups': 'True',\n",
              "   'RestaurantsPriceRange2': '1',\n",
              "   'RestaurantsReservations': 'False',\n",
              "   'RestaurantsTableService': 'False',\n",
              "   'RestaurantsTakeOut': 'True',\n",
              "   'Smoking': 'outdoor',\n",
              "   'WheelchairAccessible': 'True',\n",
              "   'WiFi': 'no'},\n",
              "  'business_id': '42uRhhQDzbtKrUYoBPXS8A',\n",
              "  'categories': 'Nightlife, Restaurants, Bars, Chicken Wings, American (Traditional)',\n",
              "  'city': 'Sun Prairie',\n",
              "  'hours': {'Friday': '11:0-0:0',\n",
              "   'Monday': '11:0-0:0',\n",
              "   'Saturday': '11:0-0:0',\n",
              "   'Sunday': '11:0-0:0',\n",
              "   'Thursday': '11:0-0:0',\n",
              "   'Tuesday': '11:0-0:0',\n",
              "   'Wednesday': '11:0-0:0'},\n",
              "  'is_open': 1,\n",
              "  'latitude': 43.149488,\n",
              "  'longitude': -89.206641,\n",
              "  'name': 'Chicken Lips',\n",
              "  'neighborhood': '',\n",
              "  'postal_code': '53590',\n",
              "  'review_count': 102,\n",
              "  'stars': 4.5,\n",
              "  'state': 'WI'},\n",
              " {'address': '3008 County Hwy T',\n",
              "  'attributes': {'BusinessAcceptsCreditCards': 'True',\n",
              "   'BusinessParking': \"{'garage': False, 'street': False, 'validated': False, 'lot': True, 'valet': False}\",\n",
              "   'DogsAllowed': 'True',\n",
              "   'RestaurantsPriceRange2': '3'},\n",
              "  'business_id': 'B_mz59xi-Q3zCIiXsnBM_A',\n",
              "  'categories': 'Shopping, Gardeners, Home Services, Nurseries & Gardening, Landscaping, Home & Garden, Landscape Architects',\n",
              "  'city': 'Sun Prairie',\n",
              "  'hours': {'Friday': '9:0-17:0',\n",
              "   'Monday': '9:0-17:0',\n",
              "   'Saturday': '9:0-17:0',\n",
              "   'Sunday': '9:0-17:0',\n",
              "   'Thursday': '9:0-17:0',\n",
              "   'Tuesday': '9:0-17:0',\n",
              "   'Wednesday': '9:0-17:0'},\n",
              "  'is_open': 1,\n",
              "  'latitude': 43.1223953,\n",
              "  'longitude': -89.2391405,\n",
              "  'name': 'Schonheit Gardens',\n",
              "  'neighborhood': '',\n",
              "  'postal_code': '53590',\n",
              "  'review_count': 3,\n",
              "  'stars': 3.5,\n",
              "  'state': 'WI'},\n",
              " {'address': '2255 N Rampart Blvd',\n",
              "  'attributes': {'Alcohol': 'none',\n",
              "   'Ambience': \"{'romantic': False, 'intimate': False, 'classy': False, 'hipster': False, 'divey': False, 'touristy': False, 'trendy': False, 'upscale': False, 'casual': True}\",\n",
              "   'BikeParking': 'True',\n",
              "   'BusinessAcceptsCreditCards': 'True',\n",
              "   'BusinessParking': \"{'garage': False, 'street': False, 'validated': False, 'lot': True, 'valet': False}\",\n",
              "   'Caters': 'True',\n",
              "   'DriveThru': 'False',\n",
              "   'GoodForKids': 'True',\n",
              "   'GoodForMeal': \"{'dessert': False, 'latenight': False, 'lunch': True, 'dinner': True, 'breakfast': True, 'brunch': False}\",\n",
              "   'HasTV': 'False',\n",
              "   'NoiseLevel': 'average',\n",
              "   'OutdoorSeating': 'False',\n",
              "   'RestaurantsAttire': 'casual',\n",
              "   'RestaurantsDelivery': 'False',\n",
              "   'RestaurantsGoodForGroups': 'True',\n",
              "   'RestaurantsPriceRange2': '1',\n",
              "   'RestaurantsReservations': 'False',\n",
              "   'RestaurantsTableService': 'False',\n",
              "   'RestaurantsTakeOut': 'True',\n",
              "   'WiFi': 'no'},\n",
              "  'business_id': 'kgffcoxT6BQp-gJ-UQ7Czw',\n",
              "  'categories': 'Fast Food, Restaurants, Sandwiches',\n",
              "  'city': 'Las Vegas',\n",
              "  'hours': {'Friday': '9:0-21:0',\n",
              "   'Monday': '9:0-21:0',\n",
              "   'Saturday': '9:0-21:0',\n",
              "   'Sunday': '9:0-21:0',\n",
              "   'Thursday': '9:0-21:0',\n",
              "   'Tuesday': '9:0-21:0',\n",
              "   'Wednesday': '9:0-21:0'},\n",
              "  'is_open': 1,\n",
              "  'latitude': 36.2017936,\n",
              "  'longitude': -115.2819809,\n",
              "  'name': 'Subway',\n",
              "  'neighborhood': 'Summerlin',\n",
              "  'postal_code': '89128',\n",
              "  'review_count': 13,\n",
              "  'stars': 2.5,\n",
              "  'state': 'NV'},\n",
              " {'address': '2227 N Rampart Blvd',\n",
              "  'attributes': {'Alcohol': 'beer_and_wine',\n",
              "   'Ambience': \"{'romantic': False, 'intimate': False, 'classy': False, 'hipster': False, 'divey': False, 'touristy': False, 'trendy': False, 'upscale': False, 'casual': True}\",\n",
              "   'BikeParking': 'True',\n",
              "   'BusinessAcceptsCreditCards': 'True',\n",
              "   'BusinessParking': \"{'garage': False, 'street': False, 'validated': False, 'lot': False, 'valet': False}\",\n",
              "   'Caters': 'False',\n",
              "   'GoodForKids': 'True',\n",
              "   'GoodForMeal': \"{'dessert': False, 'latenight': False, 'lunch': True, 'dinner': False, 'breakfast': True, 'brunch': True}\",\n",
              "   'HasTV': 'True',\n",
              "   'NoiseLevel': 'average',\n",
              "   'OutdoorSeating': 'False',\n",
              "   'RestaurantsAttire': 'casual',\n",
              "   'RestaurantsDelivery': 'False',\n",
              "   'RestaurantsGoodForGroups': 'True',\n",
              "   'RestaurantsPriceRange2': '2',\n",
              "   'RestaurantsReservations': 'False',\n",
              "   'RestaurantsTableService': 'True',\n",
              "   'RestaurantsTakeOut': 'True',\n",
              "   'WheelchairAccessible': 'True',\n",
              "   'WiFi': 'no'},\n",
              "  'business_id': '0jtRI7hVMpQHpUVtUy4ITw',\n",
              "  'categories': 'Beer, Wine & Spirits, Italian, Food, American (Traditional), Breakfast & Brunch, Restaurants',\n",
              "  'city': 'Las Vegas',\n",
              "  'hours': {'Friday': '7:0-19:0',\n",
              "   'Monday': '7:0-14:30',\n",
              "   'Saturday': '7:0-14:30',\n",
              "   'Sunday': '7:0-14:30',\n",
              "   'Thursday': '7:0-19:0',\n",
              "   'Tuesday': '7:0-19:0',\n",
              "   'Wednesday': '7:0-19:0'},\n",
              "  'is_open': 1,\n",
              "  'latitude': 36.2019904392,\n",
              "  'longitude': -115.283122245,\n",
              "  'name': 'Omelet House Summerlin',\n",
              "  'neighborhood': 'Summerlin',\n",
              "  'postal_code': '89128',\n",
              "  'review_count': 242,\n",
              "  'stars': 4.0,\n",
              "  'state': 'NV'},\n",
              " {'address': '28325 N Tatum Blvd, Ste 5',\n",
              "  'attributes': {'AcceptsInsurance': 'False',\n",
              "   'BikeParking': 'False',\n",
              "   'BusinessAcceptsBitcoin': 'False',\n",
              "   'BusinessAcceptsCreditCards': 'True',\n",
              "   'BusinessParking': \"{'garage': False, 'street': False, 'validated': False, 'lot': True, 'valet': False}\",\n",
              "   'ByAppointmentOnly': 'True',\n",
              "   'GoodForKids': 'True',\n",
              "   'HairSpecializesIn': \"{'coloring': True, 'africanamerican': True, 'curly': True, 'perms': True, 'kids': False, 'extensions': True, 'asian': True, 'straightperms': True}\",\n",
              "   'RestaurantsPriceRange2': '2',\n",
              "   'WheelchairAccessible': 'True'},\n",
              "  'business_id': 'pbluh-ZZi_i8XlprfWB1nQ',\n",
              "  'categories': 'Health & Medical, Hair Salons, Skin Care, Hair Extensions, Medical Spas, Cryotherapy, Beauty & Spas',\n",
              "  'city': 'Cave Creek',\n",
              "  'hours': {'Friday': '6:0-20:0',\n",
              "   'Monday': '6:0-20:0',\n",
              "   'Saturday': '6:0-20:0',\n",
              "   'Thursday': '6:0-20:0',\n",
              "   'Tuesday': '6:0-20:0',\n",
              "   'Wednesday': '6:0-20:0'},\n",
              "  'is_open': 1,\n",
              "  'latitude': 33.7424883225,\n",
              "  'longitude': -111.977420267,\n",
              "  'name': 'Pamper Me Perfect Beauty & Wellness',\n",
              "  'neighborhood': '',\n",
              "  'postal_code': '85331',\n",
              "  'review_count': 12,\n",
              "  'stars': 4.5,\n",
              "  'state': 'AZ'},\n",
              " {'address': '15916 W High St',\n",
              "  'attributes': {'Alcohol': 'none',\n",
              "   'Ambience': \"{'romantic': False, 'intimate': False, 'classy': False, 'hipster': False, 'divey': False, 'touristy': False, 'trendy': False, 'upscale': False, 'casual': False}\",\n",
              "   'BusinessAcceptsCreditCards': 'True',\n",
              "   'BusinessParking': \"{'garage': False, 'street': True, 'validated': False, 'lot': True, 'valet': False}\",\n",
              "   'Caters': 'False',\n",
              "   'GoodForKids': 'True',\n",
              "   'GoodForMeal': \"{'dessert': False, 'latenight': False, 'lunch': False, 'dinner': False, 'breakfast': False, 'brunch': False}\",\n",
              "   'HasTV': 'True',\n",
              "   'NoiseLevel': 'average',\n",
              "   'OutdoorSeating': 'False',\n",
              "   'RestaurantsAttire': 'casual',\n",
              "   'RestaurantsDelivery': 'False',\n",
              "   'RestaurantsGoodForGroups': 'True',\n",
              "   'RestaurantsPriceRange2': '2',\n",
              "   'RestaurantsReservations': 'False',\n",
              "   'RestaurantsTableService': 'True',\n",
              "   'RestaurantsTakeOut': 'True',\n",
              "   'WheelchairAccessible': 'True',\n",
              "   'WiFi': 'free'},\n",
              "  'business_id': 'UeyHx5LMFjjI4d-NTYkX9Q',\n",
              "  'categories': 'Restaurants, Cafes',\n",
              "  'city': 'Middlefield',\n",
              "  'hours': {'Friday': '5:30-20:0',\n",
              "   'Monday': '5:30-14:0',\n",
              "   'Saturday': '5:30-20:0',\n",
              "   'Sunday': '7:0-14:0',\n",
              "   'Thursday': '5:30-20:0',\n",
              "   'Tuesday': '5:30-14:0',\n",
              "   'Wednesday': '5:30-14:0'},\n",
              "  'is_open': 1,\n",
              "  'latitude': 41.462443,\n",
              "  'longitude': -81.0749908,\n",
              "  'name': \"Crossroads Country Cafe'\",\n",
              "  'neighborhood': '',\n",
              "  'postal_code': '44062',\n",
              "  'review_count': 3,\n",
              "  'stars': 2.5,\n",
              "  'state': 'OH'},\n",
              " {'address': '2930 Medina Rd',\n",
              "  'attributes': None,\n",
              "  'business_id': 'WbcAPa3frXsIomKLn2oVDw',\n",
              "  'categories': 'Ice Cream & Frozen Yogurt, Food',\n",
              "  'city': 'Medina',\n",
              "  'hours': None,\n",
              "  'is_open': 0,\n",
              "  'latitude': 41.135371,\n",
              "  'longitude': -81.793211,\n",
              "  'name': \"Strickland's Ice Cream\",\n",
              "  'neighborhood': '',\n",
              "  'postal_code': '44256',\n",
              "  'review_count': 3,\n",
              "  'stars': 3.5,\n",
              "  'state': 'OH'},\n",
              " {'address': '15828 Euclid Ave',\n",
              "  'attributes': {'Alcohol': 'none',\n",
              "   'Ambience': \"{'romantic': False, 'intimate': False, 'classy': False, 'hipster': False, 'divey': False, 'touristy': False, 'trendy': False, 'upscale': False, 'casual': False}\",\n",
              "   'BikeParking': 'True',\n",
              "   'BusinessAcceptsCreditCards': 'True',\n",
              "   'BusinessParking': \"{'garage': False, 'street': False, 'validated': False, 'lot': False, 'valet': False}\",\n",
              "   'Caters': 'True',\n",
              "   'GoodForKids': 'False',\n",
              "   'GoodForMeal': \"{'dessert': False, 'latenight': False, 'lunch': False, 'dinner': False, 'breakfast': False, 'brunch': False}\",\n",
              "   'HasTV': 'False',\n",
              "   'NoiseLevel': 'quiet',\n",
              "   'OutdoorSeating': 'False',\n",
              "   'RestaurantsAttire': 'casual',\n",
              "   'RestaurantsDelivery': 'False',\n",
              "   'RestaurantsGoodForGroups': 'True',\n",
              "   'RestaurantsPriceRange2': '2',\n",
              "   'RestaurantsReservations': 'False',\n",
              "   'RestaurantsTableService': 'False',\n",
              "   'RestaurantsTakeOut': 'True',\n",
              "   'WiFi': 'no'},\n",
              "  'business_id': 'qHF2s8U2yzPLgIOGH_IMBw',\n",
              "  'categories': 'Seafood, Restaurants',\n",
              "  'city': 'Cleveland',\n",
              "  'hours': {'Friday': '10:0-23:0',\n",
              "   'Monday': '10:0-23:0',\n",
              "   'Saturday': '10:0-0:0',\n",
              "   'Thursday': '10:0-23:0',\n",
              "   'Tuesday': '10:0-23:0',\n",
              "   'Wednesday': '10:0-23:0'},\n",
              "  'is_open': 1,\n",
              "  'latitude': 41.5415709,\n",
              "  'longitude': -81.5699009,\n",
              "  'name': \"John John's Seafood\",\n",
              "  'neighborhood': 'Collamer',\n",
              "  'postal_code': '44112',\n",
              "  'review_count': 3,\n",
              "  'stars': 4.5,\n",
              "  'state': 'OH'},\n",
              " {'address': '3319 S Mercy Rd',\n",
              "  'attributes': {'AcceptsInsurance': 'True', 'ByAppointmentOnly': 'False'},\n",
              "  'business_id': 'iTZDPTc36guXhNhoK-jwmw',\n",
              "  'categories': 'Health & Medical, Physical Therapy, Retirement Homes',\n",
              "  'city': 'Gilbert',\n",
              "  'hours': {'Friday': '0:0-0:0',\n",
              "   'Monday': '0:0-0:0',\n",
              "   'Saturday': '0:0-0:0',\n",
              "   'Sunday': '0:0-0:0',\n",
              "   'Thursday': '0:0-0:0',\n",
              "   'Tuesday': '0:0-0:0',\n",
              "   'Wednesday': '0:0-0:0'},\n",
              "  'is_open': 1,\n",
              "  'latitude': 33.2905965,\n",
              "  'longitude': -111.7478144,\n",
              "  'name': 'Wellsprings of Gilbert',\n",
              "  'neighborhood': '',\n",
              "  'postal_code': '85297',\n",
              "  'review_count': 4,\n",
              "  'stars': 5.0,\n",
              "  'state': 'AZ'},\n",
              " {'address': '4145 N 83Rd',\n",
              "  'attributes': {'Alcohol': 'none',\n",
              "   'Ambience': \"{'romantic': False, 'intimate': False, 'classy': False, 'hipster': False, 'divey': False, 'touristy': False, 'trendy': False, 'upscale': False, 'casual': False}\",\n",
              "   'BikeParking': 'False',\n",
              "   'BusinessAcceptsCreditCards': 'True',\n",
              "   'BusinessParking': \"{'garage': False, 'street': False, 'validated': False, 'lot': False, 'valet': False}\",\n",
              "   'Caters': 'False',\n",
              "   'GoodForKids': 'True',\n",
              "   'GoodForMeal': \"{'dessert': False, 'latenight': False, 'lunch': False, 'dinner': False, 'breakfast': False, 'brunch': False}\",\n",
              "   'HasTV': 'False',\n",
              "   'NoiseLevel': 'average',\n",
              "   'OutdoorSeating': 'True',\n",
              "   'RestaurantsAttire': 'casual',\n",
              "   'RestaurantsDelivery': 'False',\n",
              "   'RestaurantsGoodForGroups': 'True',\n",
              "   'RestaurantsPriceRange2': '1',\n",
              "   'RestaurantsReservations': 'False',\n",
              "   'RestaurantsTableService': 'False',\n",
              "   'RestaurantsTakeOut': 'True',\n",
              "   'WheelchairAccessible': 'True',\n",
              "   'WiFi': 'no'},\n",
              "  'business_id': 'AcGRSWCpb7YB95MTsHlGEw',\n",
              "  'categories': 'Pizza, Fast Food, Restaurants',\n",
              "  'city': 'Phoenix',\n",
              "  'hours': {'Friday': '10:30-23:0',\n",
              "   'Monday': '10:30-22:0',\n",
              "   'Saturday': '10:30-23:0',\n",
              "   'Sunday': '10:30-22:0',\n",
              "   'Thursday': '10:30-22:0',\n",
              "   'Tuesday': '10:30-22:0',\n",
              "   'Wednesday': '10:30-22:0'},\n",
              "  'is_open': 1,\n",
              "  'latitude': 33.4954215852,\n",
              "  'longitude': -112.235797843,\n",
              "  'name': 'Little Caesars Pizza',\n",
              "  'neighborhood': '',\n",
              "  'postal_code': '85033',\n",
              "  'review_count': 4,\n",
              "  'stars': 2.0,\n",
              "  'state': 'AZ'}]"
            ]
          },
          "metadata": {
            "tags": []
          },
          "execution_count": 35
        }
      ]
    },
    {
      "metadata": {
        "id": "XUbN2n0VbdYp",
        "colab_type": "code",
        "outputId": "8165099a-0004-4224-e056-b062a174debd",
        "colab": {
          "base_uri": "https://localhost:8080/",
          "height": 170
        }
      },
      "cell_type": "code",
      "source": [
        "business_ids.take(1)"
      ],
      "execution_count": 0,
      "outputs": [
        {
          "output_type": "execute_result",
          "data": {
            "text/plain": [
              "[('Apn5Q_b6Nz61Tq4XzPdf9A',\n",
              "  ('Minhas Micro Brewery',\n",
              "   '1314 44 Avenue NE',\n",
              "   'Tours, Breweries, Pizza, Restaurants, Food, Hotels & Travel',\n",
              "   'AB',\n",
              "   'Calgary',\n",
              "   51.0918130155,\n",
              "   -114.031674872,\n",
              "   4.0))]"
            ]
          },
          "metadata": {
            "tags": []
          },
          "execution_count": 60
        }
      ]
    },
    {
      "metadata": {
        "id": "TiI2XKNoMati",
        "colab_type": "code",
        "colab": {}
      },
      "cell_type": "code",
      "source": [
        "!cat /content/yelp_academic_dataset_business.json"
      ],
      "execution_count": 0,
      "outputs": []
    },
    {
      "metadata": {
        "id": "JUKiUVaDNTKv",
        "colab_type": "code",
        "colab": {}
      },
      "cell_type": "code",
      "source": [
        "r = review_ids.map(lambda x : (x[0],x[2])).groupByKey()"
      ],
      "execution_count": 0,
      "outputs": []
    },
    {
      "metadata": {
        "id": "dWgmmBP8TqKg",
        "colab_type": "code",
        "colab": {}
      },
      "cell_type": "code",
      "source": [
        "r.take(1)"
      ],
      "execution_count": 0,
      "outputs": []
    },
    {
      "metadata": {
        "id": "sbii9yQ9Nohm",
        "colab_type": "code",
        "outputId": "993f3c99-ca0b-457a-ac71-2abdf416eb1e",
        "colab": {
          "base_uri": "https://localhost:8080/",
          "height": 207
        }
      },
      "cell_type": "code",
      "source": [
        "for x in business_data.take(10):\n",
        "  print(x)"
      ],
      "execution_count": 0,
      "outputs": [
        {
          "output_type": "stream",
          "text": [
            "{'business_id': 'Apn5Q_b6Nz61Tq4XzPdf9A', 'name': 'Minhas Micro Brewery', 'neighborhood': '', 'address': '1314 44 Avenue NE', 'city': 'Calgary', 'state': 'AB', 'postal_code': 'T2E 6L6', 'latitude': 51.0918130155, 'longitude': -114.031674872, 'stars': 4.0, 'review_count': 24, 'is_open': 1, 'attributes': {'BikeParking': 'False', 'BusinessAcceptsCreditCards': 'True', 'BusinessParking': \"{'garage': False, 'street': True, 'validated': False, 'lot': False, 'valet': False}\", 'GoodForKids': 'True', 'HasTV': 'True', 'NoiseLevel': 'average', 'OutdoorSeating': 'False', 'RestaurantsAttire': 'casual', 'RestaurantsDelivery': 'False', 'RestaurantsGoodForGroups': 'True', 'RestaurantsPriceRange2': '2', 'RestaurantsReservations': 'True', 'RestaurantsTakeOut': 'True'}, 'categories': 'Tours, Breweries, Pizza, Restaurants, Food, Hotels & Travel', 'hours': {'Monday': '8:30-17:0', 'Tuesday': '11:0-21:0', 'Wednesday': '11:0-21:0', 'Thursday': '11:0-21:0', 'Friday': '11:0-21:0', 'Saturday': '11:0-21:0'}}\n",
            "{'business_id': 'AjEbIBw6ZFfln7ePHha9PA', 'name': \"CK'S BBQ & Catering\", 'neighborhood': '', 'address': '', 'city': 'Henderson', 'state': 'NV', 'postal_code': '89002', 'latitude': 35.9607337, 'longitude': -114.939821, 'stars': 4.5, 'review_count': 3, 'is_open': 0, 'attributes': {'Alcohol': 'none', 'BikeParking': 'False', 'BusinessAcceptsCreditCards': 'True', 'BusinessParking': \"{'garage': False, 'street': True, 'validated': False, 'lot': True, 'valet': False}\", 'Caters': 'True', 'DogsAllowed': 'True', 'DriveThru': 'False', 'GoodForKids': 'True', 'GoodForMeal': \"{'dessert': False, 'latenight': False, 'lunch': False, 'dinner': False, 'breakfast': False, 'brunch': False}\", 'HasTV': 'False', 'OutdoorSeating': 'True', 'RestaurantsAttire': 'casual', 'RestaurantsDelivery': 'False', 'RestaurantsGoodForGroups': 'True', 'RestaurantsPriceRange2': '2', 'RestaurantsReservations': 'False', 'RestaurantsTableService': 'False', 'RestaurantsTakeOut': 'True', 'WheelchairAccessible': 'True', 'WiFi': 'no'}, 'categories': 'Chicken Wings, Burgers, Caterers, Street Vendors, Barbeque, Food Trucks, Food, Restaurants, Event Planning & Services', 'hours': {'Friday': '17:0-23:0', 'Saturday': '17:0-23:0', 'Sunday': '17:0-23:0'}}\n",
            "{'business_id': 'O8S5hYJ1SMc8fA4QBtVujA', 'name': 'La Bastringue', 'neighborhood': 'Rosemont-La Petite-Patrie', 'address': '1335 rue Beaubien E', 'city': 'Montréal', 'state': 'QC', 'postal_code': 'H2G 1K7', 'latitude': 45.5405031, 'longitude': -73.5993003, 'stars': 4.0, 'review_count': 5, 'is_open': 0, 'attributes': {'Alcohol': 'beer_and_wine', 'Ambience': \"{'romantic': False, 'intimate': False, 'classy': False, 'hipster': False, 'touristy': False, 'trendy': False, 'upscale': False, 'casual': False}\", 'BikeParking': 'True', 'BusinessAcceptsCreditCards': 'False', 'BusinessParking': \"{'garage': False, 'street': False, 'validated': False, 'lot': False, 'valet': False}\", 'Caters': 'False', 'GoodForKids': 'True', 'GoodForMeal': \"{'dessert': False, 'latenight': False, 'lunch': False, 'dinner': False, 'breakfast': False, 'brunch': False}\", 'HasTV': 'True', 'NoiseLevel': 'average', 'OutdoorSeating': 'False', 'RestaurantsAttire': 'casual', 'RestaurantsDelivery': 'False', 'RestaurantsGoodForGroups': 'True', 'RestaurantsPriceRange2': '2', 'RestaurantsReservations': 'True', 'RestaurantsTableService': 'True', 'RestaurantsTakeOut': 'False', 'WiFi': 'free'}, 'categories': 'Breakfast & Brunch, Restaurants, French, Sandwiches, Cafes', 'hours': {'Monday': '10:0-22:0', 'Tuesday': '10:0-22:0', 'Wednesday': '10:0-22:0', 'Thursday': '10:0-22:0', 'Friday': '10:0-22:0', 'Saturday': '10:0-22:0', 'Sunday': '10:0-22:0'}}\n",
            "{'business_id': 'bFzdJJ3wp3PZssNEsyU23g', 'name': 'Geico Insurance', 'neighborhood': '', 'address': '211 W Monroe St', 'city': 'Phoenix', 'state': 'AZ', 'postal_code': '85003', 'latitude': 33.4499993, 'longitude': -112.0769793, 'stars': 1.5, 'review_count': 8, 'is_open': 1, 'attributes': None, 'categories': 'Insurance, Financial Services', 'hours': None}\n",
            "{'business_id': '8USyCYqpScwiNEb58Bt6CA', 'name': 'Action Engine', 'neighborhood': '', 'address': '2005 Alyth Place SE', 'city': 'Calgary', 'state': 'AB', 'postal_code': 'T2H 0N5', 'latitude': 51.0355914, 'longitude': -114.0273656, 'stars': 2.0, 'review_count': 4, 'is_open': 1, 'attributes': {'BusinessAcceptsCreditCards': 'True'}, 'categories': 'Home & Garden, Nurseries & Gardening, Shopping, Local Services, Automotive, Electronics Repair', 'hours': {'Monday': '8:0-17:0', 'Tuesday': '8:0-17:0', 'Wednesday': '8:0-17:0', 'Thursday': '8:0-17:0', 'Friday': '8:0-17:0'}}\n",
            "{'business_id': '45bWSZtniwPRiqlivpS8Og', 'name': 'The Coffee Bean & Tea Leaf', 'neighborhood': '', 'address': '20235 N Cave Creek Rd, Ste 1115', 'city': 'Phoenix', 'state': 'AZ', 'postal_code': '85024', 'latitude': 33.6713751, 'longitude': -112.0300171, 'stars': 4.0, 'review_count': 63, 'is_open': 1, 'attributes': {'BikeParking': 'True', 'BusinessAcceptsCreditCards': 'True', 'BusinessParking': \"{'garage': False, 'street': False, 'validated': False, 'lot': True, 'valet': False}\", 'Caters': 'False', 'OutdoorSeating': 'True', 'RestaurantsPriceRange2': '1', 'RestaurantsTakeOut': 'True', 'WheelchairAccessible': 'True', 'WiFi': 'free'}, 'categories': 'Coffee & Tea, Food', 'hours': {'Monday': '5:30-20:0', 'Tuesday': '5:30-20:0', 'Wednesday': '5:30-20:0', 'Thursday': '5:30-20:0', 'Friday': '5:30-21:0', 'Saturday': '5:30-21:0', 'Sunday': '6:30-19:0'}}\n",
            "{'business_id': '9A2quhZLyWk0akUetBd8hQ', 'name': 'Bnc Cake House', 'neighborhood': 'Koreatown', 'address': '631 Bloor St W', 'city': 'Toronto', 'state': 'ON', 'postal_code': 'M6G 1K8', 'latitude': 43.6643776, 'longitude': -79.4144238, 'stars': 4.0, 'review_count': 7, 'is_open': 0, 'attributes': {'BusinessParking': \"{'garage': False, 'street': False, 'validated': False, 'lot': False, 'valet': False}\", 'RestaurantsPriceRange2': '1'}, 'categories': 'Food, Bakeries', 'hours': None}\n",
            "{'business_id': '6OuOZAok8ikONMS_T3EzXg', 'name': 'Thai One On', 'neighborhood': 'Ridgewood', 'address': '3417 Derry Road E, Unit 103', 'city': 'Mississauga', 'state': 'ON', 'postal_code': 'L4T 1A8', 'latitude': 43.7129464, 'longitude': -79.6327631, 'stars': 2.0, 'review_count': 7, 'is_open': 1, 'attributes': {'Alcohol': 'none', 'BusinessAcceptsCreditCards': 'True', 'BusinessParking': \"{'garage': False, 'street': False, 'validated': False, 'lot': False, 'valet': False}\", 'GoodForKids': 'True', 'OutdoorSeating': 'False', 'RestaurantsAttire': 'casual', 'RestaurantsGoodForGroups': 'True', 'RestaurantsPriceRange2': '2', 'RestaurantsTableService': 'False', 'RestaurantsTakeOut': 'True'}, 'categories': 'Restaurants, Thai', 'hours': None}\n",
            "{'business_id': '8-NRKkPY1UiFXW20WXKiXg', 'name': \"Filiberto's Mexican Food\", 'neighborhood': '', 'address': '1440 N. Dysart Ave', 'city': 'Avondale', 'state': 'AZ', 'postal_code': '85323', 'latitude': 33.4481059352, 'longitude': -112.341302074, 'stars': 2.5, 'review_count': 40, 'is_open': 1, 'attributes': {'Alcohol': 'none', 'Ambience': \"{'romantic': False, 'intimate': False, 'classy': False, 'hipster': False, 'divey': False, 'touristy': False, 'trendy': False, 'upscale': False, 'casual': True}\", 'BikeParking': 'True', 'BusinessAcceptsCreditCards': 'True', 'BusinessParking': \"{'garage': False, 'street': False, 'validated': False, 'lot': True, 'valet': False}\", 'Caters': 'False', 'GoodForKids': 'True', 'GoodForMeal': \"{'dessert': False, 'latenight': True, 'lunch': False, 'dinner': False, 'breakfast': False, 'brunch': False}\", 'HasTV': 'False', 'NoiseLevel': 'average', 'OutdoorSeating': 'False', 'RestaurantsAttire': 'casual', 'RestaurantsDelivery': 'False', 'RestaurantsGoodForGroups': 'True', 'RestaurantsPriceRange2': '1', 'RestaurantsReservations': 'False', 'RestaurantsTableService': 'False', 'RestaurantsTakeOut': 'True', 'WheelchairAccessible': 'True', 'WiFi': 'no'}, 'categories': 'Mexican, Restaurants', 'hours': {'Monday': '0:0-0:0', 'Tuesday': '0:0-0:0', 'Wednesday': '0:0-0:0', 'Thursday': '0:0-0:0', 'Friday': '0:0-0:0', 'Saturday': '0:0-0:0', 'Sunday': '0:0-0:0'}}\n",
            "{'business_id': 'UTm5QZThPQlT35mkAcGOjg', 'name': \"Maggie & Stella's Gifts\", 'neighborhood': 'Oakland', 'address': '209 Oakland Ave', 'city': 'Pittsburgh', 'state': 'PA', 'postal_code': '15213', 'latitude': 40.4414214, 'longitude': -79.9564571, 'stars': 3.5, 'review_count': 3, 'is_open': 1, 'attributes': {'BikeParking': 'True', 'BusinessAcceptsCreditCards': 'True', 'BusinessParking': \"{'garage': False, 'street': False, 'validated': False, 'lot': False, 'valet': False}\", 'RestaurantsPriceRange2': '2'}, 'categories': 'Flowers & Gifts, Gift Shops, Shopping', 'hours': {'Monday': '9:0-18:0', 'Tuesday': '9:0-18:0', 'Wednesday': '9:0-18:0', 'Thursday': '9:0-18:0', 'Friday': '9:0-17:0', 'Saturday': '10:0-17:0'}}\n"
          ],
          "name": "stdout"
        }
      ]
    },
    {
      "metadata": {
        "id": "ejZy468_Stml",
        "colab_type": "code",
        "colab": {}
      },
      "cell_type": "code",
      "source": [
        "def get_counts_and_avg(k):\n",
        "    nratings = len(k[1])\n",
        "    return k[0], (nratings, float(sum(x for x in k[1])) / nratings)    \n",
        "\n",
        "k = r.map(get_counts_and_avg).cache()"
      ],
      "execution_count": 0,
      "outputs": []
    },
    {
      "metadata": {
        "id": "jzY7BMLnTbhp",
        "colab_type": "code",
        "outputId": "30bafdf3-09d0-4b58-ce91-b04279c3a1bd",
        "colab": {
          "base_uri": "https://localhost:8080/",
          "height": 187
        }
      },
      "cell_type": "code",
      "source": [
        "for x in k.take(10):\n",
        "  print(x)"
      ],
      "execution_count": 0,
      "outputs": [
        {
          "output_type": "stream",
          "text": [
            "('8l8PZFsNyhi24BCRQ0xbSA', (2, 4.0))\n",
            "('TNCWteunmA8LeNDVz3LjZQ', (1, 5.0))\n",
            "('HEoo4q1XNOeyEXiPOeoHQw', (2, 1.5))\n",
            "('VxucPs_aMfXnvx88nEsQmA', (1, 5.0))\n",
            "('Ou-_0fA27csSVc5yjiEVMQ', (1, 5.0))\n",
            "('zKOIrTwR7HCYfi05ce1-qQ', (1, 1.0))\n",
            "('ECcwzgwJ70YKiJigkAL6tA', (1, 5.0))\n",
            "('WznfyEZ_Adq2NHNnG8RqbA', (1, 5.0))\n",
            "('NnXWALyMq2k4mrESPbA-kA', (1, 5.0))\n",
            "('0Rp6doDKbnLp82-jbbEpcA', (4, 4.25))\n"
          ],
          "name": "stdout"
        }
      ]
    },
    {
      "metadata": {
        "id": "yiY4xZGCTn90",
        "colab_type": "code",
        "colab": {}
      },
      "cell_type": "code",
      "source": [
        "business_rating_counts_RDD = k.map(lambda x : (x[0],x[1][0])).cache()"
      ],
      "execution_count": 0,
      "outputs": []
    },
    {
      "metadata": {
        "id": "zXw5IOkMVMi1",
        "colab_type": "code",
        "colab": {}
      },
      "cell_type": "code",
      "source": [
        "avg_usr_ratings = k.map(lambda x : (x[0],x[1][1])).cache()"
      ],
      "execution_count": 0,
      "outputs": []
    },
    {
      "metadata": {
        "id": "LSPghVohVmNm",
        "colab_type": "code",
        "colab": {}
      },
      "cell_type": "code",
      "source": [
        "rank = 8\n",
        "seed = 5\n",
        "iterations = 10\n",
        "regularization_parameter = 0.1\n",
        "review_ids_map = review_ids.map(lambda x: (x[0], (x[1], x[2])))            \n",
        "int_user_id_to_string = user_ids.map(lambda x: x[0]).distinct().zipWithUniqueId().cache()  \n",
        "int_business_id_to_string = business_ids.map(lambda x: x[0]).distinct().zipWithUniqueId().cache()   \n",
        "reverse_mapping_user_ids = int_user_id_to_string.map(lambda x: (x[1], x[0]))\n",
        "reverse_mapping_business_ids = int_business_id_to_string.map(lambda x: (x[1], x[0])) \n",
        "review_ids_map = review_ids.map(lambda x: (x[0], (x[1], x[2])))            \n",
        "user_join_review = review_ids_map.join(int_user_id_to_string).map(lambda x : (x[1][1] , x[1][0]))\n",
        "ratings = int_business_id_to_string.join(user_join_review.map(lambda x: (x[1][0], (x[0], x[1][1])))).map(lambda x: ( x[1][1][0],x[1][0], x[1][1][1])) \n",
        "training_RDD,validation_RDD,test_RDD = ratings.randomSplit([6,2,2],seed=0)\n",
        "validation_for_predict_RDD = validation_RDD.map(lambda x : (x[0],x[1]))\n",
        "test_for_predict_RDD = test_RDD.map(lambda x : (x[0],x[1]))\n",
        "\n",
        "model = ALS.train(ratings,rank,seed=5,iterations=10,lambda_=regularization_parameter)\n",
        "        "
      ],
      "execution_count": 0,
      "outputs": []
    },
    {
      "metadata": {
        "id": "XgRbB-6xCWCW",
        "colab_type": "code",
        "outputId": "48ecb8fb-13a9-4924-f1be-ed1f2e0cd0d3",
        "colab": {
          "base_uri": "https://localhost:8080/",
          "height": 102
        }
      },
      "cell_type": "code",
      "source": [
        "int_user_id_to_string.take(5)"
      ],
      "execution_count": 0,
      "outputs": [
        {
          "output_type": "execute_result",
          "data": {
            "text/plain": [
              "[('iYXxZBb2trmIozioddpL5g', 0),\n",
              " ('iQIne4dTLiUMcdGP_DpzVQ', 66),\n",
              " ('W_V8_Id9tpOcZAG1hxcLxg', 132),\n",
              " ('ag4pOmHKjLc5-FGRwAbniw', 198),\n",
              " ('5WBPFk782THxZACRee6YhA', 264)]"
            ]
          },
          "metadata": {
            "tags": []
          },
          "execution_count": 67
        }
      ]
    },
    {
      "metadata": {
        "id": "CUSOR7fEEcUT",
        "colab_type": "code",
        "outputId": "f36937c6-a2ab-4a24-eaaf-9c4db94f7acf",
        "colab": {
          "base_uri": "https://localhost:8080/",
          "height": 34
        }
      },
      "cell_type": "code",
      "source": [
        "review_ids_map.join(int_user_id_to_string).take(1)"
      ],
      "execution_count": 0,
      "outputs": [
        {
          "output_type": "execute_result",
          "data": {
            "text/plain": [
              "[('GESMvmak7oGs5sQwJ1V8ww', (('mtQ7Uc-j2muK0AyVQTT9fQ', 5), 47358))]"
            ]
          },
          "metadata": {
            "tags": []
          },
          "execution_count": 36
        }
      ]
    },
    {
      "metadata": {
        "id": "QKyP1CpQDEPi",
        "colab_type": "code",
        "outputId": "6c342911-a4ea-4dea-d995-431ec6ec3ea6",
        "colab": {
          "base_uri": "https://localhost:8080/",
          "height": 34
        }
      },
      "cell_type": "code",
      "source": [
        "review_ids_map.take(1)"
      ],
      "execution_count": 0,
      "outputs": [
        {
          "output_type": "execute_result",
          "data": {
            "text/plain": [
              "[('msQe1u7Z_XuqjGoqhB0J5g', ('iCQpiavjjPzJ5_3gPD5Ebg', 2))]"
            ]
          },
          "metadata": {
            "tags": []
          },
          "execution_count": 181
        }
      ]
    },
    {
      "metadata": {
        "id": "hETGVq1cDWrz",
        "colab_type": "code",
        "outputId": "595f1811-1c79-419a-8c80-1ec31f5a9d23",
        "colab": {
          "base_uri": "https://localhost:8080/",
          "height": 34
        }
      },
      "cell_type": "code",
      "source": [
        "user_join_review.take(1)"
      ],
      "execution_count": 0,
      "outputs": [
        {
          "output_type": "execute_result",
          "data": {
            "text/plain": [
              "[(47358, ('mtQ7Uc-j2muK0AyVQTT9fQ', 5))]"
            ]
          },
          "metadata": {
            "tags": []
          },
          "execution_count": 182
        }
      ]
    },
    {
      "metadata": {
        "id": "RXpKmRxFf4UU",
        "colab_type": "code",
        "outputId": "5e779f43-2cfa-4e5d-c2b7-31da7cb2a93f",
        "colab": {
          "base_uri": "https://localhost:8080/",
          "height": 54
        }
      },
      "cell_type": "code",
      "source": [
        "from google.colab import drive\n",
        "drive.mount(\"/content/drive\")"
      ],
      "execution_count": 0,
      "outputs": [
        {
          "output_type": "stream",
          "text": [
            "Drive already mounted at /content/drive; to attempt to forcibly remount, call drive.mount(\"/content/drive\", force_remount=True).\n"
          ],
          "name": "stdout"
        }
      ]
    },
    {
      "metadata": {
        "id": "kV9i2sKsf_x5",
        "colab_type": "code",
        "colab": {}
      },
      "cell_type": "code",
      "source": [
        "modelPath = \"/content\" + \"/kq1\"\n",
        "model.save(sc,modelPath)\n"
      ],
      "execution_count": 0,
      "outputs": []
    },
    {
      "metadata": {
        "id": "58Y6pWZThpyj",
        "colab_type": "code",
        "outputId": "c7cf62df-22f4-46a4-ec4f-6a1cab8342af",
        "colab": {
          "base_uri": "https://localhost:8080/",
          "height": 34
        }
      },
      "cell_type": "code",
      "source": [
        "!mkdir \"/content/drive/My Drive/kq2\""
      ],
      "execution_count": 0,
      "outputs": [
        {
          "output_type": "stream",
          "text": [
            "mkdir: cannot create directory ‘/content/drive/My Drive/kq2’: File exists\n"
          ],
          "name": "stdout"
        }
      ]
    },
    {
      "metadata": {
        "id": "MzyH2wsvh9Om",
        "colab_type": "code",
        "colab": {}
      },
      "cell_type": "code",
      "source": [
        "!cp -r /content/kq1 \"/content/drive/My Drive/kq2\""
      ],
      "execution_count": 0,
      "outputs": []
    },
    {
      "metadata": {
        "id": "YQ60Y29-ko95",
        "colab_type": "code",
        "outputId": "72d7fc03-d245-43e5-e316-ca0ba901dadc",
        "colab": {
          "base_uri": "https://localhost:8080/",
          "height": 34
        }
      },
      "cell_type": "code",
      "source": [
        "!ls /content/kq1"
      ],
      "execution_count": 0,
      "outputs": [
        {
          "output_type": "stream",
          "text": [
            "data  metadata\n"
          ],
          "name": "stdout"
        }
      ]
    },
    {
      "metadata": {
        "id": "rXamShxGkTXE",
        "colab_type": "code",
        "colab": {}
      },
      "cell_type": "code",
      "source": [
        "!mkdir /content/kq4"
      ],
      "execution_count": 0,
      "outputs": []
    },
    {
      "metadata": {
        "id": "exaBWiJ0kKly",
        "colab_type": "code",
        "colab": {}
      },
      "cell_type": "code",
      "source": [
        "!cp -r \"/content/drive/My Drive/kq2\" /content/"
      ],
      "execution_count": 0,
      "outputs": []
    },
    {
      "metadata": {
        "id": "-0UaFnq8Bu0u",
        "colab_type": "code",
        "outputId": "be247369-dcb1-4161-8b11-7664365030d6",
        "colab": {
          "base_uri": "https://localhost:8080/",
          "height": 34
        }
      },
      "cell_type": "code",
      "source": [
        "!ls /content/kq2/kq1"
      ],
      "execution_count": 0,
      "outputs": [
        {
          "output_type": "stream",
          "text": [
            "data  metadata\n"
          ],
          "name": "stdout"
        }
      ]
    },
    {
      "metadata": {
        "id": "d21owr__iLYD",
        "colab_type": "code",
        "colab": {}
      },
      "cell_type": "code",
      "source": [
        "from pyspark.mllib.recommendation import MatrixFactorizationModel\n",
        "model1 = MatrixFactorizationModel.load(sc , \"/content/kq2/kq1\")"
      ],
      "execution_count": 0,
      "outputs": []
    },
    {
      "metadata": {
        "id": "cL_yWSzzjGO_",
        "colab_type": "code",
        "outputId": "3d7606d6-6ec0-4d08-9a09-9f8624ed6a08",
        "colab": {
          "base_uri": "https://localhost:8080/",
          "height": 34
        }
      },
      "cell_type": "code",
      "source": [
        "!ls \"/content/drive/My Drive/kq2/kq1/metadata\""
      ],
      "execution_count": 0,
      "outputs": [
        {
          "output_type": "stream",
          "text": [
            "part-00000  _SUCCESS\n"
          ],
          "name": "stdout"
        }
      ]
    },
    {
      "metadata": {
        "id": "_koDL2cEjRpn",
        "colab_type": "code",
        "outputId": "635b8f22-f6f2-4740-a04b-f7c9040853ed",
        "colab": {
          "base_uri": "https://localhost:8080/",
          "height": 54
        }
      },
      "cell_type": "code",
      "source": [
        "from google.colab import drive\n",
        "drive.mount(\"/content/drive\")"
      ],
      "execution_count": 0,
      "outputs": [
        {
          "output_type": "stream",
          "text": [
            "Drive already mounted at /content/drive; to attempt to forcibly remount, call drive.mount(\"/content/drive\", force_remount=True).\n"
          ],
          "name": "stdout"
        }
      ]
    },
    {
      "metadata": {
        "id": "dxdpka8Xb-Zz",
        "colab_type": "code",
        "outputId": "b373d752-fc03-4a6a-ef47-84b5106866f7",
        "colab": {
          "base_uri": "https://localhost:8080/",
          "height": 34
        }
      },
      "cell_type": "code",
      "source": [
        "ratings.take(1)"
      ],
      "execution_count": 0,
      "outputs": [
        {
          "output_type": "execute_result",
          "data": {
            "text/plain": [
              "[(80729, 1030, 5)]"
            ]
          },
          "metadata": {
            "tags": []
          },
          "execution_count": 72
        }
      ]
    },
    {
      "metadata": {
        "id": "YrAgqrPOBPxs",
        "colab_type": "code",
        "colab": {}
      },
      "cell_type": "code",
      "source": [
        "predictions = model1.predictAll(validation_for_predict_RDD).map(lambda r : ((r[0],r[1]),r[2]))\n",
        "rates_and_preds = validation_RDD.map(lambda r : (((int(r[0]) , int(r[1])) , float(r[2]) ))).join(predictions)"
      ],
      "execution_count": 0,
      "outputs": []
    },
    {
      "metadata": {
        "id": "tKUMO_KdKNvJ",
        "colab_type": "code",
        "outputId": "19001aec-99c7-40d5-d73b-2c0e6a5fd456",
        "colab": {
          "base_uri": "https://localhost:8080/",
          "height": 697
        }
      },
      "cell_type": "code",
      "source": [
        "rates_and_preds.take(40)"
      ],
      "execution_count": 0,
      "outputs": [
        {
          "output_type": "execute_result",
          "data": {
            "text/plain": [
              "[((1293209, 113301), (4.0, 3.800523026754555)),\n",
              " ((1417124, 114146), (1.0, 1.2116309069497337)),\n",
              " ((537774, 186796), (5.0, 4.610518677110382)),\n",
              " ((492344, 6782), (5.0, 4.836789242705342)),\n",
              " ((334000, 38342), (5.0, 4.835922184133584)),\n",
              " ((1275498, 2448), (4.0, 3.7244896153546136)),\n",
              " ((596291, 31663), (5.0, 4.978453101723731)),\n",
              " ((595559, 50683), (4.0, 3.062818028553325)),\n",
              " ((658522, 138208), (5.0, 4.3521191522206575)),\n",
              " ((1177172, 62394), (1.0, 0.9724703721171042)),\n",
              " ((64172, 62394), (1.0, 2.263961835164523)),\n",
              " ((1071807, 142035), (3.0, 2.8882779084222236)),\n",
              " ((855784, 163070), (2.0, 2.182105603451359)),\n",
              " ((1505381, 11121), (5.0, 4.04048342673122)),\n",
              " ((1449998, 12276), (5.0, 5.158854352581859)),\n",
              " ((607189, 101441), (2.0, 1.9370605588465644)),\n",
              " ((153886, 38412), (4.0, 3.4693311432497618)),\n",
              " ((1313413, 152737), (5.0, 3.6328353495614962)),\n",
              " ((471871, 160707), (4.0, 3.7871059808028833)),\n",
              " ((235704, 64718), (3.0, 2.9331884902144827)),\n",
              " ((359660, 107114), (4.0, 4.371917626111092)),\n",
              " ((1195288, 169510), (5.0, 4.883171649389132)),\n",
              " ((774904, 166246), (5.0, 4.868439838581295)),\n",
              " ((1441349, 166881), (4.0, 3.903359810222726)),\n",
              " ((1473027, 3567), (2.0, 1.938183530901217)),\n",
              " ((218593, 154997), (3.0, 3.039377846297466)),\n",
              " ((271101, 180257), (5.0, 4.62009066189221)),\n",
              " ((58538, 57048), (5.0, 4.576030886649325)),\n",
              " ((1341821, 68673), (2.0, 2.860881317067807)),\n",
              " ((1002000, 129718), (4.0, 3.6529979451577756)),\n",
              " ((425722, 135888), (4.0, 3.9464914264666997)),\n",
              " ((606731, 180503), (3.0, 2.9088254917654943)),\n",
              " ((968497, 27149), (1.0, 1.1451444250682328)),\n",
              " ((916135, 154499), (5.0, 4.899918959004097)),\n",
              " ((1518259, 184479), (1.0, 1.2857488526228562)),\n",
              " ((1271209, 44205), (5.0, 4.458381213122074)),\n",
              " ((1215602, 125120), (4.0, 3.199714026528727)),\n",
              " ((172409, 171325), (2.0, 3.6344490027573415)),\n",
              " ((1057872, 53126), (3.0, 3.023465238722413)),\n",
              " ((396645, 58841), (5.0, 4.852626943518882))]"
            ]
          },
          "metadata": {
            "tags": []
          },
          "execution_count": 47
        }
      ]
    },
    {
      "metadata": {
        "id": "TntLrz8JMQha",
        "colab_type": "code",
        "outputId": "3e24a36b-eb17-4b47-ef76-3a402698268b",
        "colab": {
          "base_uri": "https://localhost:8080/",
          "height": 34
        }
      },
      "cell_type": "code",
      "source": [
        "rates_and_preds.count()"
      ],
      "execution_count": 0,
      "outputs": [
        {
          "output_type": "execute_result",
          "data": {
            "text/plain": [
              "1199740"
            ]
          },
          "metadata": {
            "tags": []
          },
          "execution_count": 79
        }
      ]
    },
    {
      "metadata": {
        "id": "TtZL467aMtyz",
        "colab_type": "code",
        "colab": {}
      },
      "cell_type": "code",
      "source": [
        "import math\n",
        "error = math.sqrt(rates_and_preds.map(lambda r: (r[1][0] - r[1][1])**2).mean())"
      ],
      "execution_count": 0,
      "outputs": []
    },
    {
      "metadata": {
        "id": "7-o3GJHzM3my",
        "colab_type": "code",
        "outputId": "a1630868-f20c-4ab8-e95b-8d3dd6aa9db8",
        "colab": {
          "base_uri": "https://localhost:8080/",
          "height": 34
        }
      },
      "cell_type": "code",
      "source": [
        "print(error)"
      ],
      "execution_count": 0,
      "outputs": [
        {
          "output_type": "stream",
          "text": [
            "0.5859308337316222\n"
          ],
          "name": "stdout"
        }
      ]
    },
    {
      "metadata": {
        "id": "G8HJ7NsVJJ9G",
        "colab_type": "code",
        "outputId": "3d8409c4-274b-4450-ff9f-fb1c781d4630",
        "colab": {
          "base_uri": "https://localhost:8080/",
          "height": 102
        }
      },
      "cell_type": "code",
      "source": [
        "predictions.take(5)"
      ],
      "execution_count": 0,
      "outputs": [
        {
          "output_type": "execute_result",
          "data": {
            "text/plain": [
              "[((1122328, 59582), 2.4543998209064304),\n",
              " ((1122328, 96513), 3.7320663331681465),\n",
              " ((1122328, 142523), 3.511049736473715),\n",
              " ((1122328, 39818), 2.4401330219527253),\n",
              " ((1122328, 41101), 4.358691530376679)]"
            ]
          },
          "metadata": {
            "tags": []
          },
          "execution_count": 83
        }
      ]
    },
    {
      "metadata": {
        "id": "plpUwwWEJMQX",
        "colab_type": "code",
        "outputId": "d4283ce0-7f5e-4dd3-c6fe-fdd2da0021ec",
        "colab": {
          "base_uri": "https://localhost:8080/",
          "height": 102
        }
      },
      "cell_type": "code",
      "source": [
        "validation_RDD.take(5)"
      ],
      "execution_count": 0,
      "outputs": [
        {
          "output_type": "execute_result",
          "data": {
            "text/plain": [
              "[(1473503, 1030, 5),\n",
              " (690315, 1030, 4),\n",
              " (575338, 6785, 1),\n",
              " (644309, 6810, 4),\n",
              " (826014, 9615, 2)]"
            ]
          },
          "metadata": {
            "tags": []
          },
          "execution_count": 198
        }
      ]
    },
    {
      "metadata": {
        "id": "2CuzPBN2Howe",
        "colab_type": "code",
        "colab": {}
      },
      "cell_type": "code",
      "source": [
        "predictions.join(validation_RDD).take(1)"
      ],
      "execution_count": 0,
      "outputs": []
    },
    {
      "metadata": {
        "id": "-GDFdZTHDb0Y",
        "colab_type": "code",
        "colab": {}
      },
      "cell_type": "code",
      "source": [
        "predictions = model.predictAll(sc.parallelize(validation_for_predict_RDD.take(1)))"
      ],
      "execution_count": 0,
      "outputs": []
    },
    {
      "metadata": {
        "id": "FcMeMoj0Egxm",
        "colab_type": "code",
        "outputId": "f2e1d393-cdea-4fce-e24b-c2e69fa9d9d7",
        "colab": {
          "base_uri": "https://localhost:8080/",
          "height": 34
        }
      },
      "cell_type": "code",
      "source": [
        "predictions.take(1)"
      ],
      "execution_count": 0,
      "outputs": [
        {
          "output_type": "execute_result",
          "data": {
            "text/plain": [
              "[Rating(user=1473503, product=1030, rating=4.838772470570867)]"
            ]
          },
          "metadata": {
            "tags": []
          },
          "execution_count": 187
        }
      ]
    },
    {
      "metadata": {
        "id": "yKqJchmrRb3g",
        "colab_type": "code",
        "colab": {}
      },
      "cell_type": "code",
      "source": [
        "predictions = model1.predictAll(validation_for_predict_RDD)\n",
        "pred1 = predictions.map(lambda x : (x[0],(x[1],x[2])))\n",
        "user_ids_to_string_replaced = reverse_mapping_user_ids.join(pred1)   #replacing user ids\n",
        "replace_both = user_ids_to_string_replaced.keyBy(lambda x: x[1][1][0]).join(reverse_mapping_business_ids).map(lambda x: (x[1][0][1][0],x[1][1],x[1][0][1][1][1]))       \n"
      ],
      "execution_count": 0,
      "outputs": []
    },
    {
      "metadata": {
        "id": "xvP9tliGULhP",
        "colab_type": "code",
        "colab": {}
      },
      "cell_type": "code",
      "source": [
        "pred1.take(10)"
      ],
      "execution_count": 0,
      "outputs": []
    },
    {
      "metadata": {
        "id": "2_O3TqF0WS-4",
        "colab_type": "code",
        "outputId": "12169b61-010f-4324-c19e-c3d47e214d00",
        "colab": {
          "base_uri": "https://localhost:8080/",
          "height": 187
        }
      },
      "cell_type": "code",
      "source": [
        "replace_both.take(10)"
      ],
      "execution_count": 0,
      "outputs": [
        {
          "output_type": "execute_result",
          "data": {
            "text/plain": [
              "[('V8wkpWQVbbzVejLPxKA9hw', '1ViZu60qPK0KcPJuJb6b1A', 4.5504321595236785),\n",
              " ('ZVbjkTtgsMApPgerPQZtqA', '1ViZu60qPK0KcPJuJb6b1A', 4.352457698660631),\n",
              " ('GmFLiUOcMxW1UcnuYr3Qhw', '1ViZu60qPK0KcPJuJb6b1A', 1.9663570634360488),\n",
              " ('qrUodC6QK-uk_BdfbMwpPw', '1ViZu60qPK0KcPJuJb6b1A', 3.422305078697092),\n",
              " ('8fITLch12NqT9KW-x-daRA', '1ViZu60qPK0KcPJuJb6b1A', 4.832153146609581),\n",
              " ('K371r8ObVZkapFMdPrcsMA', '1ViZu60qPK0KcPJuJb6b1A', 4.436509011966818),\n",
              " ('I9hhmtIT9Ber-aMTJrFeGA', '1ViZu60qPK0KcPJuJb6b1A', 4.952626634196822),\n",
              " ('24Frk4xncNPvNmVcAYEfPA', '1ViZu60qPK0KcPJuJb6b1A', 4.610224205975988),\n",
              " ('Xfdc4K_WSxTlvU3dBoA6Rg', '1ViZu60qPK0KcPJuJb6b1A', 5.033484225378916),\n",
              " ('OrefjfI57cMgLBai8W1G2Q', '1ViZu60qPK0KcPJuJb6b1A', 1.0776369047828878)]"
            ]
          },
          "metadata": {
            "tags": []
          },
          "execution_count": 87
        }
      ]
    },
    {
      "metadata": {
        "id": "80s9q4F0yBEz",
        "colab_type": "code",
        "outputId": "90506c3f-c01f-4ce0-a610-c276679128ba",
        "colab": {
          "base_uri": "https://localhost:8080/",
          "height": 34
        }
      },
      "cell_type": "code",
      "source": [
        "ratings.take(1)"
      ],
      "execution_count": 0,
      "outputs": [
        {
          "output_type": "execute_result",
          "data": {
            "text/plain": [
              "[(80729, 1030, 5)]"
            ]
          },
          "metadata": {
            "tags": []
          },
          "execution_count": 283
        }
      ]
    },
    {
      "metadata": {
        "id": "0uezoEuzbGra",
        "colab_type": "code",
        "colab": {}
      },
      "cell_type": "code",
      "source": [
        "user_id1 = replace_both.map(lambda x : (x[0],(x[1],x[2]))).join(user_ids).map(lambda x : (x[1][1][0],x[1][0]))\n",
        "business_id1 = user_id1.map(lambda x : (x[1][0],(x[0],x[1][1]))).join(business_ids).map(lambda x : (x[1][0][0],x[1][1][0],x[1][0][1]))"
      ],
      "execution_count": 0,
      "outputs": []
    },
    {
      "metadata": {
        "id": "MoIqp26Kbw37",
        "colab_type": "code",
        "outputId": "df0afbb9-3bd5-404d-d748-809d37e71ba2",
        "colab": {
          "base_uri": "https://localhost:8080/",
          "height": 3417
        }
      },
      "cell_type": "code",
      "source": [
        "business_id1.take(200)"
      ],
      "execution_count": 0,
      "outputs": [
        {
          "output_type": "execute_result",
          "data": {
            "text/plain": [
              "[('M', 'Cracker Barrel Old Country Store', 3.307177920074828),\n",
              " ('Jackie', 'Cracker Barrel Old Country Store', 2.261021216707332),\n",
              " ('Luz', 'Cracker Barrel Old Country Store', 4.678514413870721),\n",
              " ('Brandi', 'Cracker Barrel Old Country Store', 3.2187065579429603),\n",
              " ('Theresa', 'Cracker Barrel Old Country Store', 3.008553431945832),\n",
              " ('Nina', 'Cracker Barrel Old Country Store', 2.977133593050118),\n",
              " ('Dave', 'Cracker Barrel Old Country Store', 3.8809528149029706),\n",
              " ('Lat', 'Cracker Barrel Old Country Store', 2.910714664845699),\n",
              " ('Liori', 'Cracker Barrel Old Country Store', 3.175285749884151),\n",
              " ('Nicole', 'Cracker Barrel Old Country Store', 3.067147782918103),\n",
              " ('Brie', 'Cracker Barrel Old Country Store', 3.960036194063184),\n",
              " ('Samantha', 'Cracker Barrel Old Country Store', 1.3051553532619238),\n",
              " ('Roberto', 'Cracker Barrel Old Country Store', 2.951984063439788),\n",
              " ('Tien', 'Cracker Barrel Old Country Store', 1.9404764074514853),\n",
              " ('Julissa', 'Cracker Barrel Old Country Store', 0.9702382037257427),\n",
              " ('Jenny', 'Cracker Barrel Old Country Store', 4.703866885922111),\n",
              " ('Cindy', 'Cracker Barrel Old Country Store', 3.4828291516704857),\n",
              " ('T', 'Cracker Barrel Old Country Store', 1.5589032843117476),\n",
              " ('Lonie', 'Cracker Barrel Old Country Store', 3.2369245057527163),\n",
              " ('Will', 'Cracker Barrel Old Country Store', 1.5976057597940883),\n",
              " ('Heather', 'Cracker Barrel Old Country Store', 3.4874892962181328),\n",
              " ('Mohammad', 'Cracker Barrel Old Country Store', 4.660227127719313),\n",
              " ('Eve', 'Cracker Barrel Old Country Store', 2.495789006182239),\n",
              " ('Jason', 'Cracker Barrel Old Country Store', 3.290238492795117),\n",
              " ('Mary', 'Cracker Barrel Old Country Store', 2.8980734188275097),\n",
              " ('Rebecca', 'Cracker Barrel Old Country Store', 4.716271872173804),\n",
              " ('Linda', 'Cracker Barrel Old Country Store', 4.208941059542785),\n",
              " ('Jason', 'Cracker Barrel Old Country Store', 3.4280094807059607),\n",
              " ('Jared', 'Cracker Barrel Old Country Store', 3.0116770614973727),\n",
              " ('Holly', 'Cracker Barrel Old Country Store', 0.9702382037257427),\n",
              " ('Lisa', 'Cracker Barrel Old Country Store', 3.029006721240039),\n",
              " ('Toni', 'Cracker Barrel Old Country Store', 1.0767301460280798),\n",
              " ('Jasmine', 'Cracker Barrel Old Country Store', 4.580627249672709),\n",
              " ('Joven', 'Cracker Barrel Old Country Store', 3.5348760106931745),\n",
              " ('Dave', 'Cracker Barrel Old Country Store', 4.623270543632354),\n",
              " ('Allie', 'Cracker Barrel Old Country Store', 3.1473818838759557),\n",
              " ('Elaine', 'Cracker Barrel Old Country Store', 3.376176714974304),\n",
              " ('James', 'Cracker Barrel Old Country Store', 3.8809528149029706),\n",
              " ('Patrick', 'Cracker Barrel Old Country Store', 0.9353138113867203),\n",
              " ('Tia', 'Cracker Barrel Old Country Store', 2.599829509887463),\n",
              " ('Andrew', 'Cracker Barrel Old Country Store', 3.2908875919271168),\n",
              " ('Bob', 'Cracker Barrel Old Country Store', 0.9271369614582625),\n",
              " ('Liz', 'Cracker Barrel Old Country Store', 1.3062396127216425),\n",
              " ('Alan', 'Cracker Barrel Old Country Store', 2.3973580948007687),\n",
              " ('Daniel', 'Cracker Barrel Old Country Store', 1.7660656232711913),\n",
              " ('Camille', 'Cracker Barrel Old Country Store', 3.717192146948251),\n",
              " ('Laurie', 'Cracker Barrel Old Country Store', 2.7235763289817223),\n",
              " ('John', 'Cracker Barrel Old Country Store', 0.9420481632158604),\n",
              " ('Christopher', 'Cracker Barrel Old Country Store', 3.3818536936021957),\n",
              " ('Jason', 'Cracker Barrel Old Country Store', 3.0904064304949723),\n",
              " ('James', 'Cracker Barrel Old Country Store', 4.570380741830324),\n",
              " ('Frank', 'Cracker Barrel Old Country Store', 1.9384050188044473),\n",
              " ('Janet', 'Cracker Barrel Old Country Store', 3.092803342079128),\n",
              " ('Plumeria', 'Cracker Barrel Old Country Store', 2.169506243342635),\n",
              " ('Heather', 'Cracker Barrel Old Country Store', 1.8838907025629963),\n",
              " ('Liz', 'Cracker Barrel Old Country Store', 3.1173910995203262),\n",
              " ('Kendal', 'Cracker Barrel Old Country Store', 2.4042932122079783),\n",
              " ('J.T.', 'Cracker Barrel Old Country Store', 4.671972995472162),\n",
              " ('Will', 'Cracker Barrel Old Country Store', 3.70347763318476),\n",
              " ('Eric', 'Cracker Barrel Old Country Store', 3.014632320661309),\n",
              " ('Trixie', 'Cracker Barrel Old Country Store', 3.5652525927945193),\n",
              " ('James', 'Cracker Barrel Old Country Store', 2.7705081417343473),\n",
              " ('Bill', 'Cracker Barrel Old Country Store', 4.284674593799507),\n",
              " ('Geneva', 'Cracker Barrel Old Country Store', 2.9908831532174687),\n",
              " ('Matthew', 'Cracker Barrel Old Country Store', 3.240347207005101),\n",
              " ('Heather', 'Cracker Barrel Old Country Store', 3.14270399319774),\n",
              " ('Rocio', 'Cracker Barrel Old Country Store', 4.67164447762216),\n",
              " ('David', 'Cracker Barrel Old Country Store', 0.9702382037257427),\n",
              " ('Diane', 'Cracker Barrel Old Country Store', 0.9592359136977029),\n",
              " ('Jo', 'Cracker Barrel Old Country Store', 4.460316877692381),\n",
              " ('Jeff', 'Cracker Barrel Old Country Store', 3.6890328876969183),\n",
              " ('Jill', 'Cracker Barrel Old Country Store', 4.19644439251433),\n",
              " ('Lynda', 'Cracker Barrel Old Country Store', 4.652978687782834),\n",
              " ('George', 'Cracker Barrel Old Country Store', 3.3434201685459715),\n",
              " ('Chuck', 'Cracker Barrel Old Country Store', 3.071287514303607),\n",
              " ('robert', 'Cracker Barrel Old Country Store', 1.842931179999641),\n",
              " ('Rosie', 'Cracker Barrel Old Country Store', 4.457319391350917),\n",
              " ('Chris', 'Cracker Barrel Old Country Store', 1.8371081801085811),\n",
              " ('Diana', 'Cracker Barrel Old Country Store', 2.9426232853463157),\n",
              " ('Marty', 'Cracker Barrel Old Country Store', 4.56514918839377),\n",
              " ('Miyeon', 'Cracker Barrel Old Country Store', 3.220922217601671),\n",
              " ('Jimbos', 'Cracker Barrel Old Country Store', 2.2656184084151265),\n",
              " ('Leticia', 'Cracker Barrel Old Country Store', 3.9672859474814586),\n",
              " ('Daniel', 'Cracker Barrel Old Country Store', 2.930972893588774),\n",
              " ('Michael', 'Cracker Barrel Old Country Store', 1.26604104594996),\n",
              " ('Mikey', 'Cracker Barrel Old Country Store', 3.985845003799964),\n",
              " ('K', 'Cracker Barrel Old Country Store', 2.4650806326919907),\n",
              " ('Nick', 'Cracker Barrel Old Country Store', 1.7657315760034407),\n",
              " ('Cheryl', 'Cracker Barrel Old Country Store', 3.219709593520072),\n",
              " ('Ariana', 'Cracker Barrel Old Country Store', 4.618787765873504),\n",
              " ('Mic', 'Cracker Barrel Old Country Store', 2.4694853157678667),\n",
              " ('Erin', 'Cracker Barrel Old Country Store', 4.8511910963479465),\n",
              " ('Mr', 'Cracker Barrel Old Country Store', 2.5602967366709826),\n",
              " ('Jacquelyn', 'Cracker Barrel Old Country Store', 1.7602674088589891),\n",
              " ('George', 'Cracker Barrel Old Country Store', 3.7697154063395377),\n",
              " ('Wendy', 'Cracker Barrel Old Country Store', 0.9118314674660679),\n",
              " ('Jesus', 'Cracker Barrel Old Country Store', 2.910714664845699),\n",
              " ('G', 'Cracker Barrel Old Country Store', 2.874001037200278),\n",
              " ('Michael', 'Cracker Barrel Old Country Store', 3.7188592417796555),\n",
              " ('Don', 'Cracker Barrel Old Country Store', 1.032592983116336),\n",
              " ('Melissa Sharee', 'Cracker Barrel Old Country Store', 4.079185510953629),\n",
              " ('Linda', 'Cracker Barrel Old Country Store', 1.9404764074514853),\n",
              " ('Cory', 'Cracker Barrel Old Country Store', 4.800617048515921),\n",
              " ('Jaime', 'Cracker Barrel Old Country Store', 2.1836515147449056),\n",
              " ('Macy', 'Cracker Barrel Old Country Store', 3.0173441537297205),\n",
              " ('Ivette', 'Cracker Barrel Old Country Store', 1.7835178466253838),\n",
              " ('P', 'Cracker Barrel Old Country Store', 3.535708439316984),\n",
              " ('Erika', 'Cracker Barrel Old Country Store', 3.5985592159284585),\n",
              " ('Bobby', 'Cracker Barrel Old Country Store', 2.9831121713076656),\n",
              " ('Leigh', 'Cracker Barrel Old Country Store', 2.259397863304912),\n",
              " ('Shannon', 'Cracker Barrel Old Country Store', 0.9935308624588037),\n",
              " ('JiEun', 'Cracker Barrel Old Country Store', 4.723523468735326),\n",
              " ('Danny', 'Cracker Barrel Old Country Store', 2.3985347121458322),\n",
              " ('Anita', 'Cracker Barrel Old Country Store', 4.572885029429487),\n",
              " ('Sheri', 'Cracker Barrel Old Country Store', 0.9702382037257427),\n",
              " ('Katie', 'Cracker Barrel Old Country Store', 1.1619962225889333),\n",
              " ('Kim', 'Cracker Barrel Old Country Store', 4.571284104536591),\n",
              " ('David', 'Cracker Barrel Old Country Store', 2.579755921789858),\n",
              " ('Jeff', 'Cracker Barrel Old Country Store', 2.3351736302808686),\n",
              " ('Donna', 'Cracker Barrel Old Country Store', 0.9830969233743084),\n",
              " ('Renee', 'Cracker Barrel Old Country Store', 4.057151306106391),\n",
              " ('Monica', 'Cracker Barrel Old Country Store', 4.523299094617879),\n",
              " ('Daniel', 'Cracker Barrel Old Country Store', 3.5875229794184804),\n",
              " ('Tracy', 'Cracker Barrel Old Country Store', 3.1275059437839317),\n",
              " ('Don', 'Cracker Barrel Old Country Store', 0.9702382037257427),\n",
              " ('Ed', 'Cracker Barrel Old Country Store', 3.0245736392630906),\n",
              " ('Jason', 'Cracker Barrel Old Country Store', 4.8511910963479465),\n",
              " ('Megan', 'Cracker Barrel Old Country Store', 4.4447501418122926),\n",
              " ('Moses', 'Cracker Barrel Old Country Store', 2.8776627961981625),\n",
              " ('Enita', 'Cracker Barrel Old Country Store', 2.722104769416629),\n",
              " ('Michael', 'Cracker Barrel Old Country Store', 3.883418413404444),\n",
              " ('Grace', 'Cracker Barrel Old Country Store', 2.555085443453008),\n",
              " ('John', 'Cracker Barrel Old Country Store', 1.5338341964661693),\n",
              " ('Candice', 'Cracker Barrel Old Country Store', 1.535106928444244),\n",
              " ('Sherman', 'Cracker Barrel Old Country Store', 4.406507688009167),\n",
              " ('Viclaire', 'Cracker Barrel Old Country Store', 3.1725432597962193),\n",
              " ('Toni', 'Cracker Barrel Old Country Store', 3.6863606826198194),\n",
              " ('Veronica', 'Cracker Barrel Old Country Store', 4.8511910963479465),\n",
              " ('Chris', 'Cracker Barrel Old Country Store', 0.9562319741290604),\n",
              " ('Sharon', 'Cracker Barrel Old Country Store', 4.089547377885083),\n",
              " ('Christine', 'Cracker Barrel Old Country Store', 3.034991991670872),\n",
              " ('Becky', 'Cracker Barrel Old Country Store', 3.893657854004984),\n",
              " ('Bobby', 'Cracker Barrel Old Country Store', 3.8809528149029706),\n",
              " ('Tim', 'Cracker Barrel Old Country Store', 0.9702382037257427),\n",
              " ('Rose', 'Cracker Barrel Old Country Store', 2.9050294338296117),\n",
              " ('A', 'Cracker Barrel Old Country Store', 3.0506927010065703),\n",
              " ('Peggy', 'Cracker Barrel Old Country Store', 3.942508088366202),\n",
              " ('James', 'Cracker Barrel Old Country Store', 1.16012181450354),\n",
              " ('Jeff', 'Cracker Barrel Old Country Store', 3.821130450321804),\n",
              " ('J', 'Cracker Barrel Old Country Store', 3.574706855532003),\n",
              " ('Elias', 'Cracker Barrel Old Country Store', 2.917835749544819),\n",
              " ('Runnerlover', 'Cracker Barrel Old Country Store', 4.498547073959692),\n",
              " ('Benjamin', 'Cracker Barrel Old Country Store', 3.554122802548235),\n",
              " ('Elleyne', 'Cracker Barrel Old Country Store', 3.3604408237562358),\n",
              " ('Brett', 'Cracker Barrel Old Country Store', 3.5846036902814573),\n",
              " ('Susie', 'Cracker Barrel Old Country Store', 4.147796494063349),\n",
              " ('Brooke', 'Attract Agency', 4.927633168825803),\n",
              " ('Karen', 'Angry Crab Shack', 4.885957487327664),\n",
              " ('Rondo', 'Angry Crab Shack', 4.695823053022128),\n",
              " ('Sean', 'Angry Crab Shack', 4.4071308236098785),\n",
              " ('Glenn', 'Angry Crab Shack', 3.8429761494092327),\n",
              " ('Jose', 'Angry Crab Shack', 5.288905440143719),\n",
              " ('TC', 'Angry Crab Shack', 3.877685676100558),\n",
              " ('Kiasha', 'Angry Crab Shack', 3.0621551952662602),\n",
              " ('Bradley', 'Angry Crab Shack', 2.8735509656435707),\n",
              " ('T', 'Angry Crab Shack', 4.787920208487338),\n",
              " ('Ann', 'Angry Crab Shack', 5.175297268010501),\n",
              " ('Tari', 'Angry Crab Shack', 4.261996694335066),\n",
              " ('Cynthia', 'Angry Crab Shack', 3.970211434207773),\n",
              " ('Jenn', 'Angry Crab Shack', 3.5986116276272373),\n",
              " ('Kristen', 'Angry Crab Shack', 3.8283272552865526),\n",
              " ('Cary', 'Angry Crab Shack', 3.6621096204279078),\n",
              " ('Laurence', 'Angry Crab Shack', 2.181015332587792),\n",
              " ('Jen', 'Angry Crab Shack', 4.788486636706318),\n",
              " ('Little', 'Angry Crab Shack', 4.370433376881559),\n",
              " ('Ives', 'Angry Crab Shack', 4.8774021493333715),\n",
              " ('Brendon', 'Angry Crab Shack', 4.8774021493333715),\n",
              " ('Mely', 'Angry Crab Shack', 4.280002646359737),\n",
              " ('Lisa', 'Angry Crab Shack', 4.650663189924757),\n",
              " ('Amanda', 'Angry Crab Shack', 2.415377682959657),\n",
              " ('Nancy', 'Angry Crab Shack', 4.121150789089537),\n",
              " ('Kate', 'Angry Crab Shack', 3.4963943814859175),\n",
              " ('Marilee', 'Angry Crab Shack', 3.8303450791351876),\n",
              " ('Chris', 'Angry Crab Shack', 3.6412403005936476),\n",
              " ('Dana', 'Angry Crab Shack', 4.806026794658171),\n",
              " ('J', 'Angry Crab Shack', 2.6038306253495502),\n",
              " ('Katy', 'Angry Crab Shack', 4.041313836956049),\n",
              " ('Michael', 'Angry Crab Shack', 4.469308085443195),\n",
              " ('Ismael', 'Angry Crab Shack', 2.8246429171606247),\n",
              " ('C', 'Angry Crab Shack', 2.982511055526509),\n",
              " ('Lynny', 'Angry Crab Shack', 3.486474204824694),\n",
              " ('Daniel', 'Angry Crab Shack', 4.795125675588444),\n",
              " ('Casie', 'Angry Crab Shack', 1.0037355311962664),\n",
              " ('Gary', 'Angry Crab Shack', 1.7024295380884649),\n",
              " ('Dorthy', 'Angry Crab Shack', 4.1107058033354145),\n",
              " ('Kenda', 'Angry Crab Shack', 4.255120416730286),\n",
              " ('Mia', 'Angry Crab Shack', 3.723861887618403),\n",
              " ('Robert', 'Angry Crab Shack', 4.571651574024903),\n",
              " ('Jennifer', 'Angry Crab Shack', 4.689813080665338),\n",
              " ('Miguel', 'Angry Crab Shack', 4.572872415151424)]"
            ]
          },
          "metadata": {
            "tags": []
          },
          "execution_count": 77
        }
      ]
    },
    {
      "metadata": {
        "id": "gVvvqW4Zb2-X",
        "colab_type": "code",
        "outputId": "185e3f6e-227b-4f19-a49f-e1995e8d316f",
        "colab": {
          "base_uri": "https://localhost:8080/",
          "height": 34
        }
      },
      "cell_type": "code",
      "source": [
        "user_ids.take(1)"
      ],
      "execution_count": 0,
      "outputs": [
        {
          "output_type": "execute_result",
          "data": {
            "text/plain": [
              "[('lzlZwIpuSWXEnNS91wxjHw', ('Susan', 'None'))]"
            ]
          },
          "metadata": {
            "tags": []
          },
          "execution_count": 90
        }
      ]
    },
    {
      "metadata": {
        "id": "iuusrGuYxERJ",
        "colab_type": "code",
        "colab": {}
      },
      "cell_type": "code",
      "source": [
        "#from pyspark.sql.functions import broadcast\n",
        "#y1 = 'Chris'\n",
        "#user_name1 = user_ids.filter(lambda user1 : user1[1][0]==y1).map(lambda x : x[0])\n",
        "#user_id1 =   int_user_id_to_string.filter(lambda user2 : user2[0]==user_name1).map(lambda x : x[1])\n",
        "#rev1 = int_user_id_to_string.map(lambda x : (x[0],(x[1]))).join(user_id1)\n",
        "user_id = 80729\n",
        "user_unrated_business_RDD = review_ids.filter(lambda rating: not rating[0] == user_id ).map(lambda x : (user_id,x[1])).distinct()\n"
      ],
      "execution_count": 0,
      "outputs": []
    },
    {
      "metadata": {
        "id": "a_BiBgXC8D7y",
        "colab_type": "code",
        "outputId": "b5c2e7ed-3d93-4163-8cf8-733194516ee0",
        "colab": {
          "base_uri": "https://localhost:8080/",
          "height": 34
        }
      },
      "cell_type": "code",
      "source": [
        "int_user_id_to_string.take(1)"
      ],
      "execution_count": 0,
      "outputs": [
        {
          "output_type": "execute_result",
          "data": {
            "text/plain": [
              "[('iYXxZBb2trmIozioddpL5g', 0)]"
            ]
          },
          "metadata": {
            "tags": []
          },
          "execution_count": 101
        }
      ]
    },
    {
      "metadata": {
        "id": "U4akGT4nEuEZ",
        "colab_type": "code",
        "outputId": "ba0c942a-f580-4f17-fc94-4ff93b2082c7",
        "colab": {
          "base_uri": "https://localhost:8080/",
          "height": 34
        }
      },
      "cell_type": "code",
      "source": [
        "int_user_id_to_string.map(lambda x : (x[0],(x[1],x[1]))).take(1)"
      ],
      "execution_count": 0,
      "outputs": [
        {
          "output_type": "execute_result",
          "data": {
            "text/plain": [
              "[('iYXxZBb2trmIozioddpL5g', (0, 0))]"
            ]
          },
          "metadata": {
            "tags": []
          },
          "execution_count": 330
        }
      ]
    },
    {
      "metadata": {
        "id": "3YPL-KaTKopg",
        "colab_type": "code",
        "colab": {}
      },
      "cell_type": "code",
      "source": [
        "reverse_mapping_business_ids.take(1)"
      ],
      "execution_count": 0,
      "outputs": []
    },
    {
      "metadata": {
        "id": "qvxeFnNtNG_Z",
        "colab_type": "code",
        "outputId": "5d7b445d-b28e-4e65-cb91-248591d72405",
        "colab": {
          "base_uri": "https://localhost:8080/",
          "height": 1717
        }
      },
      "cell_type": "code",
      "source": [
        "int_business_id_to_string.take(100)"
      ],
      "execution_count": 0,
      "outputs": [
        {
          "output_type": "execute_result",
          "data": {
            "text/plain": [
              "[('O8S5hYJ1SMc8fA4QBtVujA', 0),\n",
              " ('bFzdJJ3wp3PZssNEsyU23g', 5),\n",
              " ('6OuOZAok8ikONMS_T3EzXg', 10),\n",
              " ('IbTDLI02Sq50C7B-EWK1sg', 15),\n",
              " ('5J3b7j3Fzo9ISjChmoUoUA', 20),\n",
              " ('PMDlKLd0Mxj0ngCpuUmE5Q', 25),\n",
              " ('kgffcoxT6BQp-gJ-UQ7Czw', 30),\n",
              " ('0i6GlR5YTCMlwthjqw6ZTQ', 35),\n",
              " ('2C8x0RxmqvCOmhvXce4-HA', 40),\n",
              " ('uwF2y-QHF9LgSagxxluWaw', 45),\n",
              " ('tKjW_YEP-vcuEwJ5di2HBA', 50),\n",
              " ('f2FfutZhb4F-m1Ob0EdYaw', 55),\n",
              " ('c0XiOTAsYAcsKAqxSVfDOw', 60),\n",
              " ('y-4xTZNKVm8mAZpiXMS5ZA', 65),\n",
              " ('Ju2tEB-zllh9FoCmaQhPOw', 70),\n",
              " ('jaKf1HVjEEsSMoFvpQdMNQ', 75),\n",
              " ('XEGzpaKszjDXqSJtLYwKsg', 80),\n",
              " ('6nWyU5V3yINOq_DNWbpRDg', 85),\n",
              " ('RcxVK_OEXv3MccIo0nYMZg', 90),\n",
              " ('WUA2Rhlb43HBw9sT2R0wmg', 95),\n",
              " ('6sBCncAPTvC_xN64M2Qarw', 100),\n",
              " ('6yvgYqjS7T1P-PntaZAGQQ', 105),\n",
              " ('N9BN9ldVl1FNzcB9_eAstw', 110),\n",
              " ('BQJjDcSO8GwPUbCx1HRmKw', 115),\n",
              " ('2j5hnwYzS-YLJn6IFqloCw', 120),\n",
              " ('rFeJgbnLxtcdqIpBdhpxtQ', 125),\n",
              " ('RguuXiKGwzhmFlh1WhWf9Q', 130),\n",
              " ('kWh1glu3CwBAi-YRhtXwYA', 135),\n",
              " ('735UkyT4px_oeW3iyotGmA', 140),\n",
              " ('zhxnD7J5_sCrKSw5cwI9dQ', 145),\n",
              " ('_T8qy9XAKAFLJdmoLg1Q-g', 150),\n",
              " ('ei7Sc2UrG4cdXcocfTrppQ', 155),\n",
              " ('A1R8iIeAFlbZWUhHlnaszw', 160),\n",
              " ('8vA1d9_w4hBjOcrM7mNWFg', 165),\n",
              " ('zyaRXoJkyNd_RPPtGrmMlA', 170),\n",
              " ('U2Fnxb65dRRy7kVvc4THpA', 175),\n",
              " ('X72UR4q3Z30BtWExT1id9g', 180),\n",
              " ('UThcV90y32v3MUWB-4f7_Q', 185),\n",
              " ('F7OsiFk9aLZtqZczA84xpw', 190),\n",
              " ('6TQqGf3zU2BWHVbnK2MHzQ', 195),\n",
              " ('ZyKfASWZAMD10xw70C3vFg', 200),\n",
              " ('WwGG-NPpxyyAB_H4UdyBbA', 205),\n",
              " ('9_XR2wb9v3wdKfwUZW6rlA', 210),\n",
              " ('TJGfIexZnON83nHOowhaog', 215),\n",
              " ('PPxR_dfUlOnp1f6V4P8Eig', 220),\n",
              " ('XDKFxfm4aDtCPEd4-cOTDg', 225),\n",
              " ('CQju9ES2pVbYxtQBejyFIQ', 230),\n",
              " ('_lLI8zKjvRsCan533duEGw', 235),\n",
              " ('ZPhAKyO80bDtnZsqk_TlDA', 240),\n",
              " ('FjlJ-G7weMuAqCg-swy-Zw', 245),\n",
              " ('pIzuXtFdkj8fHuzJfYiwqw', 250),\n",
              " ('xVpamVjKGDRTGv5BeRG5Cw', 255),\n",
              " ('9UQOswnKg6maprhgBtMUVg', 260),\n",
              " ('2uciB15ajUrIrdvVrx4n3A', 265),\n",
              " ('AAcaGYggq4RBbFdEueB2qw', 270),\n",
              " ('Zh6fxrqsKqdSVmTK3roxBQ', 275),\n",
              " ('TpptivW9DXAoHo2JxK1Ssg', 280),\n",
              " ('Ksk5cLav4OtbUtpRGp5b4g', 285),\n",
              " ('4HumitPjf9wG64pDraNjyA', 290),\n",
              " ('eva56motCJcevOwKzyQO1g', 295),\n",
              " ('AK8b_5FfxiSyAlaJJjW1fg', 300),\n",
              " ('sh69ApUyPhAltAMpv5vX3w', 305),\n",
              " ('ITy0inRPpnKa_4ent9Y0oA', 310),\n",
              " ('2Zjr-wXPQJfw1Ew_ez8i0Q', 315),\n",
              " ('3F3At4YBSHEnG7uMinQPnQ', 320),\n",
              " ('Pt62SfkJSB9S8KQZwNueew', 325),\n",
              " ('DyW1TFRy_lnnmDkkOtKWHA', 330),\n",
              " ('Ufo0Papm3oyoCfBvnsJH7g', 335),\n",
              " ('tX2AIWiPq565neflyBKLDw', 340),\n",
              " ('glI45bNmgyImCXQpOAaRYQ', 345),\n",
              " ('pO1lsp8c9aBVlKmn1L9mOg', 350),\n",
              " ('sOJY_qnkmBttKnMR4yypaA', 355),\n",
              " ('8EnvG3jDTLfh1LqTPOrqQA', 360),\n",
              " ('R6cznooObGDV-_DU-uZViQ', 365),\n",
              " ('V2td86VD0ezfCJcmUz-ddQ', 370),\n",
              " ('SS0zUU0cUkQd1Lp_h3tgaQ', 375),\n",
              " ('b0la3LqC0mIlBVlQDyMyTQ', 380),\n",
              " ('yh_rFcdulytQ0b3LpoYxVQ', 385),\n",
              " ('um0TMsikGigdQtxDe_qJlg', 390),\n",
              " ('so_geG-9KLmmNTQaxWAh-w', 395),\n",
              " ('D_VpAGPNEde64N0CwXMkiw', 400),\n",
              " ('ZQ-7uFQk21NHoOzJfhEjBw', 405),\n",
              " ('ohYgabP6PqkNsF0vnZUxeg', 410),\n",
              " ('bwZqlLj8oYaML3ndlybeDg', 415),\n",
              " ('h8Pcv2krjGho2T-Mmgz7hA', 420),\n",
              " ('D1TaFES4phv65RmsM8VCiA', 425),\n",
              " ('d9sMa6XsIcv845nNAucD_g', 430),\n",
              " ('t10sjYu37f9I4O6HSqCMjg', 435),\n",
              " ('52p3-bOWSFevsdH_gzqNGw', 440),\n",
              " ('8GVGzFgTKNfPixL143Zadw', 445),\n",
              " ('wOeY-LTiTogJ7Fk92XiMCg', 450),\n",
              " ('6LZEU5usBZ8oK8g3F8msHA', 455),\n",
              " ('HiHUTSxpyKhQqLFti3Xnzw', 460),\n",
              " ('1y64UsTx6ikxoaCAY42qHQ', 465),\n",
              " ('xCqxR2iYEgHzPPvUr0Kh-w', 470),\n",
              " ('c4qE3ygdEQUD9dZjganavA', 475),\n",
              " ('CQqi9pqZwsslXF1aOVg8fQ', 480),\n",
              " ('3fJuzXoTHmcc05iQKbWVvQ', 485),\n",
              " ('lHazo7qKEcSc62PMUW3oaw', 490),\n",
              " ('2ipAUIW4kVsE6nl4aREgag', 495)]"
            ]
          },
          "metadata": {
            "tags": []
          },
          "execution_count": 347
        }
      ]
    },
    {
      "metadata": {
        "id": "XGPK9BcSKKSL",
        "colab_type": "code",
        "colab": {}
      },
      "cell_type": "code",
      "source": [
        "user_unrated_business_RDD.join(int_business_id_to_string.map(lambda x :(x[1],x[0]))).take(1)"
      ],
      "execution_count": 0,
      "outputs": []
    },
    {
      "metadata": {
        "id": "_BSK_1-I4JLB",
        "colab_type": "code",
        "colab": {}
      },
      "cell_type": "code",
      "source": [
        "user_ids_replace = int_user_id_to_string.map(lambda x : (x[0],(x[1]))).join(user_unrated_business_RDD.map(lambda x : (x[1],(x[0])))).map(lambda x : (x[1][0],x[1][1]))\n",
        "requested_ids =    int_business_id_to_string.keyBy(lambda x: x[0]).rightOuterJoin(user_ids_replace.map(lambda x: (x[1], x[0]))).map(lambda x : (x[1][1], x[1][0][1]))     \n",
        "user_unrated_business_intids_rdd = requested_ids\n",
        "predict_ratings = model1.predictAll(user_unrated_business_intids_rdd)\n",
        "user_ids_business_ids_int=predict_ratings.map(lambda x: (x[0],(x[1],x[2])))     #converting int id to string\n",
        "user_ids_to_string_replaced = reverse_mapping_user_ids.join(user_ids_business_ids_int);\n",
        "replace_both = user_ids_to_string_replaced.keyBy(lambda x: x[1][1][0]).join(self.reverse_mapping_business_ids).map(lambda x: (x[1][0][1][0],x[1][1],x[1][0][1][1][1]))       \n",
        "predict_ratings_string = replace_both\n",
        "user_names = user_ids.map(lambda x:(x[0],x[1][0]))\n",
        "business_names = business_ids.map(lambda x:(x[0],(x[1][0],x[1][1])))\n",
        "predict_ratings_string=predict_ratings_string.map(lambda x: (x[0],(x[1],x[2]))).join(user_names).keyBy(lambda x:x[1][0][0]).join(business_names).map(lambda x:(x[1][0][0],x[0],x[1][0][1][0][1],x[1][0][1][1],x[1][1][0],x[1][1][1])).cache()     \n",
        "print(predict_ratings_string.take(10))\n",
        "ratings = predict_ratings_string.filter(lambda r: r[2]>=3).takeOrdered(count,key = lambda x: -x[2])\n"
      ],
      "execution_count": 0,
      "outputs": []
    },
    {
      "metadata": {
        "id": "mgkukTpfJYCm",
        "colab_type": "code",
        "colab": {}
      },
      "cell_type": "code",
      "source": [
        "requested_ids.take(1)"
      ],
      "execution_count": 0,
      "outputs": []
    },
    {
      "metadata": {
        "id": "iRgM3oww5bmd",
        "colab_type": "code",
        "colab": {}
      },
      "cell_type": "code",
      "source": [
        "predictions = sc.parallelize(model1.recommendProducts(80729,10))     #recommended products for user id 80729\n",
        "pred1 = predictions.map(lambda x : (x[0],(x[1],x[2])))\n",
        "user_ids_to_string_replaced = reverse_mapping_user_ids.join(pred1)   #replacing user ids\n",
        "replace_both = user_ids_to_string_replaced.keyBy(lambda x: x[1][1][0]).join(reverse_mapping_business_ids).map(lambda x: (x[1][0][1][0],x[1][1],x[1][0][1][1][1]))       \n",
        "user_id2 = replace_both.map(lambda x : (x[0],(x[1],x[2]))).join(user_ids).map(lambda x : (x[1][1][0],x[1][0]))\n",
        "business_id2 = user_id2.map(lambda x : (x[1][0],(x[0],x[1][1]))).join(business_ids).map(lambda x : (x[1][0][0],x[1][1][0]))\n",
        "#sc.parallelize(model1.recommendProducts(80729,10)).map(lambda x : (x[0],x[1])).take(10)"
      ],
      "execution_count": 0,
      "outputs": []
    },
    {
      "metadata": {
        "id": "JUkdwO3raaqP",
        "colab_type": "code",
        "colab": {}
      },
      "cell_type": "code",
      "source": [
        ""
      ],
      "execution_count": 0,
      "outputs": []
    },
    {
      "metadata": {
        "id": "CGEXN-VCDfhf",
        "colab_type": "code",
        "outputId": "d74cb582-7de8-4fe5-a823-f8fe445c37ae",
        "colab": {
          "base_uri": "https://localhost:8080/",
          "height": 187
        }
      },
      "cell_type": "code",
      "source": [
        "business_id2.take(10)    #recommended products for user id 80729 ('Jeanette')"
      ],
      "execution_count": 0,
      "outputs": [
        {
          "output_type": "execute_result",
          "data": {
            "text/plain": [
              "[('Jeanette', \"18/8 Fine Men's Salon - Pittsburgh\"),\n",
              " ('Jeanette', 'Monsoon VIP of Las Vegas'),\n",
              " ('Jeanette', 'Gecko Shade Solutions'),\n",
              " ('Jeanette', 'Savant PCs'),\n",
              " ('Jeanette', 'Taffer Computers'),\n",
              " ('Jeanette', 'Adriana T Photography'),\n",
              " ('Jeanette', 'Johnson Sunrooms'),\n",
              " ('Jeanette', 'Michael Smith, DDS'),\n",
              " ('Jeanette', 'Donnelly Mobile RV Maintenance'),\n",
              " ('Jeanette', 'Cloud 9 Sports')]"
            ]
          },
          "metadata": {
            "tags": []
          },
          "execution_count": 85
        }
      ]
    },
    {
      "metadata": {
        "id": "oCOqL4HFD5iC",
        "colab_type": "code",
        "outputId": "bd56e3ca-6873-427e-8d84-93fdbac33875",
        "colab": {
          "base_uri": "https://localhost:8080/",
          "height": 34
        }
      },
      "cell_type": "code",
      "source": [
        "ratings.take(1)"
      ],
      "execution_count": 0,
      "outputs": [
        {
          "output_type": "execute_result",
          "data": {
            "text/plain": [
              "[(80729, 1030, 5)]"
            ]
          },
          "metadata": {
            "tags": []
          },
          "execution_count": 109
        }
      ]
    },
    {
      "metadata": {
        "id": "Z0c8lIgy55Ep",
        "colab_type": "code",
        "outputId": "a4a2687c-d92f-4c06-8dbc-f33c686a862b",
        "colab": {
          "base_uri": "https://localhost:8080/",
          "height": 187
        }
      },
      "cell_type": "code",
      "source": [
        "ratings.take(10)"
      ],
      "execution_count": 0,
      "outputs": [
        {
          "output_type": "execute_result",
          "data": {
            "text/plain": [
              "[(80729, 1030, 5),\n",
              " (765206, 1030, 5),\n",
              " (1473503, 1030, 5),\n",
              " (690315, 1030, 4),\n",
              " (228962, 1030, 5),\n",
              " (1381297, 1030, 5),\n",
              " (175508, 6785, 5),\n",
              " (316905, 6785, 1),\n",
              " (1230532, 6785, 1),\n",
              " (1018883, 6785, 4)]"
            ]
          },
          "metadata": {
            "tags": []
          },
          "execution_count": 95
        }
      ]
    },
    {
      "metadata": {
        "id": "0vQcpifQaoyL",
        "colab_type": "code",
        "colab": {}
      },
      "cell_type": "code",
      "source": [
        "predictions = sc.parallelize(model1.recommendProducts(765206,10))     #recommended products for user id 80729\n",
        "pred1 = predictions.map(lambda x : (x[0],(x[1],x[2])))\n",
        "user_ids_to_string_replaced = reverse_mapping_user_ids.join(pred1)   #replacing user ids\n",
        "replace_both = user_ids_to_string_replaced.keyBy(lambda x: x[1][1][0]).join(reverse_mapping_business_ids).map(lambda x: (x[1][0][1][0],x[1][1],x[1][0][1][1][1]))       \n",
        "user_id2 = replace_both.map(lambda x : (x[0],(x[1],x[2]))).join(user_ids).map(lambda x : (x[1][1][0],x[1][0]))\n",
        "business_id2 = user_id2.map(lambda x : (x[1][0],(x[0],x[1][1]))).join(business_ids).map(lambda x : (x[1][0][0],x[1][1][0]))\n",
        "#sc.parallelize(model1.recommendProducts(80729,10)).map(lambda x : (x[0],x[1])).take(10)"
      ],
      "execution_count": 0,
      "outputs": []
    },
    {
      "metadata": {
        "id": "ceXHgJtMap2x",
        "colab_type": "code",
        "outputId": "f46bc170-4615-408a-f845-64da0082601d",
        "colab": {
          "base_uri": "https://localhost:8080/",
          "height": 187
        }
      },
      "cell_type": "code",
      "source": [
        "business_id2.take(10)"
      ],
      "execution_count": 0,
      "outputs": [
        {
          "output_type": "execute_result",
          "data": {
            "text/plain": [
              "[('ian', \"18/8 Fine Men's Salon - Pittsburgh\"),\n",
              " ('ian', 'Monsoon VIP of Las Vegas'),\n",
              " ('ian', 'Gecko Shade Solutions'),\n",
              " ('ian', 'Savant PCs'),\n",
              " ('ian', 'Taffer Computers'),\n",
              " ('ian', 'Adriana T Photography'),\n",
              " ('ian', 'Johnson Sunrooms'),\n",
              " ('ian', 'Michael Smith, DDS'),\n",
              " ('ian', 'Donnelly Mobile RV Maintenance'),\n",
              " ('ian', 'Cloud 9 Sports')]"
            ]
          },
          "metadata": {
            "tags": []
          },
          "execution_count": 88
        }
      ]
    },
    {
      "metadata": {
        "id": "0N1D5s6ICx-u",
        "colab_type": "code",
        "outputId": "e5beb6a0-88d8-4a99-e0ac-f314892ebd76",
        "colab": {
          "base_uri": "https://localhost:8080/",
          "height": 34
        }
      },
      "cell_type": "code",
      "source": [
        "int_user_id_to_string.take(1)"
      ],
      "execution_count": 0,
      "outputs": [
        {
          "output_type": "execute_result",
          "data": {
            "text/plain": [
              "[('iYXxZBb2trmIozioddpL5g', 0)]"
            ]
          },
          "metadata": {
            "tags": []
          },
          "execution_count": 326
        }
      ]
    },
    {
      "metadata": {
        "id": "bcUoUNxdCgnL",
        "colab_type": "code",
        "colab": {}
      },
      "cell_type": "code",
      "source": [
        "model1.predictAll(user_unrated_business_intids_rdd)"
      ],
      "execution_count": 0,
      "outputs": []
    },
    {
      "metadata": {
        "id": "QeJwiACRxyAk",
        "colab_type": "code",
        "outputId": "c082f1ce-544a-4c6b-e6d9-96d7ac53f617",
        "colab": {
          "base_uri": "https://localhost:8080/",
          "height": 34
        }
      },
      "cell_type": "code",
      "source": [
        "user_unrated_business_RDD.take(1)"
      ],
      "execution_count": 0,
      "outputs": [
        {
          "output_type": "execute_result",
          "data": {
            "text/plain": [
              "[(80729, '_DuPG5sSEwZcgfjdndQc4A')]"
            ]
          },
          "metadata": {
            "tags": []
          },
          "execution_count": 304
        }
      ]
    },
    {
      "metadata": {
        "id": "2HRMT9xfEtJt",
        "colab_type": "code",
        "colab": {}
      },
      "cell_type": "code",
      "source": [
        "int_user_id_to_string = user_ids.map(lambda x: x[0]).distinct().zipWithUniqueId().cache()\n",
        "int_business_id_to_string = business_ids.map(lambda x: x[0]).distinct().zipWithUniqueId().cache()\n",
        "reverse_mapping_user_ids = int_user_id_to_string.map(lambda x: (x[1], x[0]))\n",
        "reverse_mapping_business_ids = int_business_id_to_string.map(lambda x: (x[1], x[0]))\n",
        "predictions = predictions.map(lambda x : (x[0],(x[1],x[2])))\n",
        "user_ids_to_string_replaced = reverse_mapping_user_ids.join(predictions)\n",
        "replace_both = user_ids_to_string_replaced.keyBy(lambda x : x[1][1][0]).join(reverse_mapping_business_ids).map(lambda x : (x[1][0][1][0],x[1][1],x[1][0][1][1][1]))\n",
        "\n",
        "\n"
      ],
      "execution_count": 0,
      "outputs": []
    },
    {
      "metadata": {
        "id": "tHL19fT1HvLW",
        "colab_type": "code",
        "outputId": "ada27913-1735-4fa4-a14f-0c5db11ee29f",
        "colab": {
          "base_uri": "https://localhost:8080/",
          "height": 34
        }
      },
      "cell_type": "code",
      "source": [
        "user_ids_to_string_replaced.take(1)"
      ],
      "execution_count": 0,
      "outputs": [
        {
          "output_type": "execute_result",
          "data": {
            "text/plain": [
              "[(1473503, ('tQb3Os_ph9glJqGIW-PdHA', (1030, 4.838772470570867)))]"
            ]
          },
          "metadata": {
            "tags": []
          },
          "execution_count": 146
        }
      ]
    },
    {
      "metadata": {
        "id": "_K8FyseGJTOY",
        "colab_type": "code",
        "outputId": "be3c84c9-dbcf-4197-f1d9-76c05fd6d811",
        "colab": {
          "base_uri": "https://localhost:8080/",
          "height": 34
        }
      },
      "cell_type": "code",
      "source": [
        "replace_both.take(1)"
      ],
      "execution_count": 0,
      "outputs": [
        {
          "output_type": "execute_result",
          "data": {
            "text/plain": [
              "[('tQb3Os_ph9glJqGIW-PdHA', 'J1hR6fcmGWUACBXQVQkhjw', 4.838772470570867)]"
            ]
          },
          "metadata": {
            "tags": []
          },
          "execution_count": 147
        }
      ]
    },
    {
      "metadata": {
        "id": "FpPqvi0VkY5Y",
        "colab_type": "code",
        "colab": {}
      },
      "cell_type": "code",
      "source": [
        "rank = 4 \n",
        "training_RDD,validation_RDD,test_RDD = ratings.randomSplit([6,2,2],seed=0)\n",
        "validation_for_predict_RDD = validation_RDD.map(lambda x : (x[0],x[1]))\n",
        "test_for_predict_RDD = test_RDD.map(lambda x : (x[0],x[1]))\n",
        "\n",
        "model2 = ALS.train(training_RDD,rank,seed=5,iterations=10,lambda_=regularization_parameter)\n",
        "  "
      ],
      "execution_count": 0,
      "outputs": []
    },
    {
      "metadata": {
        "id": "3zUCI9kIQM4B",
        "colab_type": "code",
        "colab": {}
      },
      "cell_type": "code",
      "source": [
        "predictions = model2.predictAll(validation_for_predict_RDD).map(lambda r : ((r[0],r[1]),r[2]))\n",
        "rates_and_preds = validation_RDD.map(lambda r : (((int(r[0]) , int(r[1])) , float(r[2]) ))).join(predictions)"
      ],
      "execution_count": 0,
      "outputs": []
    },
    {
      "metadata": {
        "id": "FuagJhilQXIW",
        "colab_type": "code",
        "outputId": "41a19bb0-3547-48d7-a035-43456cb30390",
        "colab": {
          "base_uri": "https://localhost:8080/",
          "height": 697
        }
      },
      "cell_type": "code",
      "source": [
        "rates_and_preds.take(40)"
      ],
      "execution_count": 0,
      "outputs": [
        {
          "output_type": "execute_result",
          "data": {
            "text/plain": [
              "[((636756, 60620), (5.0, 5.612857384777088)),\n",
              " ((698720, 75140), (4.0, 1.9815239988974893)),\n",
              " ((900120, 20666), (1.0, 4.658607132454074)),\n",
              " ((1091566, 39166), (5.0, 3.3930520698167976)),\n",
              " ((1296222, 55046), (5.0, 6.0356731598917275)),\n",
              " ((1293209, 113301), (4.0, 2.3404839635181753)),\n",
              " ((731398, 114146), (4.0, 4.635030645130406)),\n",
              " ((537774, 186796), (5.0, 3.8585297515474775)),\n",
              " ((242983, 2537), (3.0, 2.490129945580229)),\n",
              " ((927623, 49257), (2.0, 3.9166185017209223)),\n",
              " ((1197280, 91892), (5.0, 2.890776080490621)),\n",
              " ((1017998, 139952), (2.0, 2.905334012566458)),\n",
              " ((596291, 31663), (5.0, 4.573511352292801)),\n",
              " ((658522, 138208), (5.0, 4.300026864273794)),\n",
              " ((64172, 62394), (1.0, 1.5774115936297601)),\n",
              " ((839764, 123900), (1.0, 3.0122438648665573)),\n",
              " ((1061944, 137780), (5.0, 3.677264859848247)),\n",
              " ((855784, 163070), (2.0, 0.4880267047271367)),\n",
              " ((1127626, 70996), (2.0, 1.7959458448770576)),\n",
              " ((541361, 51587), (5.0, 3.9037784361020282)),\n",
              " ((471871, 160707), (4.0, 3.530573827200418)),\n",
              " ((1458956, 186382), (5.0, 4.4894739004603155)),\n",
              " ((880975, 23733), (1.0, 3.265490970451184)),\n",
              " ((794380, 39334), (5.0, 5.001777143965832)),\n",
              " ((1458586, 78694), (5.0, 4.446728809371821)),\n",
              " ((359660, 107114), (4.0, 4.129260182252105)),\n",
              " ((44301, 122155), (5.0, 4.68412455107989)),\n",
              " ((662169, 172075), (1.0, 1.8091375862146712)),\n",
              " ((1374843, 172075), (4.0, 0.48840062718925825)),\n",
              " ((1210420, 48246), (4.0, 3.3027096062647234)),\n",
              " ((271072, 89516), (5.0, 3.5462094113742317)),\n",
              " ((720072, 94826), (4.0, 3.926926796669548)),\n",
              " ((1519786, 95126), (1.0, 2.543658141475314)),\n",
              " ((1387241, 136521), (3.0, 3.5937074633109103)),\n",
              " ((929283, 178661), (5.0, 4.086702756771022)),\n",
              " ((667083, 31357), (5.0, 2.784576802245802)),\n",
              " ((832304, 42402), (4.0, 4.2859819875802545)),\n",
              " ((874398, 154402), (3.0, 2.4879682009894335)),\n",
              " ((271101, 180257), (5.0, 3.929773432497784)),\n",
              " ((765506, 80038), (3.0, 3.112670335081996))]"
            ]
          },
          "metadata": {
            "tags": []
          },
          "execution_count": 216
        }
      ]
    },
    {
      "metadata": {
        "id": "A3zlTv6AQi4u",
        "colab_type": "code",
        "outputId": "2b5e1413-8862-4b7c-c38b-4407c798bb95",
        "colab": {
          "base_uri": "https://localhost:8080/",
          "height": 34
        }
      },
      "cell_type": "code",
      "source": [
        "error = math.sqrt(rates_and_preds.map(lambda r: (r[1][0] - r[1][1])**2).mean())\n",
        "print(error)"
      ],
      "execution_count": 0,
      "outputs": [
        {
          "output_type": "stream",
          "text": [
            "1.8710013610070437\n"
          ],
          "name": "stdout"
        }
      ]
    },
    {
      "metadata": {
        "id": "NeTCWrbYRX3f",
        "colab_type": "code",
        "colab": {}
      },
      "cell_type": "code",
      "source": [
        ""
      ],
      "execution_count": 0,
      "outputs": []
    }
  ]
}